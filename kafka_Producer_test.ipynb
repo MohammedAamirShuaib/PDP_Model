{
 "cells": [
  {
   "cell_type": "code",
   "execution_count": 1,
   "metadata": {},
   "outputs": [],
   "source": [
    "from time import sleep\n",
    "import json\n",
    "from kafka import KafkaProducer\n",
    "from kafka import KafkaConsumer"
   ]
  },
  {
   "cell_type": "code",
   "execution_count": 2,
   "metadata": {},
   "outputs": [],
   "source": [
    "producer = KafkaProducer(bootstrap_servers=['54.175.181.170:9092'],\n",
    "                         value_serializer=lambda x: \n",
    "                         json.dumps(x).encode('utf-8'))"
   ]
  },
  {
   "cell_type": "code",
   "execution_count": 3,
   "metadata": {},
   "outputs": [],
   "source": [
    "# for e in range(10):\n",
    "#     data = {'number' : e}\n",
    "#     producer.send('test-kritika-O360-timeline-828', value=data)"
   ]
  },
  {
   "cell_type": "code",
   "execution_count": 7,
   "metadata": {},
   "outputs": [],
   "source": [
    "# import csv\n",
    "# import json\n",
    "\n",
    "# csvfile = open('data1859_ped.csv', 'r')\n",
    "# jsonfile = open('file.json', 'w')\n",
    "\n",
    "# fieldnames = (\"UUID\",\"Resp Id\",\"URL\",\"htmlLink\")\n",
    "# reader = csv.DictReader( csvfile, fieldnames)\n",
    "# for row in reader:\n",
    "#     json.dump(row, jsonfile)\n",
    "#     jsonfile.write('\\n')"
   ]
  },
  {
   "cell_type": "code",
   "execution_count": 8,
   "metadata": {},
   "outputs": [],
   "source": [
    "import pandas as pd\n",
    "csv_file = pd.DataFrame(pd.read_csv(\"data1859_ped.csv\", sep = \",\", header = 0, index_col = False))\n",
    "csv_file.to_json(\"data_json.json\", orient = \"records\", date_format = \"epoch\", double_precision = 10, force_ascii = True, date_unit = \"ms\", default_handler = None)"
   ]
  },
  {
   "cell_type": "code",
   "execution_count": 11,
   "metadata": {},
   "outputs": [],
   "source": [
    "# Python program to read CSV file line by line\n",
    "# import necessary packages\n",
    "import csv\n",
    "  \n",
    "# Open file \n",
    "with open('data_json.json') as file_obj:\n",
    "      \n",
    "    # Create reader object by passing the file \n",
    "    # object to reader method\n",
    "    reader_obj = json.load(file_obj)\n",
    "\n",
    "    # Iterate over each row in the csv \n",
    "    # file using reader object\n",
    "    for row in reader_obj:\n",
    "        data = json.dumps(row)\n",
    "        producer.send('test_python_5', value=data)"
   ]
  }
 ],
 "metadata": {
  "kernelspec": {
   "display_name": "Python 3.7.9 ('kafka': venv)",
   "language": "python",
   "name": "python3"
  },
  "language_info": {
   "codemirror_mode": {
    "name": "ipython",
    "version": 3
   },
   "file_extension": ".py",
   "mimetype": "text/x-python",
   "name": "python",
   "nbconvert_exporter": "python",
   "pygments_lexer": "ipython3",
   "version": "3.7.9"
  },
  "orig_nbformat": 4,
  "vscode": {
   "interpreter": {
    "hash": "69ecb9509d58f00115465ee73f91e6e110352cc81d3c7fa92ac752c0fee64528"
   }
  }
 },
 "nbformat": 4,
 "nbformat_minor": 2
}
