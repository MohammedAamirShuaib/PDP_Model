{
 "cells": [
  {
   "cell_type": "code",
   "execution_count": 2,
   "metadata": {},
   "outputs": [],
   "source": [
    "from time import sleep\n",
    "from json import dumps\n",
    "from kafka import KafkaProducer\n",
    "from kafka import KafkaConsumer"
   ]
  },
  {
   "cell_type": "code",
   "execution_count": 7,
   "metadata": {},
   "outputs": [],
   "source": [
    "producer = KafkaProducer(bootstrap_servers=['54.175.181.170:9092'],\n",
    "                         value_serializer=lambda x: \n",
    "                         dumps(x).encode('utf-8'))"
   ]
  },
  {
   "cell_type": "code",
   "execution_count": 8,
   "metadata": {},
   "outputs": [],
   "source": [
    "for e in range(10):\n",
    "    data = {'number' : e}\n",
    "    producer.send('test_python_2', value=data)\n",
    "    sleep(1)"
   ]
  },
  {
   "cell_type": "code",
   "execution_count": 7,
   "metadata": {},
   "outputs": [],
   "source": [
    "bootstrap_servers = ['54.175.181.170:9092']\n",
    "consumer = KafkaConsumer(bootstrap_servers=bootstrap_servers)"
   ]
  },
  {
   "cell_type": "code",
   "execution_count": 8,
   "metadata": {},
   "outputs": [],
   "source": [
    "topicName = 'test-kritika-O360-timeline-828'\n",
    "consumer.subscribe([topicName])"
   ]
  },
  {
   "cell_type": "code",
   "execution_count": 9,
   "metadata": {},
   "outputs": [
    {
     "name": "stdout",
     "output_type": "stream",
     "text": [
      "Topic Name=test-kritika-O360-timeline-828,Message=b'{\"number\": 0}'\n",
      "Topic Name=test-kritika-O360-timeline-828,Message=b'{\"number\": 1}'\n",
      "Topic Name=test-kritika-O360-timeline-828,Message=b'{\"number\": 2}'\n",
      "Topic Name=test-kritika-O360-timeline-828,Message=b'{\"number\": 3}'\n",
      "Topic Name=test-kritika-O360-timeline-828,Message=b'{\"number\": 4}'\n",
      "Topic Name=test-kritika-O360-timeline-828,Message=b'{\"number\": 5}'\n",
      "Topic Name=test-kritika-O360-timeline-828,Message=b'{\"number\": 6}'\n",
      "Topic Name=test-kritika-O360-timeline-828,Message=b'{\"number\": 7}'\n",
      "Topic Name=test-kritika-O360-timeline-828,Message=b'{\"number\": 8}'\n",
      "Topic Name=test-kritika-O360-timeline-828,Message=b'{\"number\": 9}'\n"
     ]
    }
   ],
   "source": [
    "for msg in consumer:\n",
    "    print(\"Topic Name=%s,Message=%s\"%(msg.topic,msg.value))"
   ]
  },
  {
   "cell_type": "code",
   "execution_count": null,
   "metadata": {},
   "outputs": [],
   "source": []
  }
 ],
 "metadata": {
  "kernelspec": {
   "display_name": "Python 3.7.9 ('pdp': venv)",
   "language": "python",
   "name": "python3"
  },
  "language_info": {
   "codemirror_mode": {
    "name": "ipython",
    "version": 3
   },
   "file_extension": ".py",
   "mimetype": "text/x-python",
   "name": "python",
   "nbconvert_exporter": "python",
   "pygments_lexer": "ipython3",
   "version": "3.7.9"
  },
  "orig_nbformat": 4,
  "vscode": {
   "interpreter": {
    "hash": "adf9b87b736fe7ead912b8de7b38c59a67aaf023bff2799aed2a1c565be227ac"
   }
  }
 },
 "nbformat": 4,
 "nbformat_minor": 2
}
