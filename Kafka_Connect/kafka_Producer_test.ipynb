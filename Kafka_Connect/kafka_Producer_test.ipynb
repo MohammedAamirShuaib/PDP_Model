{
 "cells": [
  {
   "cell_type": "code",
   "execution_count": 1,
   "metadata": {},
   "outputs": [],
   "source": [
    "from time import sleep\n",
    "import json\n",
    "import pandas as pd\n",
    "from kafka import KafkaProducer\n",
    "from kafka import KafkaConsumer"
   ]
  },
  {
   "cell_type": "code",
   "execution_count": 11,
   "metadata": {},
   "outputs": [],
   "source": [
    "producer = KafkaProducer(bootstrap_servers=['54.175.181.170:9092'],\n",
    "                         value_serializer=lambda x: \n",
    "                         json.dumps(x).encode('utf-8'))"
   ]
  },
  {
   "cell_type": "code",
   "execution_count": 12,
   "metadata": {},
   "outputs": [],
   "source": [
    "df = pd.read_csv(r\"incoming_data.csv\")\n",
    "data_dict = df.to_dict('records')"
   ]
  },
  {
   "cell_type": "code",
   "execution_count": 13,
   "metadata": {},
   "outputs": [],
   "source": [
    "for row in data_dict:\n",
    "    producer.send('btest_testing_input', value=row)"
   ]
  },
  {
   "cell_type": "code",
   "execution_count": 2,
   "metadata": {},
   "outputs": [],
   "source": [
    "with open('8888.txt') as f:\n",
    "    lines = f.readlines()"
   ]
  },
  {
   "cell_type": "code",
   "execution_count": 13,
   "metadata": {},
   "outputs": [],
   "source": [
    "rows = []\n",
    "for line in lines:\n",
    "    line.replace('\\n', '')\n",
    "    rows.append(line)"
   ]
  },
  {
   "cell_type": "code",
   "execution_count": 14,
   "metadata": {},
   "outputs": [
    {
     "data": {
      "text/plain": [
       "['{\"requestString\":\"\",\"searchInput\":\"\",\"host\":\"www.google.com\",\"searchUrl\":\"\",\"href\":\"https://www.google.com/\",\"timeSpentOnPage\":\"4.667\",\"longitude\":\"77.6306688\",\"latitude\":\"13.0056192\",\"locale\":\"en-US\",\"timeSpentOnTask\":\"184\",\"timeUnit\":\"seconds\",\"ipAddress\":null,\"operatingSystem\":\"Windows\",\"browserName\":\"Chrome\",\"city\":null,\"startDate\":\"2022-08-23\",\"startTime\":\"2022-08-23T07:39:52.098+0000\",\"clickedUrl\":\"\",\"deviceName\":\"Windows\",\"osVersion\":\"10\",\"token\":\"9e3fd157-bffb-4d4b-9639-78eac42088cd_42364_MDJhZmJjNDctZTdkMy00MTcwLThkZTktNjU0ODIyNjRkNzhi\",\"questionId\":42364,\"questionType\":\"BEHAVIOUR_TRACKING\",\"other\":null,\"title\":\"Browser screen recording\",\"videoLink\":\"[\\\\\\\\\"https://test.o360.online/downloads/9e3fd157-bffb-4d4b-9639-78eac42088cd_42364_MDJhZmJjNDctZTdkMy00MTcwLThkZTktNjU0ODIyNjRkNzhi/videos/23-08-2022-07:43:49:242.mp4\\\\\\\\\"]\",\"audioLink\":\"\",\"cameraLink\":\"\",\"imageLink\":\"\",\"htmlLink\":\"https://test.o360.online/downloads/9e3fd157-bffb-4d4b-9639-78eac42088cd_42364_MDJhZmJjNDctZTdkMy00MTcwLThkZTktNjU0ODIyNjRkNzhi/23-08-2022-07:43:49:731.html\",\"respId\":\"40d5a71a-547a-4b9e-8ee2-1e4c5b37b72a\",\"surveyId\":8888,\"responseTime\":\"2022-08-23T07:45:06.783050Z\"}\\'\\n',\n",
       " '{\"requestString\":\"myntra\",\"searchInput\":\"myntra\",\"host\":\"www.google.com\",\"searchUrl\":\"\",\"href\":\"https://www.google.com/\",\"timeSpentOnPage\":\"0\",\"longitude\":null,\"latitude\":null,\"locale\":null,\"timeSpentOnTask\":null,\"timeUnit\":null,\"ipAddress\":null,\"operatingSystem\":\"Windows\",\"browserName\":\"Chrome\",\"city\":null,\"startDate\":\"2022-08-23\",\"startTime\":\"2022-08-23T07:39:56.600+0000\",\"clickedUrl\":null,\"deviceName\":\"Windows\",\"osVersion\":\"10\",\"token\":\"9e3fd157-bffb-4d4b-9639-78eac42088cd_42364_MDJhZmJjNDctZTdkMy00MTcwLThkZTktNjU0ODIyNjRkNzhi\",\"questionId\":42364,\"questionType\":\"BEHAVIOUR_TRACKING\",\"other\":null,\"title\":\"Browser screen recording\",\"videoLink\":\"[\\\\\\\\\"https://test.o360.online/downloads/9e3fd157-bffb-4d4b-9639-78eac42088cd_42364_MDJhZmJjNDctZTdkMy00MTcwLThkZTktNjU0ODIyNjRkNzhi/videos/23-08-2022-07:43:49:242.mp4\\\\\\\\\"]\",\"audioLink\":\"\",\"cameraLink\":\"\",\"imageLink\":\"\",\"htmlLink\":\"https://test.o360.online/downloads/9e3fd157-bffb-4d4b-9639-78eac42088cd_42364_MDJhZmJjNDctZTdkMy00MTcwLThkZTktNjU0ODIyNjRkNzhi/23-08-2022-07:43:49:826.html\",\"respId\":\"40d5a71a-547a-4b9e-8ee2-1e4c5b37b72a\",\"surveyId\":8888,\"responseTime\":\"2022-08-23T07:45:06.784910Z\"}\\'\\n',\n",
       " '{\"requestString\":\"\",\"searchInput\":\"\",\"host\":\"www.google.com\",\"searchUrl\":\"?q=myntra&sxsrf=ALiCzsbORk4d4nafPEy84HSXw9BAh1ofkg%3A1661240391553&source=hp&ei=R4QEY8bJH4mA0wSKporIDA&iflsig=AJiK0e8AAAAAYwSSV4NUV0uwdJ6diq-aJTNH3AdgXXce&ved=0ahUKEwiGibHbutz5AhUJwJQKHQqTAskQ4dUDCAg&uact=5&oq=myntra&gs_lcp=Cgdnd3Mtd2l6EAMyCgguEMcBENEDECcyBAgAEEMyCwgAEIAEELEDEIMBMggIABCABBCxAzIICAAQgAQQsQMyCwgAEIAEELEDEIMBMggIABCABBCxAzIHCAAQsQMQQzIECAAQQzILCAAQgAQQsQMQgwE6BwgjEOoCECc6DQguEMcBENEDEOoCECc6BAgjECc6CwguEIAEELEDEIMBOgUIABCABDoRCC4QgAQQsQMQgwEQxwEQ0QNQoAJYsBNg5xZoAXAAeACAAXSIAfEEkgEDMy4zmAEAoAEBsAEKuAED&sclient=gws-wiz\",\"href\":\"https://www.google.com/search?q=myntra&sxsrf=ALiCzsbORk4d4nafPEy84HSXw9BAh1ofkg%3A1661240391553&source=hp&ei=R4QEY8bJH4mA0wSKporIDA&iflsig=AJiK0e8AAAAAYwSSV4NUV0uwdJ6diq-aJTNH3AdgXXce&ved=0ahUKEwiGibHbutz5AhUJwJQKHQqTAskQ4dUDCAg&uact=5&oq=myntra&gs_lcp=Cgdnd3Mtd2l6EAMyCgguEMcBENEDECcyBAgAEEMyCwgAEIAEELEDEIMBMggIABCABBCxAzIICAAQgAQQsQMyCwgAEIAEELEDEIMBMggIABCABBCxAzIHCAAQsQMQQzIECAAQQzILCAAQgAQQsQMQgwE6BwgjEOoCECc6DQguEMcBENEDEOoCECc6BAgjECc6CwguEIAEELEDEIMBOgUIABCABDoRCC4QgAQQsQMQgwEQxwEQ0QNQoAJYsBNg5xZoAXAAeACAAXSIAfEEkgEDMy4zmAEAoAEBsAEKuAED&sclient=gws-wiz\",\"timeSpentOnPage\":\"2.895\",\"longitude\":null,\"latitude\":null,\"locale\":null,\"timeSpentOnTask\":null,\"timeUnit\":null,\"ipAddress\":null,\"operatingSystem\":\"Windows\",\"browserName\":\"Chrome\",\"city\":null,\"startDate\":\"2022-08-23\",\"startTime\":\"2022-08-23T07:39:58.777+0000\",\"clickedUrl\":\"https://www.google.com/\",\"deviceName\":\"Windows\",\"osVersion\":\"10\",\"token\":\"9e3fd157-bffb-4d4b-9639-78eac42088cd_42364_MDJhZmJjNDctZTdkMy00MTcwLThkZTktNjU0ODIyNjRkNzhi\",\"questionId\":42364,\"questionType\":\"BEHAVIOUR_TRACKING\",\"other\":null,\"title\":\"Browser screen recording\",\"videoLink\":\"[\\\\\\\\\"https://test.o360.online/downloads/9e3fd157-bffb-4d4b-9639-78eac42088cd_42364_MDJhZmJjNDctZTdkMy00MTcwLThkZTktNjU0ODIyNjRkNzhi/videos/23-08-2022-07:43:49:242.mp4\\\\\\\\\"]\",\"audioLink\":\"\",\"cameraLink\":\"\",\"imageLink\":\"\",\"htmlLink\":\"https://test.o360.online/downloads/9e3fd157-bffb-4d4b-9639-78eac42088cd_42364_MDJhZmJjNDctZTdkMy00MTcwLThkZTktNjU0ODIyNjRkNzhi/23-08-2022-07:43:49:952.html\",\"respId\":\"40d5a71a-547a-4b9e-8ee2-1e4c5b37b72a\",\"surveyId\":8888,\"responseTime\":\"2022-08-23T07:45:06.785170Z\"}\\'\\n',\n",
       " '{\"requestString\":\"\",\"searchInput\":\"\",\"host\":\"www.myntra.com\",\"searchUrl\":\"?utm_source=perf_google_search_brand&utm_medium=perf_google_search_brand&utm_campaign=Search%20-%20Myntra%20Brand%20(India)&gclid=Cj0KCQjw9ZGYBhCEARIsAEUXITURhtLjC3WlNybBRolMrqOeF7Q07I0vO5An1ff9YXwmYQ5KeLUawesaAo62EALw_wcB\",\"href\":\"https://www.myntra.com/?utm_source=perf_google_search_brand&utm_medium=perf_google_search_brand&utm_campaign=Search%20-%20Myntra%20Brand%20(India)&gclid=Cj0KCQjw9ZGYBhCEARIsAEUXITURhtLjC3WlNybBRolMrqOeF7Q07I0vO5An1ff9YXwmYQ5KeLUawesaAo62EALw_wcB\",\"timeSpentOnPage\":\"4.282\",\"longitude\":null,\"latitude\":null,\"locale\":null,\"timeSpentOnTask\":null,\"timeUnit\":null,\"ipAddress\":null,\"operatingSystem\":\"Windows\",\"browserName\":\"Chrome\",\"city\":null,\"startDate\":\"2022-08-23\",\"startTime\":\"2022-08-23T07:40:03.238+0000\",\"clickedUrl\":\"https://www.googleadservices.com/pagead/aclk?sa=L&ai=DChcSEwiE8fPdutz5AhVPHCsKHSYQDNsYABAAGgJzZg&ohost=www.google.com&cid=CAESWuD2KJhvzFCI1Teh0_j0iI7d5TxiDg0ckImoMGfQqCmshBlgii4CLpmkATpHZwuJZyKvMcKfuFuw51nQf1zICVeXlPRUrm6JO3Ct6PutSeNH9aw1PZj1Y7bGpQ&sig=AOD64_3kgUZxMG210dYeSiJFbT_nzU2CHw&q&adurl&ved=2ahUKEwigsOzdutz5AhX_m9gFHTOkBCEQ0Qx6BAgDEAE&nis=8\",\"deviceName\":\"Windows\",\"osVersion\":\"10\",\"token\":\"9e3fd157-bffb-4d4b-9639-78eac42088cd_42364_MDJhZmJjNDctZTdkMy00MTcwLThkZTktNjU0ODIyNjRkNzhi\",\"questionId\":42364,\"questionType\":\"BEHAVIOUR_TRACKING\",\"other\":null,\"title\":\"Browser screen recording\",\"videoLink\":\"[\\\\\\\\\"https://test.o360.online/downloads/9e3fd157-bffb-4d4b-9639-78eac42088cd_42364_MDJhZmJjNDctZTdkMy00MTcwLThkZTktNjU0ODIyNjRkNzhi/videos/23-08-2022-07:43:49:242.mp4\\\\\\\\\"]\",\"audioLink\":\"\",\"cameraLink\":\"\",\"imageLink\":\"\",\"htmlLink\":\"https://test.o360.online/downloads/9e3fd157-bffb-4d4b-9639-78eac42088cd_42364_MDJhZmJjNDctZTdkMy00MTcwLThkZTktNjU0ODIyNjRkNzhi/23-08-2022-07:43:50:086.html\",\"respId\":\"40d5a71a-547a-4b9e-8ee2-1e4c5b37b72a\",\"surveyId\":8888,\"responseTime\":\"2022-08-23T07:45:06.785403Z\"}\\'\\n',\n",
       " '{\"requestString\":\"\",\"searchInput\":\"\",\"host\":\"www.myntra.com\",\"searchUrl\":\"\",\"href\":\"https://www.myntra.com/men-tshirts\",\"timeSpentOnPage\":\"0\",\"longitude\":null,\"latitude\":null,\"locale\":null,\"timeSpentOnTask\":null,\"timeUnit\":null,\"ipAddress\":null,\"operatingSystem\":\"Windows\",\"browserName\":\"Chrome\",\"city\":null,\"startDate\":\"2022-08-23\",\"startTime\":\"2022-08-23T07:40:08.340+0000\",\"clickedUrl\":\"https://www.myntra.com/men-tshirts\",\"deviceName\":\"Windows\",\"osVersion\":\"10\",\"token\":\"9e3fd157-bffb-4d4b-9639-78eac42088cd_42364_MDJhZmJjNDctZTdkMy00MTcwLThkZTktNjU0ODIyNjRkNzhi\",\"questionId\":42364,\"questionType\":\"BEHAVIOUR_TRACKING\",\"other\":null,\"title\":\"Browser screen recording\",\"videoLink\":\"[\\\\\\\\\"https://test.o360.online/downloads/9e3fd157-bffb-4d4b-9639-78eac42088cd_42364_MDJhZmJjNDctZTdkMy00MTcwLThkZTktNjU0ODIyNjRkNzhi/videos/23-08-2022-07:43:49:242.mp4\\\\\\\\\"]\",\"audioLink\":\"\",\"cameraLink\":\"\",\"imageLink\":\"\",\"htmlLink\":\"https://test.o360.online/downloads/9e3fd157-bffb-4d4b-9639-78eac42088cd_42364_MDJhZmJjNDctZTdkMy00MTcwLThkZTktNjU0ODIyNjRkNzhi/23-08-2022-07:43:50:202.html\",\"respId\":\"40d5a71a-547a-4b9e-8ee2-1e4c5b37b72a\",\"surveyId\":8888,\"responseTime\":\"2022-08-23T07:45:06.785611Z\"}\\'\\n',\n",
       " '{\"requestString\":\"\",\"searchInput\":\"\",\"host\":\"www.myntra.com\",\"searchUrl\":\"\",\"href\":\"https://www.myntra.com/tshirts/wrogn-active/wrogn-active-men-navy-blue--blue-brand-logo-printed-slim-fit-t-shirt/17026114/buy\",\"timeSpentOnPage\":\"20.474\",\"longitude\":null,\"latitude\":null,\"locale\":null,\"timeSpentOnTask\":null,\"timeUnit\":null,\"ipAddress\":null,\"operatingSystem\":\"Windows\",\"browserName\":\"Chrome\",\"city\":null,\"startDate\":\"2022-08-23\",\"startTime\":\"2022-08-23T07:40:16.423+0000\",\"clickedUrl\":\"https://www.myntra.com/men-tshirts\",\"deviceName\":\"Windows\",\"osVersion\":\"10\",\"token\":\"9e3fd157-bffb-4d4b-9639-78eac42088cd_42364_MDJhZmJjNDctZTdkMy00MTcwLThkZTktNjU0ODIyNjRkNzhi\",\"questionId\":42364,\"questionType\":\"BEHAVIOUR_TRACKING\",\"other\":null,\"title\":\"Browser screen recording\",\"videoLink\":\"[\\\\\\\\\"https://test.o360.online/downloads/9e3fd157-bffb-4d4b-9639-78eac42088cd_42364_MDJhZmJjNDctZTdkMy00MTcwLThkZTktNjU0ODIyNjRkNzhi/videos/23-08-2022-07:43:49:242.mp4\\\\\\\\\"]\",\"audioLink\":\"\",\"cameraLink\":\"\",\"imageLink\":\"\",\"htmlLink\":\"https://test.o360.online/downloads/9e3fd157-bffb-4d4b-9639-78eac42088cd_42364_MDJhZmJjNDctZTdkMy00MTcwLThkZTktNjU0ODIyNjRkNzhi/23-08-2022-07:43:50:315.html\",\"respId\":\"40d5a71a-547a-4b9e-8ee2-1e4c5b37b72a\",\"surveyId\":8888,\"responseTime\":\"2022-08-23T07:45:06.785782Z\"}\\'\\n',\n",
       " '{\"requestString\":\"\",\"searchInput\":\"\",\"host\":\"www.myntra.com\",\"searchUrl\":\"\",\"href\":\"https://www.myntra.com/men-casual-shirts\",\"timeSpentOnPage\":\"0\",\"longitude\":null,\"latitude\":null,\"locale\":null,\"timeSpentOnTask\":null,\"timeUnit\":null,\"ipAddress\":null,\"operatingSystem\":\"Windows\",\"browserName\":\"Chrome\",\"city\":null,\"startDate\":\"2022-08-23\",\"startTime\":\"2022-08-23T07:40:37.498+0000\",\"clickedUrl\":\"https://www.myntra.com/men-casual-shirts\",\"deviceName\":\"Windows\",\"osVersion\":\"10\",\"token\":\"9e3fd157-bffb-4d4b-9639-78eac42088cd_42364_MDJhZmJjNDctZTdkMy00MTcwLThkZTktNjU0ODIyNjRkNzhi\",\"questionId\":42364,\"questionType\":\"BEHAVIOUR_TRACKING\",\"other\":null,\"title\":\"Browser screen recording\",\"videoLink\":\"[\\\\\\\\\"https://test.o360.online/downloads/9e3fd157-bffb-4d4b-9639-78eac42088cd_42364_MDJhZmJjNDctZTdkMy00MTcwLThkZTktNjU0ODIyNjRkNzhi/videos/23-08-2022-07:43:49:242.mp4\\\\\\\\\"]\",\"audioLink\":\"\",\"cameraLink\":\"\",\"imageLink\":\"\",\"htmlLink\":\"https://test.o360.online/downloads/9e3fd157-bffb-4d4b-9639-78eac42088cd_42364_MDJhZmJjNDctZTdkMy00MTcwLThkZTktNjU0ODIyNjRkNzhi/23-08-2022-07:43:50:431.html\",\"respId\":\"40d5a71a-547a-4b9e-8ee2-1e4c5b37b72a\",\"surveyId\":8888,\"responseTime\":\"2022-08-23T07:45:06.785955Z\"}\\'\\n',\n",
       " '{\"requestString\":\"\",\"searchInput\":\"\",\"host\":\"www.myntra.com\",\"searchUrl\":\"\",\"href\":\"https://www.myntra.com/shirts/gritstones/gritstones-men-black-slim-fit-solid-casual-shirt/1878052/buy\",\"timeSpentOnPage\":\"7.419\",\"longitude\":null,\"latitude\":null,\"locale\":null,\"timeSpentOnTask\":null,\"timeUnit\":null,\"ipAddress\":null,\"operatingSystem\":\"Windows\",\"browserName\":\"Chrome\",\"city\":null,\"startDate\":\"2022-08-23\",\"startTime\":\"2022-08-23T07:40:46.660+0000\",\"clickedUrl\":\"https://www.myntra.com/men-casual-shirts\",\"deviceName\":\"Windows\",\"osVersion\":\"10\",\"token\":\"9e3fd157-bffb-4d4b-9639-78eac42088cd_42364_MDJhZmJjNDctZTdkMy00MTcwLThkZTktNjU0ODIyNjRkNzhi\",\"questionId\":42364,\"questionType\":\"BEHAVIOUR_TRACKING\",\"other\":null,\"title\":\"Browser screen recording\",\"videoLink\":\"[\\\\\\\\\"https://test.o360.online/downloads/9e3fd157-bffb-4d4b-9639-78eac42088cd_42364_MDJhZmJjNDctZTdkMy00MTcwLThkZTktNjU0ODIyNjRkNzhi/videos/23-08-2022-07:43:49:242.mp4\\\\\\\\\"]\",\"audioLink\":\"\",\"cameraLink\":\"\",\"imageLink\":\"\",\"htmlLink\":\"https://test.o360.online/downloads/9e3fd157-bffb-4d4b-9639-78eac42088cd_42364_MDJhZmJjNDctZTdkMy00MTcwLThkZTktNjU0ODIyNjRkNzhi/23-08-2022-07:43:50:537.html\",\"respId\":\"40d5a71a-547a-4b9e-8ee2-1e4c5b37b72a\",\"surveyId\":8888,\"responseTime\":\"2022-08-23T07:45:06.786111Z\"}\\'\\n',\n",
       " '{\"requestString\":\"\",\"searchInput\":\"\",\"host\":\"www.myntra.com\",\"searchUrl\":\"\",\"href\":\"https://www.myntra.com/wishlist\",\"timeSpentOnPage\":\"0\",\"longitude\":null,\"latitude\":null,\"locale\":null,\"timeSpentOnTask\":null,\"timeUnit\":null,\"ipAddress\":null,\"operatingSystem\":\"Windows\",\"browserName\":\"Chrome\",\"city\":null,\"startDate\":\"2022-08-23\",\"startTime\":\"2022-08-23T07:40:55.024+0000\",\"clickedUrl\":\"https://www.myntra.com/wishlist\",\"deviceName\":\"Windows\",\"osVersion\":\"10\",\"token\":\"9e3fd157-bffb-4d4b-9639-78eac42088cd_42364_MDJhZmJjNDctZTdkMy00MTcwLThkZTktNjU0ODIyNjRkNzhi\",\"questionId\":42364,\"questionType\":\"BEHAVIOUR_TRACKING\",\"other\":null,\"title\":\"Browser screen recording\",\"videoLink\":\"[\\\\\\\\\"https://test.o360.online/downloads/9e3fd157-bffb-4d4b-9639-78eac42088cd_42364_MDJhZmJjNDctZTdkMy00MTcwLThkZTktNjU0ODIyNjRkNzhi/videos/23-08-2022-07:43:49:242.mp4\\\\\\\\\"]\",\"audioLink\":\"\",\"cameraLink\":\"\",\"imageLink\":\"\",\"htmlLink\":\"https://test.o360.online/downloads/9e3fd157-bffb-4d4b-9639-78eac42088cd_42364_MDJhZmJjNDctZTdkMy00MTcwLThkZTktNjU0ODIyNjRkNzhi/23-08-2022-07:43:50:609.html\",\"respId\":\"40d5a71a-547a-4b9e-8ee2-1e4c5b37b72a\",\"surveyId\":8888,\"responseTime\":\"2022-08-23T07:45:06.786346Z\"}\\'\\n',\n",
       " '{\"requestString\":\"\",\"searchInput\":\"\",\"host\":\"www.myntra.com\",\"searchUrl\":\"\",\"href\":\"https://www.myntra.com/17350720\",\"timeSpentOnPage\":\"16.943\",\"longitude\":null,\"latitude\":null,\"locale\":null,\"timeSpentOnTask\":null,\"timeUnit\":null,\"ipAddress\":null,\"operatingSystem\":\"Windows\",\"browserName\":\"Chrome\",\"city\":null,\"startDate\":\"2022-08-23\",\"startTime\":\"2022-08-23T07:41:05.217+0000\",\"clickedUrl\":\"https://www.myntra.com/wishlist\",\"deviceName\":\"Windows\",\"osVersion\":\"10\",\"token\":\"9e3fd157-bffb-4d4b-9639-78eac42088cd_42364_MDJhZmJjNDctZTdkMy00MTcwLThkZTktNjU0ODIyNjRkNzhi\",\"questionId\":42364,\"questionType\":\"BEHAVIOUR_TRACKING\",\"other\":null,\"title\":\"Browser screen recording\",\"videoLink\":\"[\\\\\\\\\"https://test.o360.online/downloads/9e3fd157-bffb-4d4b-9639-78eac42088cd_42364_MDJhZmJjNDctZTdkMy00MTcwLThkZTktNjU0ODIyNjRkNzhi/videos/23-08-2022-07:43:49:242.mp4\\\\\\\\\"]\",\"audioLink\":\"\",\"cameraLink\":\"\",\"imageLink\":\"\",\"htmlLink\":\"https://test.o360.online/downloads/9e3fd157-bffb-4d4b-9639-78eac42088cd_42364_MDJhZmJjNDctZTdkMy00MTcwLThkZTktNjU0ODIyNjRkNzhi/23-08-2022-07:43:50:672.html\",\"respId\":\"40d5a71a-547a-4b9e-8ee2-1e4c5b37b72a\",\"surveyId\":8888,\"responseTime\":\"2022-08-23T07:45:06.786491Z\"}\\'\\n',\n",
       " '{\"requestString\":\"\",\"searchInput\":\"\",\"host\":\"www.myntra.com\",\"searchUrl\":\"\",\"href\":\"https://www.myntra.com/reviews/17350720\",\"timeSpentOnPage\":\"72.776\",\"longitude\":null,\"latitude\":null,\"locale\":null,\"timeSpentOnTask\":null,\"timeUnit\":null,\"ipAddress\":null,\"operatingSystem\":\"Windows\",\"browserName\":\"Chrome\",\"city\":null,\"startDate\":\"2022-08-23\",\"startTime\":\"2022-08-23T07:41:22.474+0000\",\"clickedUrl\":\"https://www.myntra.com/reviews/17350720\",\"deviceName\":\"Windows\",\"osVersion\":\"10\",\"token\":\"9e3fd157-bffb-4d4b-9639-78eac42088cd_42364_MDJhZmJjNDctZTdkMy00MTcwLThkZTktNjU0ODIyNjRkNzhi\",\"questionId\":42364,\"questionType\":\"BEHAVIOUR_TRACKING\",\"other\":null,\"title\":\"Browser screen recording\",\"videoLink\":\"[\\\\\\\\\"https://test.o360.online/downloads/9e3fd157-bffb-4d4b-9639-78eac42088cd_42364_MDJhZmJjNDctZTdkMy00MTcwLThkZTktNjU0ODIyNjRkNzhi/videos/23-08-2022-07:43:49:242.mp4\\\\\\\\\"]\",\"audioLink\":\"\",\"cameraLink\":\"\",\"imageLink\":\"\",\"htmlLink\":\"https://test.o360.online/downloads/9e3fd157-bffb-4d4b-9639-78eac42088cd_42364_MDJhZmJjNDctZTdkMy00MTcwLThkZTktNjU0ODIyNjRkNzhi/23-08-2022-07:43:50:764.html\",\"respId\":\"40d5a71a-547a-4b9e-8ee2-1e4c5b37b72a\",\"surveyId\":8888,\"responseTime\":\"2022-08-23T07:45:06.786634Z\"}\\'\\n',\n",
       " '{\"requestString\":\"\",\"searchInput\":\"\",\"host\":\"www.myntra.com\",\"searchUrl\":\"\",\"href\":\"https://www.myntra.com/men-tshirts\",\"timeSpentOnPage\":\"4.836\",\"longitude\":null,\"latitude\":null,\"locale\":null,\"timeSpentOnTask\":null,\"timeUnit\":null,\"ipAddress\":null,\"operatingSystem\":\"Windows\",\"browserName\":\"Chrome\",\"city\":null,\"startDate\":\"2022-08-23\",\"startTime\":\"2022-08-23T07:42:36.491+0000\",\"clickedUrl\":\"https://www.myntra.com/men-tshirts\",\"deviceName\":\"Windows\",\"osVersion\":\"10\",\"token\":\"9e3fd157-bffb-4d4b-9639-78eac42088cd_42364_MDJhZmJjNDctZTdkMy00MTcwLThkZTktNjU0ODIyNjRkNzhi\",\"questionId\":42364,\"questionType\":\"BEHAVIOUR_TRACKING\",\"other\":null,\"title\":\"Browser screen recording\",\"videoLink\":\"[\\\\\\\\\"https://test.o360.online/downloads/9e3fd157-bffb-4d4b-9639-78eac42088cd_42364_MDJhZmJjNDctZTdkMy00MTcwLThkZTktNjU0ODIyNjRkNzhi/videos/23-08-2022-07:43:49:242.mp4\\\\\\\\\"]\",\"audioLink\":\"\",\"cameraLink\":\"\",\"imageLink\":\"\",\"htmlLink\":\"https://test.o360.online/downloads/9e3fd157-bffb-4d4b-9639-78eac42088cd_42364_MDJhZmJjNDctZTdkMy00MTcwLThkZTktNjU0ODIyNjRkNzhi/23-08-2022-07:43:50:874.html\",\"respId\":\"40d5a71a-547a-4b9e-8ee2-1e4c5b37b72a\",\"surveyId\":8888,\"responseTime\":\"2022-08-23T07:45:06.786802Z\"}\\'\\n',\n",
       " '{\"requestString\":\"\",\"searchInput\":\"\",\"host\":\"www.myntra.com\",\"searchUrl\":\"\",\"href\":\"https://www.myntra.com/checkout/cart\",\"timeSpentOnPage\":\"3.812\",\"longitude\":null,\"latitude\":null,\"locale\":null,\"timeSpentOnTask\":null,\"timeUnit\":null,\"ipAddress\":null,\"operatingSystem\":\"Windows\",\"browserName\":\"Chrome\",\"city\":null,\"startDate\":\"2022-08-23\",\"startTime\":\"2022-08-23T07:42:42.164+0000\",\"clickedUrl\":\"https://www.myntra.com/checkout/cart\",\"deviceName\":\"Windows\",\"osVersion\":\"10\",\"token\":\"9e3fd157-bffb-4d4b-9639-78eac42088cd_42364_MDJhZmJjNDctZTdkMy00MTcwLThkZTktNjU0ODIyNjRkNzhi\",\"questionId\":42364,\"questionType\":\"BEHAVIOUR_TRACKING\",\"other\":null,\"title\":\"Browser screen recording\",\"videoLink\":\"[\\\\\\\\\"https://test.o360.online/downloads/9e3fd157-bffb-4d4b-9639-78eac42088cd_42364_MDJhZmJjNDctZTdkMy00MTcwLThkZTktNjU0ODIyNjRkNzhi/videos/23-08-2022-07:43:49:242.mp4\\\\\\\\\"]\",\"audioLink\":\"\",\"cameraLink\":\"\",\"imageLink\":\"\",\"htmlLink\":\"https://test.o360.online/downloads/9e3fd157-bffb-4d4b-9639-78eac42088cd_42364_MDJhZmJjNDctZTdkMy00MTcwLThkZTktNjU0ODIyNjRkNzhi/23-08-2022-07:43:50:992.html\",\"respId\":\"40d5a71a-547a-4b9e-8ee2-1e4c5b37b72a\",\"surveyId\":8888,\"responseTime\":\"2022-08-23T07:45:06.786970Z\"}\\'\\n',\n",
       " '{\"requestString\":\"\",\"searchInput\":\"\",\"host\":\"www.myntra.com\",\"searchUrl\":\"\",\"href\":\"https://www.myntra.com/checkout/cart#modal\",\"timeSpentOnPage\":\"1.916\",\"longitude\":null,\"latitude\":null,\"locale\":null,\"timeSpentOnTask\":null,\"timeUnit\":null,\"ipAddress\":null,\"operatingSystem\":\"Windows\",\"browserName\":\"Chrome\",\"city\":null,\"startDate\":\"2022-08-23\",\"startTime\":\"2022-08-23T07:42:44.680+0000\",\"clickedUrl\":\"https://www.myntra.com/men-tshirts\",\"deviceName\":\"Windows\",\"osVersion\":\"10\",\"token\":\"9e3fd157-bffb-4d4b-9639-78eac42088cd_42364_MDJhZmJjNDctZTdkMy00MTcwLThkZTktNjU0ODIyNjRkNzhi\",\"questionId\":42364,\"questionType\":\"BEHAVIOUR_TRACKING\",\"other\":null,\"title\":\"Browser screen recording\",\"videoLink\":\"[\\\\\\\\\"https://test.o360.online/downloads/9e3fd157-bffb-4d4b-9639-78eac42088cd_42364_MDJhZmJjNDctZTdkMy00MTcwLThkZTktNjU0ODIyNjRkNzhi/videos/23-08-2022-07:43:49:242.mp4\\\\\\\\\"]\",\"audioLink\":\"\",\"cameraLink\":\"\",\"imageLink\":\"\",\"htmlLink\":\"https://test.o360.online/downloads/9e3fd157-bffb-4d4b-9639-78eac42088cd_42364_MDJhZmJjNDctZTdkMy00MTcwLThkZTktNjU0ODIyNjRkNzhi/23-08-2022-07:43:51:099.html\",\"respId\":\"40d5a71a-547a-4b9e-8ee2-1e4c5b37b72a\",\"surveyId\":8888,\"responseTime\":\"2022-08-23T07:45:06.787134Z\"}\\'\\n',\n",
       " '{\"requestString\":\"\",\"searchInput\":\"\",\"host\":\"www.myntra.com\",\"searchUrl\":\"\",\"href\":\"https://www.myntra.com/checkout/cart\",\"timeSpentOnPage\":\"51\",\"longitude\":null,\"latitude\":null,\"locale\":null,\"timeSpentOnTask\":null,\"timeUnit\":null,\"ipAddress\":null,\"operatingSystem\":\"Windows\",\"browserName\":\"Chrome\",\"city\":null,\"startDate\":\"2022-08-23\",\"startTime\":\"2022-08-23T07:42:46.593+0000\",\"clickedUrl\":\"https://www.myntra.com/men-tshirts\",\"deviceName\":\"Windows\",\"osVersion\":\"10\",\"token\":\"9e3fd157-bffb-4d4b-9639-78eac42088cd_42364_MDJhZmJjNDctZTdkMy00MTcwLThkZTktNjU0ODIyNjRkNzhi\",\"questionId\":42364,\"questionType\":\"BEHAVIOUR_TRACKING\",\"other\":null,\"title\":\"Browser screen recording\",\"videoLink\":\"[\\\\\\\\\"https://test.o360.online/downloads/9e3fd157-bffb-4d4b-9639-78eac42088cd_42364_MDJhZmJjNDctZTdkMy00MTcwLThkZTktNjU0ODIyNjRkNzhi/videos/23-08-2022-07:43:49:242.mp4\\\\\\\\\"]\",\"audioLink\":\"\",\"cameraLink\":\"\",\"imageLink\":\"\",\"htmlLink\":\"https://test.o360.online/downloads/9e3fd157-bffb-4d4b-9639-78eac42088cd_42364_MDJhZmJjNDctZTdkMy00MTcwLThkZTktNjU0ODIyNjRkNzhi/23-08-2022-07:43:51:142.html\",\"respId\":\"40d5a71a-547a-4b9e-8ee2-1e4c5b37b72a\",\"surveyId\":8888,\"responseTime\":\"2022-08-23T07:45:06.787283Z\"}\\'']"
      ]
     },
     "execution_count": 14,
     "metadata": {},
     "output_type": "execute_result"
    }
   ],
   "source": [
    "rows"
   ]
  },
  {
   "cell_type": "code",
   "execution_count": null,
   "metadata": {},
   "outputs": [],
   "source": []
  }
 ],
 "metadata": {
  "kernelspec": {
   "display_name": "Python 3.7.9 ('pdp': venv)",
   "language": "python",
   "name": "python3"
  },
  "language_info": {
   "codemirror_mode": {
    "name": "ipython",
    "version": 3
   },
   "file_extension": ".py",
   "mimetype": "text/x-python",
   "name": "python",
   "nbconvert_exporter": "python",
   "pygments_lexer": "ipython3",
   "version": "3.7.9"
  },
  "orig_nbformat": 4,
  "vscode": {
   "interpreter": {
    "hash": "3a1ad349b706218a5bc9f695685fcfb1aded6108ac34a2c9f643eb4f589c839e"
   }
  }
 },
 "nbformat": 4,
 "nbformat_minor": 2
}
