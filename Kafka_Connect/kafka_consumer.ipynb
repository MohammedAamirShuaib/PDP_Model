{
 "cells": [
  {
   "cell_type": "code",
   "execution_count": 1,
   "metadata": {},
   "outputs": [],
   "source": [
    "from kafka import KafkaConsumer\n",
    "import mysql.connector\n",
    "import pandas as pd\n",
    "import json\n",
    "import requests"
   ]
  },
  {
   "cell_type": "code",
   "execution_count": 1,
   "metadata": {},
   "outputs": [
    {
     "ename": "NameError",
     "evalue": "name 'mysql' is not defined",
     "output_type": "error",
     "traceback": [
      "\u001b[1;31m---------------------------------------------------------------------------\u001b[0m",
      "\u001b[1;31mNameError\u001b[0m                                 Traceback (most recent call last)",
      "\u001b[1;32m~\\AppData\\Local\\Temp\\ipykernel_1888\\1208828305.py\u001b[0m in \u001b[0;36m<module>\u001b[1;34m\u001b[0m\n\u001b[1;32m----> 1\u001b[1;33m \u001b[0mdb\u001b[0m \u001b[1;33m=\u001b[0m \u001b[0mmysql\u001b[0m\u001b[1;33m.\u001b[0m\u001b[0mconnector\u001b[0m\u001b[1;33m.\u001b[0m\u001b[0mconnect\u001b[0m\u001b[1;33m(\u001b[0m\u001b[0mhost\u001b[0m\u001b[1;33m=\u001b[0m\u001b[1;34m\"localhost\"\u001b[0m\u001b[1;33m,\u001b[0m \u001b[0muser\u001b[0m\u001b[1;33m=\u001b[0m\u001b[1;34m\"root\"\u001b[0m\u001b[1;33m,\u001b[0m \u001b[0mpasswd\u001b[0m\u001b[1;33m=\u001b[0m\u001b[1;34m\"Analytics_POD\"\u001b[0m\u001b[1;33m,\u001b[0m \u001b[0mport\u001b[0m\u001b[1;33m=\u001b[0m\u001b[1;36m3306\u001b[0m\u001b[1;33m)\u001b[0m\u001b[1;33m\u001b[0m\u001b[1;33m\u001b[0m\u001b[0m\n\u001b[0m\u001b[0;32m      2\u001b[0m \u001b[0mdatabase_cursor\u001b[0m \u001b[1;33m=\u001b[0m \u001b[0mdb\u001b[0m\u001b[1;33m.\u001b[0m\u001b[0mcursor\u001b[0m\u001b[1;33m(\u001b[0m\u001b[1;33m)\u001b[0m\u001b[1;33m\u001b[0m\u001b[1;33m\u001b[0m\u001b[0m\n\u001b[0;32m      3\u001b[0m \u001b[0mdatabase_cursor\u001b[0m\u001b[1;33m.\u001b[0m\u001b[0mexecute\u001b[0m\u001b[1;33m(\u001b[0m\u001b[1;34m\"show databases\"\u001b[0m\u001b[1;33m)\u001b[0m\u001b[1;33m\u001b[0m\u001b[1;33m\u001b[0m\u001b[0m\n\u001b[0;32m      4\u001b[0m \u001b[0mdatabases\u001b[0m \u001b[1;33m=\u001b[0m \u001b[1;33m[\u001b[0m\u001b[1;33m]\u001b[0m\u001b[1;33m\u001b[0m\u001b[1;33m\u001b[0m\u001b[0m\n\u001b[0;32m      5\u001b[0m \u001b[1;32mfor\u001b[0m \u001b[0mi\u001b[0m \u001b[1;32min\u001b[0m \u001b[0mdatabase_cursor\u001b[0m\u001b[1;33m:\u001b[0m\u001b[1;33m\u001b[0m\u001b[1;33m\u001b[0m\u001b[0m\n",
      "\u001b[1;31mNameError\u001b[0m: name 'mysql' is not defined"
     ]
    }
   ],
   "source": [
    "db = mysql.connector.connect(host=\"localhost\", user=\"root\", passwd=\"Analytics_POD\", port=3306)\n",
    "database_cursor = db.cursor()\n",
    "database_cursor.execute(\"show databases\")\n",
    "databases = []\n",
    "for i in database_cursor:\n",
    "    databases.append(i[0])\n",
    "\n",
    "\n",
    "if \"O360_PDP\" not in databases:\n",
    "  start_cursor = db.cursor()\n",
    "  start_cursor.execute(\"CREATE DATABASE O360_PDP;\")\n",
    "  start_cursor.execute(\"CREATE TABLE `O360_PDP`.`ClickStream_Input` (`ID` INT NOT NULL AUTO_INCREMENT,`respId` VARCHAR(150) NULL,`surveyId` VARCHAR(50) NULL,`questionId` VARCHAR(50) NULL,`token` VARCHAR(250) NULL,`href` VARCHAR(2000) NULL,`htmlLink` VARCHAR(2000) NULL,`videoLink` VARCHAR(2000) NULL,PRIMARY KEY (`ID`));\")\n",
    "  start_cursor.execute(\"CREATE TABLE `O360_PDP`.`ClickStream_Output` (`ID` INT NOT NULL AUTO_INCREMENT,`respId` VARCHAR(150) NULL,`surveyId` VARCHAR(50) NULL,`questionId` VARCHAR(50) NULL,`token` VARCHAR(250) NULL,`href` VARCHAR(2000) NULL,`htmlLink` VARCHAR(2000) NULL,`videoLink` VARCHAR(2000) NULL,`URL/Html_Flag` VARCHAR(100) NULL,PRIMARY KEY (`ID`));\")\n",
    "  db.commit()\n",
    "\n",
    "bootstrap_servers = ['54.175.181.170:9092']\n",
    "consumer = KafkaConsumer(bootstrap_servers=bootstrap_servers)\n",
    "consumer.subscribe('test_python_5')\n",
    "mydb = mysql.connector.connect(host=\"localhost\", user=\"root\", passwd=\"Analytics_POD\", port=3306, database=\"O360_PDP\")\n",
    "\n",
    "for msg in consumer:\n",
    "    message = msg.value.decode('utf-8')\n",
    "    msg_json = json.loads(message)\n",
    "    cursor = mydb.cursor()\n",
    "    query = \"INSERT into clickstreem(UUID,Resp_id,URL,Html_Link) values(%s,%s,%s,%s)\"\n",
    "    record = [( msg_json['uuid'],msg_json['resp_id'], msg_json['url'], msg_json['htmlLink'])]\n",
    "    cursor.executemany(query, record)\n",
    "    mydb.commit()\n",
    "    subdict = {'uuid':msg_json['uuid'], 'resp_id':msg_json['resp_id'], 'url':msg_json['url'], 'htmlLink':msg_json['htmlLink']}\n",
    "    response_api = requests.post('http://127.0.0.1:8000/pdp/', data=json.dumps(subdict)).json()\n",
    "    print(response_api)"
   ]
  },
  {
   "cell_type": "code",
   "execution_count": null,
   "metadata": {},
   "outputs": [],
   "source": [
    "CREATE TABLE `O360_PDP`.`new_clickstream` (`ID` INT NOT NULL AUTO_INCREMENT,`respId` VARCHAR(150) NULL,`surveyId` VARCHAR(50) NULL,`questionId` VARCHAR(50) NULL,`token` VARCHAR(250) NULL,`href` VARCHAR(2000) NULL,`htmlLink` VARCHAR(2000) NULL,`videoLink` VARCHAR(2000) NULL,PRIMARY KEY (`ID`));"
   ]
  },
  {
   "cell_type": "code",
   "execution_count": 2,
   "metadata": {},
   "outputs": [],
   "source": [
    "bootstrap_servers = ['54.175.181.170:9092']\n",
    "consumer = KafkaConsumer(bootstrap_servers=bootstrap_servers)\n",
    "topics = 'btest-o360p2-O360-8888'\n",
    "consumer.subscribe(topics)"
   ]
  },
  {
   "cell_type": "code",
   "execution_count": 4,
   "metadata": {},
   "outputs": [
    {
     "ename": "KeyboardInterrupt",
     "evalue": "",
     "output_type": "error",
     "traceback": [
      "\u001b[1;31m---------------------------------------------------------------------------\u001b[0m",
      "\u001b[1;31mKeyboardInterrupt\u001b[0m                         Traceback (most recent call last)",
      "\u001b[1;32m~\\AppData\\Local\\Temp\\ipykernel_29408\\1734639471.py\u001b[0m in \u001b[0;36m<module>\u001b[1;34m\u001b[0m\n\u001b[0;32m      1\u001b[0m \u001b[0mmessages\u001b[0m \u001b[1;33m=\u001b[0m \u001b[1;33m[\u001b[0m\u001b[1;33m]\u001b[0m\u001b[1;33m\u001b[0m\u001b[1;33m\u001b[0m\u001b[0m\n\u001b[1;32m----> 2\u001b[1;33m \u001b[1;32mfor\u001b[0m \u001b[0mmsg\u001b[0m \u001b[1;32min\u001b[0m \u001b[0mconsumer\u001b[0m\u001b[1;33m:\u001b[0m\u001b[1;33m\u001b[0m\u001b[1;33m\u001b[0m\u001b[0m\n\u001b[0m\u001b[0;32m      3\u001b[0m     \u001b[0mmessage\u001b[0m \u001b[1;33m=\u001b[0m \u001b[0mmsg\u001b[0m\u001b[1;33m.\u001b[0m\u001b[0mvalue\u001b[0m\u001b[1;33m.\u001b[0m\u001b[0mdecode\u001b[0m\u001b[1;33m(\u001b[0m\u001b[1;34m'utf-8'\u001b[0m\u001b[1;33m)\u001b[0m\u001b[1;33m\u001b[0m\u001b[1;33m\u001b[0m\u001b[0m\n\u001b[0;32m      4\u001b[0m     \u001b[0mmessages\u001b[0m\u001b[1;33m.\u001b[0m\u001b[0mappend\u001b[0m\u001b[1;33m(\u001b[0m\u001b[0mmessage\u001b[0m\u001b[1;33m)\u001b[0m\u001b[1;33m\u001b[0m\u001b[1;33m\u001b[0m\u001b[0m\n",
      "\u001b[1;32md:\\OSG-AA-Products\\Analytics_POD_PDP\\pdp\\lib\\site-packages\\kafka\\consumer\\group.py\u001b[0m in \u001b[0;36m__next__\u001b[1;34m(self)\u001b[0m\n\u001b[0;32m   1191\u001b[0m             \u001b[1;32mreturn\u001b[0m \u001b[0mself\u001b[0m\u001b[1;33m.\u001b[0m\u001b[0mnext_v1\u001b[0m\u001b[1;33m(\u001b[0m\u001b[1;33m)\u001b[0m\u001b[1;33m\u001b[0m\u001b[1;33m\u001b[0m\u001b[0m\n\u001b[0;32m   1192\u001b[0m         \u001b[1;32melse\u001b[0m\u001b[1;33m:\u001b[0m\u001b[1;33m\u001b[0m\u001b[1;33m\u001b[0m\u001b[0m\n\u001b[1;32m-> 1193\u001b[1;33m             \u001b[1;32mreturn\u001b[0m \u001b[0mself\u001b[0m\u001b[1;33m.\u001b[0m\u001b[0mnext_v2\u001b[0m\u001b[1;33m(\u001b[0m\u001b[1;33m)\u001b[0m\u001b[1;33m\u001b[0m\u001b[1;33m\u001b[0m\u001b[0m\n\u001b[0m\u001b[0;32m   1194\u001b[0m \u001b[1;33m\u001b[0m\u001b[0m\n\u001b[0;32m   1195\u001b[0m     \u001b[1;32mdef\u001b[0m \u001b[0mnext_v2\u001b[0m\u001b[1;33m(\u001b[0m\u001b[0mself\u001b[0m\u001b[1;33m)\u001b[0m\u001b[1;33m:\u001b[0m\u001b[1;33m\u001b[0m\u001b[1;33m\u001b[0m\u001b[0m\n",
      "\u001b[1;32md:\\OSG-AA-Products\\Analytics_POD_PDP\\pdp\\lib\\site-packages\\kafka\\consumer\\group.py\u001b[0m in \u001b[0;36mnext_v2\u001b[1;34m(self)\u001b[0m\n\u001b[0;32m   1199\u001b[0m                 \u001b[0mself\u001b[0m\u001b[1;33m.\u001b[0m\u001b[0m_iterator\u001b[0m \u001b[1;33m=\u001b[0m \u001b[0mself\u001b[0m\u001b[1;33m.\u001b[0m\u001b[0m_message_generator_v2\u001b[0m\u001b[1;33m(\u001b[0m\u001b[1;33m)\u001b[0m\u001b[1;33m\u001b[0m\u001b[1;33m\u001b[0m\u001b[0m\n\u001b[0;32m   1200\u001b[0m             \u001b[1;32mtry\u001b[0m\u001b[1;33m:\u001b[0m\u001b[1;33m\u001b[0m\u001b[1;33m\u001b[0m\u001b[0m\n\u001b[1;32m-> 1201\u001b[1;33m                 \u001b[1;32mreturn\u001b[0m \u001b[0mnext\u001b[0m\u001b[1;33m(\u001b[0m\u001b[0mself\u001b[0m\u001b[1;33m.\u001b[0m\u001b[0m_iterator\u001b[0m\u001b[1;33m)\u001b[0m\u001b[1;33m\u001b[0m\u001b[1;33m\u001b[0m\u001b[0m\n\u001b[0m\u001b[0;32m   1202\u001b[0m             \u001b[1;32mexcept\u001b[0m \u001b[0mStopIteration\u001b[0m\u001b[1;33m:\u001b[0m\u001b[1;33m\u001b[0m\u001b[1;33m\u001b[0m\u001b[0m\n\u001b[0;32m   1203\u001b[0m                 \u001b[0mself\u001b[0m\u001b[1;33m.\u001b[0m\u001b[0m_iterator\u001b[0m \u001b[1;33m=\u001b[0m \u001b[1;32mNone\u001b[0m\u001b[1;33m\u001b[0m\u001b[1;33m\u001b[0m\u001b[0m\n",
      "\u001b[1;32md:\\OSG-AA-Products\\Analytics_POD_PDP\\pdp\\lib\\site-packages\\kafka\\consumer\\group.py\u001b[0m in \u001b[0;36m_message_generator_v2\u001b[1;34m(self)\u001b[0m\n\u001b[0;32m   1114\u001b[0m     \u001b[1;32mdef\u001b[0m \u001b[0m_message_generator_v2\u001b[0m\u001b[1;33m(\u001b[0m\u001b[0mself\u001b[0m\u001b[1;33m)\u001b[0m\u001b[1;33m:\u001b[0m\u001b[1;33m\u001b[0m\u001b[1;33m\u001b[0m\u001b[0m\n\u001b[0;32m   1115\u001b[0m         \u001b[0mtimeout_ms\u001b[0m \u001b[1;33m=\u001b[0m \u001b[1;36m1000\u001b[0m \u001b[1;33m*\u001b[0m \u001b[1;33m(\u001b[0m\u001b[0mself\u001b[0m\u001b[1;33m.\u001b[0m\u001b[0m_consumer_timeout\u001b[0m \u001b[1;33m-\u001b[0m \u001b[0mtime\u001b[0m\u001b[1;33m.\u001b[0m\u001b[0mtime\u001b[0m\u001b[1;33m(\u001b[0m\u001b[1;33m)\u001b[0m\u001b[1;33m)\u001b[0m\u001b[1;33m\u001b[0m\u001b[1;33m\u001b[0m\u001b[0m\n\u001b[1;32m-> 1116\u001b[1;33m         \u001b[0mrecord_map\u001b[0m \u001b[1;33m=\u001b[0m \u001b[0mself\u001b[0m\u001b[1;33m.\u001b[0m\u001b[0mpoll\u001b[0m\u001b[1;33m(\u001b[0m\u001b[0mtimeout_ms\u001b[0m\u001b[1;33m=\u001b[0m\u001b[0mtimeout_ms\u001b[0m\u001b[1;33m,\u001b[0m \u001b[0mupdate_offsets\u001b[0m\u001b[1;33m=\u001b[0m\u001b[1;32mFalse\u001b[0m\u001b[1;33m)\u001b[0m\u001b[1;33m\u001b[0m\u001b[1;33m\u001b[0m\u001b[0m\n\u001b[0m\u001b[0;32m   1117\u001b[0m         \u001b[1;32mfor\u001b[0m \u001b[0mtp\u001b[0m\u001b[1;33m,\u001b[0m \u001b[0mrecords\u001b[0m \u001b[1;32min\u001b[0m \u001b[0msix\u001b[0m\u001b[1;33m.\u001b[0m\u001b[0miteritems\u001b[0m\u001b[1;33m(\u001b[0m\u001b[0mrecord_map\u001b[0m\u001b[1;33m)\u001b[0m\u001b[1;33m:\u001b[0m\u001b[1;33m\u001b[0m\u001b[1;33m\u001b[0m\u001b[0m\n\u001b[0;32m   1118\u001b[0m             \u001b[1;31m# Generators are stateful, and it is possible that the tp / records\u001b[0m\u001b[1;33m\u001b[0m\u001b[1;33m\u001b[0m\u001b[1;33m\u001b[0m\u001b[0m\n",
      "\u001b[1;32md:\\OSG-AA-Products\\Analytics_POD_PDP\\pdp\\lib\\site-packages\\kafka\\consumer\\group.py\u001b[0m in \u001b[0;36mpoll\u001b[1;34m(self, timeout_ms, max_records, update_offsets)\u001b[0m\n\u001b[0;32m    653\u001b[0m         \u001b[0mremaining\u001b[0m \u001b[1;33m=\u001b[0m \u001b[0mtimeout_ms\u001b[0m\u001b[1;33m\u001b[0m\u001b[1;33m\u001b[0m\u001b[0m\n\u001b[0;32m    654\u001b[0m         \u001b[1;32mwhile\u001b[0m \u001b[1;32mTrue\u001b[0m\u001b[1;33m:\u001b[0m\u001b[1;33m\u001b[0m\u001b[1;33m\u001b[0m\u001b[0m\n\u001b[1;32m--> 655\u001b[1;33m             \u001b[0mrecords\u001b[0m \u001b[1;33m=\u001b[0m \u001b[0mself\u001b[0m\u001b[1;33m.\u001b[0m\u001b[0m_poll_once\u001b[0m\u001b[1;33m(\u001b[0m\u001b[0mremaining\u001b[0m\u001b[1;33m,\u001b[0m \u001b[0mmax_records\u001b[0m\u001b[1;33m,\u001b[0m \u001b[0mupdate_offsets\u001b[0m\u001b[1;33m=\u001b[0m\u001b[0mupdate_offsets\u001b[0m\u001b[1;33m)\u001b[0m\u001b[1;33m\u001b[0m\u001b[1;33m\u001b[0m\u001b[0m\n\u001b[0m\u001b[0;32m    656\u001b[0m             \u001b[1;32mif\u001b[0m \u001b[0mrecords\u001b[0m\u001b[1;33m:\u001b[0m\u001b[1;33m\u001b[0m\u001b[1;33m\u001b[0m\u001b[0m\n\u001b[0;32m    657\u001b[0m                 \u001b[1;32mreturn\u001b[0m \u001b[0mrecords\u001b[0m\u001b[1;33m\u001b[0m\u001b[1;33m\u001b[0m\u001b[0m\n",
      "\u001b[1;32md:\\OSG-AA-Products\\Analytics_POD_PDP\\pdp\\lib\\site-packages\\kafka\\consumer\\group.py\u001b[0m in \u001b[0;36m_poll_once\u001b[1;34m(self, timeout_ms, max_records, update_offsets)\u001b[0m\n\u001b[0;32m    700\u001b[0m \u001b[1;33m\u001b[0m\u001b[0m\n\u001b[0;32m    701\u001b[0m         \u001b[0mtimeout_ms\u001b[0m \u001b[1;33m=\u001b[0m \u001b[0mmin\u001b[0m\u001b[1;33m(\u001b[0m\u001b[0mtimeout_ms\u001b[0m\u001b[1;33m,\u001b[0m \u001b[0mself\u001b[0m\u001b[1;33m.\u001b[0m\u001b[0m_coordinator\u001b[0m\u001b[1;33m.\u001b[0m\u001b[0mtime_to_next_poll\u001b[0m\u001b[1;33m(\u001b[0m\u001b[1;33m)\u001b[0m \u001b[1;33m*\u001b[0m \u001b[1;36m1000\u001b[0m\u001b[1;33m)\u001b[0m\u001b[1;33m\u001b[0m\u001b[1;33m\u001b[0m\u001b[0m\n\u001b[1;32m--> 702\u001b[1;33m         \u001b[0mself\u001b[0m\u001b[1;33m.\u001b[0m\u001b[0m_client\u001b[0m\u001b[1;33m.\u001b[0m\u001b[0mpoll\u001b[0m\u001b[1;33m(\u001b[0m\u001b[0mtimeout_ms\u001b[0m\u001b[1;33m=\u001b[0m\u001b[0mtimeout_ms\u001b[0m\u001b[1;33m)\u001b[0m\u001b[1;33m\u001b[0m\u001b[1;33m\u001b[0m\u001b[0m\n\u001b[0m\u001b[0;32m    703\u001b[0m         \u001b[1;31m# after the long poll, we should check whether the group needs to rebalance\u001b[0m\u001b[1;33m\u001b[0m\u001b[1;33m\u001b[0m\u001b[1;33m\u001b[0m\u001b[0m\n\u001b[0;32m    704\u001b[0m         \u001b[1;31m# prior to returning data so that the group can stabilize faster\u001b[0m\u001b[1;33m\u001b[0m\u001b[1;33m\u001b[0m\u001b[1;33m\u001b[0m\u001b[0m\n",
      "\u001b[1;32md:\\OSG-AA-Products\\Analytics_POD_PDP\\pdp\\lib\\site-packages\\kafka\\client_async.py\u001b[0m in \u001b[0;36mpoll\u001b[1;34m(self, timeout_ms, future)\u001b[0m\n\u001b[0;32m    600\u001b[0m                     \u001b[0mtimeout\u001b[0m \u001b[1;33m=\u001b[0m \u001b[0mmax\u001b[0m\u001b[1;33m(\u001b[0m\u001b[1;36m0\u001b[0m\u001b[1;33m,\u001b[0m \u001b[0mtimeout\u001b[0m\u001b[1;33m)\u001b[0m  \u001b[1;31m# avoid negative timeouts\u001b[0m\u001b[1;33m\u001b[0m\u001b[1;33m\u001b[0m\u001b[0m\n\u001b[0;32m    601\u001b[0m \u001b[1;33m\u001b[0m\u001b[0m\n\u001b[1;32m--> 602\u001b[1;33m                 \u001b[0mself\u001b[0m\u001b[1;33m.\u001b[0m\u001b[0m_poll\u001b[0m\u001b[1;33m(\u001b[0m\u001b[0mtimeout\u001b[0m \u001b[1;33m/\u001b[0m \u001b[1;36m1000\u001b[0m\u001b[1;33m)\u001b[0m\u001b[1;33m\u001b[0m\u001b[1;33m\u001b[0m\u001b[0m\n\u001b[0m\u001b[0;32m    603\u001b[0m \u001b[1;33m\u001b[0m\u001b[0m\n\u001b[0;32m    604\u001b[0m             \u001b[1;31m# called without the lock to avoid deadlock potential\u001b[0m\u001b[1;33m\u001b[0m\u001b[1;33m\u001b[0m\u001b[1;33m\u001b[0m\u001b[0m\n",
      "\u001b[1;32md:\\OSG-AA-Products\\Analytics_POD_PDP\\pdp\\lib\\site-packages\\kafka\\client_async.py\u001b[0m in \u001b[0;36m_poll\u001b[1;34m(self, timeout)\u001b[0m\n\u001b[0;32m    632\u001b[0m \u001b[1;33m\u001b[0m\u001b[0m\n\u001b[0;32m    633\u001b[0m         \u001b[0mstart_select\u001b[0m \u001b[1;33m=\u001b[0m \u001b[0mtime\u001b[0m\u001b[1;33m.\u001b[0m\u001b[0mtime\u001b[0m\u001b[1;33m(\u001b[0m\u001b[1;33m)\u001b[0m\u001b[1;33m\u001b[0m\u001b[1;33m\u001b[0m\u001b[0m\n\u001b[1;32m--> 634\u001b[1;33m         \u001b[0mready\u001b[0m \u001b[1;33m=\u001b[0m \u001b[0mself\u001b[0m\u001b[1;33m.\u001b[0m\u001b[0m_selector\u001b[0m\u001b[1;33m.\u001b[0m\u001b[0mselect\u001b[0m\u001b[1;33m(\u001b[0m\u001b[0mtimeout\u001b[0m\u001b[1;33m)\u001b[0m\u001b[1;33m\u001b[0m\u001b[1;33m\u001b[0m\u001b[0m\n\u001b[0m\u001b[0;32m    635\u001b[0m         \u001b[0mend_select\u001b[0m \u001b[1;33m=\u001b[0m \u001b[0mtime\u001b[0m\u001b[1;33m.\u001b[0m\u001b[0mtime\u001b[0m\u001b[1;33m(\u001b[0m\u001b[1;33m)\u001b[0m\u001b[1;33m\u001b[0m\u001b[1;33m\u001b[0m\u001b[0m\n\u001b[0;32m    636\u001b[0m         \u001b[1;32mif\u001b[0m \u001b[0mself\u001b[0m\u001b[1;33m.\u001b[0m\u001b[0m_sensors\u001b[0m\u001b[1;33m:\u001b[0m\u001b[1;33m\u001b[0m\u001b[1;33m\u001b[0m\u001b[0m\n",
      "\u001b[1;32m~\\AppData\\Local\\Programs\\Python\\Python37\\lib\\selectors.py\u001b[0m in \u001b[0;36mselect\u001b[1;34m(self, timeout)\u001b[0m\n\u001b[0;32m    321\u001b[0m         \u001b[0mready\u001b[0m \u001b[1;33m=\u001b[0m \u001b[1;33m[\u001b[0m\u001b[1;33m]\u001b[0m\u001b[1;33m\u001b[0m\u001b[1;33m\u001b[0m\u001b[0m\n\u001b[0;32m    322\u001b[0m         \u001b[1;32mtry\u001b[0m\u001b[1;33m:\u001b[0m\u001b[1;33m\u001b[0m\u001b[1;33m\u001b[0m\u001b[0m\n\u001b[1;32m--> 323\u001b[1;33m             \u001b[0mr\u001b[0m\u001b[1;33m,\u001b[0m \u001b[0mw\u001b[0m\u001b[1;33m,\u001b[0m \u001b[0m_\u001b[0m \u001b[1;33m=\u001b[0m \u001b[0mself\u001b[0m\u001b[1;33m.\u001b[0m\u001b[0m_select\u001b[0m\u001b[1;33m(\u001b[0m\u001b[0mself\u001b[0m\u001b[1;33m.\u001b[0m\u001b[0m_readers\u001b[0m\u001b[1;33m,\u001b[0m \u001b[0mself\u001b[0m\u001b[1;33m.\u001b[0m\u001b[0m_writers\u001b[0m\u001b[1;33m,\u001b[0m \u001b[1;33m[\u001b[0m\u001b[1;33m]\u001b[0m\u001b[1;33m,\u001b[0m \u001b[0mtimeout\u001b[0m\u001b[1;33m)\u001b[0m\u001b[1;33m\u001b[0m\u001b[1;33m\u001b[0m\u001b[0m\n\u001b[0m\u001b[0;32m    324\u001b[0m         \u001b[1;32mexcept\u001b[0m \u001b[0mInterruptedError\u001b[0m\u001b[1;33m:\u001b[0m\u001b[1;33m\u001b[0m\u001b[1;33m\u001b[0m\u001b[0m\n\u001b[0;32m    325\u001b[0m             \u001b[1;32mreturn\u001b[0m \u001b[0mready\u001b[0m\u001b[1;33m\u001b[0m\u001b[1;33m\u001b[0m\u001b[0m\n",
      "\u001b[1;32m~\\AppData\\Local\\Programs\\Python\\Python37\\lib\\selectors.py\u001b[0m in \u001b[0;36m_select\u001b[1;34m(self, r, w, _, timeout)\u001b[0m\n\u001b[0;32m    312\u001b[0m     \u001b[1;32mif\u001b[0m \u001b[0msys\u001b[0m\u001b[1;33m.\u001b[0m\u001b[0mplatform\u001b[0m \u001b[1;33m==\u001b[0m \u001b[1;34m'win32'\u001b[0m\u001b[1;33m:\u001b[0m\u001b[1;33m\u001b[0m\u001b[1;33m\u001b[0m\u001b[0m\n\u001b[0;32m    313\u001b[0m         \u001b[1;32mdef\u001b[0m \u001b[0m_select\u001b[0m\u001b[1;33m(\u001b[0m\u001b[0mself\u001b[0m\u001b[1;33m,\u001b[0m \u001b[0mr\u001b[0m\u001b[1;33m,\u001b[0m \u001b[0mw\u001b[0m\u001b[1;33m,\u001b[0m \u001b[0m_\u001b[0m\u001b[1;33m,\u001b[0m \u001b[0mtimeout\u001b[0m\u001b[1;33m=\u001b[0m\u001b[1;32mNone\u001b[0m\u001b[1;33m)\u001b[0m\u001b[1;33m:\u001b[0m\u001b[1;33m\u001b[0m\u001b[1;33m\u001b[0m\u001b[0m\n\u001b[1;32m--> 314\u001b[1;33m             \u001b[0mr\u001b[0m\u001b[1;33m,\u001b[0m \u001b[0mw\u001b[0m\u001b[1;33m,\u001b[0m \u001b[0mx\u001b[0m \u001b[1;33m=\u001b[0m \u001b[0mselect\u001b[0m\u001b[1;33m.\u001b[0m\u001b[0mselect\u001b[0m\u001b[1;33m(\u001b[0m\u001b[0mr\u001b[0m\u001b[1;33m,\u001b[0m \u001b[0mw\u001b[0m\u001b[1;33m,\u001b[0m \u001b[0mw\u001b[0m\u001b[1;33m,\u001b[0m \u001b[0mtimeout\u001b[0m\u001b[1;33m)\u001b[0m\u001b[1;33m\u001b[0m\u001b[1;33m\u001b[0m\u001b[0m\n\u001b[0m\u001b[0;32m    315\u001b[0m             \u001b[1;32mreturn\u001b[0m \u001b[0mr\u001b[0m\u001b[1;33m,\u001b[0m \u001b[0mw\u001b[0m \u001b[1;33m+\u001b[0m \u001b[0mx\u001b[0m\u001b[1;33m,\u001b[0m \u001b[1;33m[\u001b[0m\u001b[1;33m]\u001b[0m\u001b[1;33m\u001b[0m\u001b[1;33m\u001b[0m\u001b[0m\n\u001b[0;32m    316\u001b[0m     \u001b[1;32melse\u001b[0m\u001b[1;33m:\u001b[0m\u001b[1;33m\u001b[0m\u001b[1;33m\u001b[0m\u001b[0m\n",
      "\u001b[1;31mKeyboardInterrupt\u001b[0m: "
     ]
    }
   ],
   "source": [
    "messages = []\n",
    "for msg in consumer:\n",
    "    message = msg.value.decode('utf-8')\n",
    "    messages.append(message)"
   ]
  },
  {
   "cell_type": "code",
   "execution_count": 5,
   "metadata": {},
   "outputs": [
    {
     "data": {
      "text/plain": [
       "['{\"requestString\":\"\",\"searchInput\":\"\",\"host\":\"www.google.com\",\"searchUrl\":\"\",\"href\":\"https://www.google.com/\",\"timeSpentOnPage\":\"2.229\",\"longitude\":\"77.7108574\",\"latitude\":\"12.9840764\",\"locale\":\"en-US\",\"timeSpentOnTask\":\"78\",\"timeUnit\":\"seconds\",\"ipAddress\":null,\"operatingSystem\":\"Windows\",\"browserName\":\"Chrome\",\"city\":null,\"startDate\":\"2022-07-26\",\"startTime\":\"2022-07-26T11:13:43.460+0000\",\"clickedUrl\":\"\",\"deviceName\":\"Windows\",\"osVersion\":\"10\",\"token\":\"41d88096-cb5f-4c6e-9c55-485557cea494_42364_ZGUxNWFhODItYjQxYi00NzgyLWI0NmYtZDBmNDM0MzFkMDBk\",\"questionId\":42364,\"questionType\":\"BEHAVIOUR_TRACKING\",\"other\":null,\"title\":\"Browser screen recording\",\"videoLink\":\"[\\\\\"https://test.o360.online/downloads/41d88096-cb5f-4c6e-9c55-485557cea494_42364_ZGUxNWFhODItYjQxYi00NzgyLWI0NmYtZDBmNDM0MzFkMDBk/videos/26-07-2022-11:15:19:875.mp4\\\\\"]\",\"audioLink\":\"\",\"cameraLink\":\"\",\"imageLink\":\"\",\"htmlLink\":\"https://test.o360.online/downloads/41d88096-cb5f-4c6e-9c55-485557cea494_42364_ZGUxNWFhODItYjQxYi00NzgyLWI0NmYtZDBmNDM0MzFkMDBk/26-07-2022-11:15:20:102.html\",\"respId\":\"e05978cb-d768-4bf2-a5d5-8431dae63298\",\"surveyId\":8888,\"responseTime\":\"2022-07-26T11:20:00.507168Z\"}',\n",
       " '{\"requestString\":\"Ama\",\"searchInput\":\"amazon\",\"host\":\"www.google.com\",\"searchUrl\":\"\",\"href\":\"https://www.google.com/\",\"timeSpentOnPage\":\"0\",\"longitude\":null,\"latitude\":null,\"locale\":null,\"timeSpentOnTask\":null,\"timeUnit\":null,\"ipAddress\":null,\"operatingSystem\":\"Windows\",\"browserName\":\"Chrome\",\"city\":null,\"startDate\":\"2022-07-26\",\"startTime\":\"2022-07-26T11:13:45.312+0000\",\"clickedUrl\":null,\"deviceName\":\"Windows\",\"osVersion\":\"10\",\"token\":\"41d88096-cb5f-4c6e-9c55-485557cea494_42364_ZGUxNWFhODItYjQxYi00NzgyLWI0NmYtZDBmNDM0MzFkMDBk\",\"questionId\":42364,\"questionType\":\"BEHAVIOUR_TRACKING\",\"other\":null,\"title\":\"Browser screen recording\",\"videoLink\":\"[\\\\\"https://test.o360.online/downloads/41d88096-cb5f-4c6e-9c55-485557cea494_42364_ZGUxNWFhODItYjQxYi00NzgyLWI0NmYtZDBmNDM0MzFkMDBk/videos/26-07-2022-11:15:19:875.mp4\\\\\"]\",\"audioLink\":\"\",\"cameraLink\":\"\",\"imageLink\":\"\",\"htmlLink\":\"https://test.o360.online/downloads/41d88096-cb5f-4c6e-9c55-485557cea494_42364_ZGUxNWFhODItYjQxYi00NzgyLWI0NmYtZDBmNDM0MzFkMDBk/26-07-2022-11:15:20:158.html\",\"respId\":\"e05978cb-d768-4bf2-a5d5-8431dae63298\",\"surveyId\":8888,\"responseTime\":\"2022-07-26T11:20:00.510101Z\"}',\n",
       " '{\"requestString\":\"\",\"searchInput\":\"\",\"host\":\"www.google.com\",\"searchUrl\":\"?q=amazon&source=hp&ei=Z8zfYriTC_WgiLMPvpy72Aw&iflsig=AJiK0e8AAAAAYt_adxfZkWd2J-lYM_3xcUd-hhtCj0u-&gs_ssp=eJzj4tDP1TfITc9OV2A0YHRg8GJLzE2sys8DAELoBhw&oq=Ama&gs_lcp=Cgdnd3Mtd2l6EAMYADIRCC4QgAQQsQMQgwEQxwEQ0QMyCwgAEIAEELEDEIMBMgsIABCABBCxAxCDATILCAAQgAQQsQMQgwEyCwgAEIAEELEDEIMBMg4IABCABBCxAxCDARDJAzIFCAAQkgMyBQgAEJIDMhEILhCABBCxAxCDARDHARDRAzILCAAQgAQQsQMQgwE6BQguEIAEOggILhCxAxCDAToUCC4QgAQQsQMQgwEQxwEQ0QMQ1AI6CAguEIAEELEDUABY-AJggwpoAHAAeACAAZACiAGnBpIBAzItM5gBAKABAQ&sclient=gws-wiz\",\"href\":\"https://www.google.com/search?q=amazon&source=hp&ei=Z8zfYriTC_WgiLMPvpy72Aw&iflsig=AJiK0e8AAAAAYt_adxfZkWd2J-lYM_3xcUd-hhtCj0u-&gs_ssp=eJzj4tDP1TfITc9OV2A0YHRg8GJLzE2sys8DAELoBhw&oq=Ama&gs_lcp=Cgdnd3Mtd2l6EAMYADIRCC4QgAQQsQMQgwEQxwEQ0QMyCwgAEIAEELEDEIMBMgsIABCABBCxAxCDATILCAAQgAQQsQMQgwEyCwgAEIAEELEDEIMBMg4IABCABBCxAxCDARDJAzIFCAAQkgMyBQgAEJIDMhEILhCABBCxAxCDARDHARDRAzILCAAQgAQQsQMQgwE6BQguEIAEOggILhCxAxCDAToUCC4QgAQQsQMQgwEQxwEQ0QMQ1AI6CAguEIAEELEDUABY-AJggwpoAHAAeACAAZACiAGnBpIBAzItM5gBAKABAQ&sclient=gws-wiz\",\"timeSpentOnPage\":\"2.373\",\"longitude\":null,\"latitude\":null,\"locale\":null,\"timeSpentOnTask\":null,\"timeUnit\":null,\"ipAddress\":null,\"operatingSystem\":\"Windows\",\"browserName\":\"Chrome\",\"city\":null,\"startDate\":\"2022-07-26\",\"startTime\":\"2022-07-26T11:13:46.633+0000\",\"clickedUrl\":\"https://www.google.com/\",\"deviceName\":\"Windows\",\"osVersion\":\"10\",\"token\":\"41d88096-cb5f-4c6e-9c55-485557cea494_42364_ZGUxNWFhODItYjQxYi00NzgyLWI0NmYtZDBmNDM0MzFkMDBk\",\"questionId\":42364,\"questionType\":\"BEHAVIOUR_TRACKING\",\"other\":null,\"title\":\"Browser screen recording\",\"videoLink\":\"[\\\\\"https://test.o360.online/downloads/41d88096-cb5f-4c6e-9c55-485557cea494_42364_ZGUxNWFhODItYjQxYi00NzgyLWI0NmYtZDBmNDM0MzFkMDBk/videos/26-07-2022-11:15:19:875.mp4\\\\\"]\",\"audioLink\":\"\",\"cameraLink\":\"\",\"imageLink\":\"\",\"htmlLink\":\"https://test.o360.online/downloads/41d88096-cb5f-4c6e-9c55-485557cea494_42364_ZGUxNWFhODItYjQxYi00NzgyLWI0NmYtZDBmNDM0MzFkMDBk/26-07-2022-11:15:20:291.html\",\"respId\":\"e05978cb-d768-4bf2-a5d5-8431dae63298\",\"surveyId\":8888,\"responseTime\":\"2022-07-26T11:20:00.510633Z\"}',\n",
       " '{\"requestString\":\"\",\"searchInput\":\"\",\"host\":\"www.amazon.com\",\"searchUrl\":\"?i=fashion&bbn=19314805011&rh=n%3A7141123011%2Cn%3A19314805011%2Cn%3A7147441011%2Cn%3A679255011&s=date-desc-rank&pd_rd_r=04557ce6-22ff-413b-b439-6fa34ce074ab&pd_rd_w=3r0L6&pd_rd_wg=O5Ns4&pf_rd_p=88bb663e-1a88-4e60-94bc-aceafebba485&pf_rd_r=9DXVX7J7ERERB6JD1GRH&ref=Topcard_QuadCat_AF_July_SND_1_Shoes\",\"href\":\"https://www.amazon.com/s?i=fashion&bbn=19314805011&rh=n%3A7141123011%2Cn%3A19314805011%2Cn%3A7147441011%2Cn%3A679255011&s=date-desc-rank&pd_rd_r=04557ce6-22ff-413b-b439-6fa34ce074ab&pd_rd_w=3r0L6&pd_rd_wg=O5Ns4&pf_rd_p=88bb663e-1a88-4e60-94bc-aceafebba485&pf_rd_r=9DXVX7J7ERERB6JD1GRH&ref=Topcard_QuadCat_AF_July_SND_1_Shoes\",\"timeSpentOnPage\":\"0.216\",\"longitude\":null,\"latitude\":null,\"locale\":null,\"timeSpentOnTask\":null,\"timeUnit\":null,\"ipAddress\":null,\"operatingSystem\":\"Windows\",\"browserName\":\"Chrome\",\"city\":null,\"startDate\":\"2022-07-26\",\"startTime\":\"2022-07-26T11:13:55.857+0000\",\"clickedUrl\":\"https://www.amazon.com/s?i=fashion&bbn=19314805011&rh=n%3A7141123011%2Cn%3A19314805011%2Cn%3A7147441011%2Cn%3A679255011&s=date-desc-rank&ref_=Topcard_QuadCat_AF_July_SND_1_Shoes&pf_rd_r=9DXVX7J7ERERB6JD1GRH&pf_rd_p=88bb663e-1a88-4e60-94bc-aceafebba485&pd_rd_r=04557ce6-22ff-413b-b439-6fa34ce074ab&pd_rd_w=3r0L6&pd_rd_wg=O5Ns4\",\"deviceName\":\"Windows\",\"osVersion\":\"10\",\"token\":\"41d88096-cb5f-4c6e-9c55-485557cea494_42364_ZGUxNWFhODItYjQxYi00NzgyLWI0NmYtZDBmNDM0MzFkMDBk\",\"questionId\":42364,\"questionType\":\"BEHAVIOUR_TRACKING\",\"other\":null,\"title\":\"Browser screen recording\",\"videoLink\":\"[\\\\\"https://test.o360.online/downloads/41d88096-cb5f-4c6e-9c55-485557cea494_42364_ZGUxNWFhODItYjQxYi00NzgyLWI0NmYtZDBmNDM0MzFkMDBk/videos/26-07-2022-11:15:19:875.mp4\\\\\"]\",\"audioLink\":\"\",\"cameraLink\":\"\",\"imageLink\":\"\",\"htmlLink\":\"https://test.o360.online/downloads/41d88096-cb5f-4c6e-9c55-485557cea494_42364_ZGUxNWFhODItYjQxYi00NzgyLWI0NmYtZDBmNDM0MzFkMDBk/26-07-2022-11:15:20:455.html\",\"respId\":\"e05978cb-d768-4bf2-a5d5-8431dae63298\",\"surveyId\":8888,\"responseTime\":\"2022-07-26T11:20:00.511126Z\"}',\n",
       " '{\"requestString\":\"\",\"searchInput\":\"\",\"host\":\"www.amazon.com\",\"searchUrl\":\"?pd_rd_r=04557ce6-22ff-413b-b439-6fa34ce074ab&pd_rd_w=3r0L6&pd_rd_wg=O5Ns4&pf_rd_p=88bb663e-1a88-4e60-94bc-aceafebba485&pf_rd_r=9DXVX7J7ERERB6JD1GRH&qid=1658834032&s=apparel&sr=1-2\",\"href\":\"https://www.amazon.com/Rockport-Byron-Casual-Slide-Sandal/dp/B09QCZQ735/ref=sr_1_2?pd_rd_r=04557ce6-22ff-413b-b439-6fa34ce074ab&pd_rd_w=3r0L6&pd_rd_wg=O5Ns4&pf_rd_p=88bb663e-1a88-4e60-94bc-aceafebba485&pf_rd_r=9DXVX7J7ERERB6JD1GRH&qid=1658834032&s=apparel&sr=1-2\",\"timeSpentOnPage\":\"2.034\",\"longitude\":null,\"latitude\":null,\"locale\":null,\"timeSpentOnTask\":null,\"timeUnit\":null,\"ipAddress\":null,\"operatingSystem\":\"Windows\",\"browserName\":\"Chrome\",\"city\":null,\"startDate\":\"2022-07-26\",\"startTime\":\"2022-07-26T11:14:00.058+0000\",\"clickedUrl\":\"https://www.amazon.com/Rockport-Byron-Casual-Slide-Sandal/dp/B09QCZQ735/ref=sr_1_2?pd_rd_r=04557ce6-22ff-413b-b439-6fa34ce074ab&pd_rd_w=3r0L6&pd_rd_wg=O5Ns4&pf_rd_p=88bb663e-1a88-4e60-94bc-aceafebba485&pf_rd_r=9DXVX7J7ERERB6JD1GRH&qid=1658834032&s=apparel&sr=1-2\",\"deviceName\":\"Windows\",\"osVersion\":\"10\",\"token\":\"41d88096-cb5f-4c6e-9c55-485557cea494_42364_ZGUxNWFhODItYjQxYi00NzgyLWI0NmYtZDBmNDM0MzFkMDBk\",\"questionId\":42364,\"questionType\":\"BEHAVIOUR_TRACKING\",\"other\":null,\"title\":\"Browser screen recording\",\"videoLink\":\"[\\\\\"https://test.o360.online/downloads/41d88096-cb5f-4c6e-9c55-485557cea494_42364_ZGUxNWFhODItYjQxYi00NzgyLWI0NmYtZDBmNDM0MzFkMDBk/videos/26-07-2022-11:15:19:875.mp4\\\\\"]\",\"audioLink\":\"\",\"cameraLink\":\"\",\"imageLink\":\"\",\"htmlLink\":\"https://test.o360.online/downloads/41d88096-cb5f-4c6e-9c55-485557cea494_42364_ZGUxNWFhODItYjQxYi00NzgyLWI0NmYtZDBmNDM0MzFkMDBk/26-07-2022-11:15:20:597.html\",\"respId\":\"e05978cb-d768-4bf2-a5d5-8431dae63298\",\"surveyId\":8888,\"responseTime\":\"2022-07-26T11:20:00.511679Z\"}',\n",
       " '{\"requestString\":\"\",\"searchInput\":\"\",\"host\":\"www.amazon.com\",\"searchUrl\":\"?psc=1&pd_rd_i=B01J7Q7DAC&pd_rd_w=ABHgc&content-id=amzn1.sym.3481f441-61ac-4028-9c1a-7f9ce8ec50c5&pf_rd_p=3481f441-61ac-4028-9c1a-7f9ce8ec50c5&pf_rd_r=QSGJJ6ZA8BZCZ96W8ENH&pd_rd_wg=rRj0g&pd_rd_r=359fdcfe-c2c4-43b2-8e54-0d3c82d97f28&s=apparel&spLa=ZW5jcnlwdGVkUXVhbGlmaWVyPUEyNDhMT1pLUlVJWDNKJmVuY3J5cHRlZElkPUEwMzYwMzM4MjBFUFFWVkdEV1JUQyZlbmNyeXB0ZWRBZElkPUEwNjU2OTQ0MUJaWThMN0hJNFBISCZ3aWRnZXROYW1lPXNwX2RldGFpbF90aGVtYXRpYyZhY3Rpb249Y2xpY2tSZWRpcmVjdCZkb05vdExvZ0NsaWNrPXRydWU=\",\"href\":\"https://www.amazon.com/dp/B01J7Q7DAC/ref=sspa_dk_detail_2?psc=1&pd_rd_i=B01J7Q7DAC&pd_rd_w=ABHgc&content-id=amzn1.sym.3481f441-61ac-4028-9c1a-7f9ce8ec50c5&pf_rd_p=3481f441-61ac-4028-9c1a-7f9ce8ec50c5&pf_rd_r=QSGJJ6ZA8BZCZ96W8ENH&pd_rd_wg=rRj0g&pd_rd_r=359fdcfe-c2c4-43b2-8e54-0d3c82d97f28&s=apparel&spLa=ZW5jcnlwdGVkUXVhbGlmaWVyPUEyNDhMT1pLUlVJWDNKJmVuY3J5cHRlZElkPUEwMzYwMzM4MjBFUFFWVkdEV1JUQyZlbmNyeXB0ZWRBZElkPUEwNjU2OTQ0MUJaWThMN0hJNFBISCZ3aWRnZXROYW1lPXNwX2RldGFpbF90aGVtYXRpYyZhY3Rpb249Y2xpY2tSZWRpcmVjdCZkb05vdExvZ0NsaWNrPXRydWU=\",\"timeSpentOnPage\":\"4.174\",\"longitude\":null,\"latitude\":null,\"locale\":null,\"timeSpentOnTask\":null,\"timeUnit\":null,\"ipAddress\":null,\"operatingSystem\":\"Windows\",\"browserName\":\"Chrome\",\"city\":null,\"startDate\":\"2022-07-26\",\"startTime\":\"2022-07-26T11:14:05.252+0000\",\"clickedUrl\":\"https://www.amazon.com/gp/slredirect/picassoRedirect.html/ref=sspa_dk_detail_2?ie=UTF8&adId=A06569441BZY8L7HI4PHH&qualifier=1658834036&id=5895770979448537&widgetName=sp_detail_thematic&url=%2Fdp%2FB01J7Q7DAC%2Fref%3Dsspa_dk_detail_2%3Fpsc%3D1%26pd_rd_i%3DB01J7Q7DAC%26pd_rd_w%3DABHgc%26content-id%3Damzn1.sym.3481f441-61ac-4028-9c1a-7f9ce8ec50c5%26pf_rd_p%3D3481f441-61ac-4028-9c1a-7f9ce8ec50c5%26pf_rd_r%3DQSGJJ6ZA8BZCZ96W8ENH%26pd_rd_wg%3DrRj0g%26pd_rd_r%3D359fdcfe-c2c4-43b2-8e54-0d3c82d97f28%26s%3Dapparel&sp_csd=d2lkZ2V0TmFtZT1zcF9kZXRhaWxfdGhlbWF0aWM\",\"deviceName\":\"Windows\",\"osVersion\":\"10\",\"token\":\"41d88096-cb5f-4c6e-9c55-485557cea494_42364_ZGUxNWFhODItYjQxYi00NzgyLWI0NmYtZDBmNDM0MzFkMDBk\",\"questionId\":42364,\"questionType\":\"BEHAVIOUR_TRACKING\",\"other\":null,\"title\":\"Browser screen recording\",\"videoLink\":\"[\\\\\"https://test.o360.online/downloads/41d88096-cb5f-4c6e-9c55-485557cea494_42364_ZGUxNWFhODItYjQxYi00NzgyLWI0NmYtZDBmNDM0MzFkMDBk/videos/26-07-2022-11:15:19:875.mp4\\\\\"]\",\"audioLink\":\"\",\"cameraLink\":\"\",\"imageLink\":\"\",\"htmlLink\":\"https://test.o360.online/downloads/41d88096-cb5f-4c6e-9c55-485557cea494_42364_ZGUxNWFhODItYjQxYi00NzgyLWI0NmYtZDBmNDM0MzFkMDBk/26-07-2022-11:15:20:738.html\",\"respId\":\"e05978cb-d768-4bf2-a5d5-8431dae63298\",\"surveyId\":8888,\"responseTime\":\"2022-07-26T11:20:00.512162Z\"}',\n",
       " '{\"requestString\":\"alex\",\"searchInput\":\"alexa\",\"host\":\"www.amazon.com\",\"searchUrl\":\"?psc=1&pd_rd_i=B09RF1BZRM&pd_rd_w=l5OvD&content-id=amzn1.sym.37ad3f81-aeff-4fe7-accb-8665976bb5fc&pf_rd_p=37ad3f81-aeff-4fe7-accb-8665976bb5fc&pf_rd_r=01JHWN0VHXAMF9AZ9B8G&pd_rd_wg=4var0&pd_rd_r=8491a8b6-9919-4379-aab4-f6e6e9e16336&s=apparel&spLa=ZW5jcnlwdGVkUXVhbGlmaWVyPUEzMTRJNFpEQzJWOUpWJmVuY3J5cHRlZElkPUEwMzk5MTA0MVo5OFgwS1lLTk43VSZlbmNyeXB0ZWRBZElkPUEwNjk1NjM2MjlZSTg3TzFMREJSOCZ3aWRnZXROYW1lPXNwX2RldGFpbF90aGVtYXRpYyZhY3Rpb249Y2xpY2tSZWRpcmVjdCZkb05vdExvZ0NsaWNrPXRydWU=\",\"href\":\"https://www.amazon.com/dp/B09RF1BZRM/ref=sspa_dk_detail_1?psc=1&pd_rd_i=B09RF1BZRM&pd_rd_w=l5OvD&content-id=amzn1.sym.37ad3f81-aeff-4fe7-accb-8665976bb5fc&pf_rd_p=37ad3f81-aeff-4fe7-accb-8665976bb5fc&pf_rd_r=01JHWN0VHXAMF9AZ9B8G&pd_rd_wg=4var0&pd_rd_r=8491a8b6-9919-4379-aab4-f6e6e9e16336&s=apparel&spLa=ZW5jcnlwdGVkUXVhbGlmaWVyPUEzMTRJNFpEQzJWOUpWJmVuY3J5cHRlZElkPUEwMzk5MTA0MVo5OFgwS1lLTk43VSZlbmNyeXB0ZWRBZElkPUEwNjk1NjM2MjlZSTg3TzFMREJSOCZ3aWRnZXROYW1lPXNwX2RldGFpbF90aGVtYXRpYyZhY3Rpb249Y2xpY2tSZWRpcmVjdCZkb05vdExvZ0NsaWNrPXRydWU=\",\"timeSpentOnPage\":\"0\",\"longitude\":null,\"latitude\":null,\"locale\":null,\"timeSpentOnTask\":null,\"timeUnit\":null,\"ipAddress\":null,\"operatingSystem\":\"Windows\",\"browserName\":\"Chrome\",\"city\":null,\"startDate\":\"2022-07-26\",\"startTime\":\"2022-07-26T11:14:12.212+0000\",\"clickedUrl\":\"https://www.amazon.com/gp/slredirect/picassoRedirect.html/ref=sspa_dk_detail_1?ie=UTF8&adId=A069563629YI87O1LDBR8&qualifier=1658834041&id=5171413267275354&widgetName=sp_detail_thematic&url=%2Fdp%2FB09RF1BZRM%2Fref%3Dsspa_dk_detail_1%3Fpsc%3D1%26pd_rd_i%3DB09RF1BZRM%26pd_rd_w%3Dl5OvD%26content-id%3Damzn1.sym.37ad3f81-aeff-4fe7-accb-8665976bb5fc%26pf_rd_p%3D37ad3f81-aeff-4fe7-accb-8665976bb5fc%26pf_rd_r%3D01JHWN0VHXAMF9AZ9B8G%26pd_rd_wg%3D4var0%26pd_rd_r%3D8491a8b6-9919-4379-aab4-f6e6e9e16336%26s%3Dapparel&sp_csd=d2lkZ2V0TmFtZT1zcF9kZXRhaWxfdGhlbWF0aWM\",\"deviceName\":\"Windows\",\"osVersion\":\"10\",\"token\":\"41d88096-cb5f-4c6e-9c55-485557cea494_42364_ZGUxNWFhODItYjQxYi00NzgyLWI0NmYtZDBmNDM0MzFkMDBk\",\"questionId\":42364,\"questionType\":\"BEHAVIOUR_TRACKING\",\"other\":null,\"title\":\"Browser screen recording\",\"videoLink\":\"[\\\\\"https://test.o360.online/downloads/41d88096-cb5f-4c6e-9c55-485557cea494_42364_ZGUxNWFhODItYjQxYi00NzgyLWI0NmYtZDBmNDM0MzFkMDBk/videos/26-07-2022-11:15:19:875.mp4\\\\\"]\",\"audioLink\":\"\",\"cameraLink\":\"\",\"imageLink\":\"\",\"htmlLink\":\"https://test.o360.online/downloads/41d88096-cb5f-4c6e-9c55-485557cea494_42364_ZGUxNWFhODItYjQxYi00NzgyLWI0NmYtZDBmNDM0MzFkMDBk/26-07-2022-11:15:20:912.html\",\"respId\":\"e05978cb-d768-4bf2-a5d5-8431dae63298\",\"surveyId\":8888,\"responseTime\":\"2022-07-26T11:20:00.512698Z\"}',\n",
       " '{\"requestString\":\"\",\"searchInput\":\"\",\"host\":\"www.amazon.com\",\"searchUrl\":\"?k=alexa&sprefix=alex%2Caps%2C320&ref=nb_sb_ss_retrain-deeppltr_1_4\",\"href\":\"https://www.amazon.com/s?k=alexa&sprefix=alex%2Caps%2C320&ref=nb_sb_ss_retrain-deeppltr_1_4\",\"timeSpentOnPage\":\"0.543\",\"longitude\":null,\"latitude\":null,\"locale\":null,\"timeSpentOnTask\":null,\"timeUnit\":null,\"ipAddress\":null,\"operatingSystem\":\"Windows\",\"browserName\":\"Chrome\",\"city\":null,\"startDate\":\"2022-07-26\",\"startTime\":\"2022-07-26T11:14:16.497+0000\",\"clickedUrl\":\"https://www.amazon.com/dp/B09RF1BZRM/ref=sspa_dk_detail_1?psc=1&pd_rd_i=B09RF1BZRM&pd_rd_w=l5OvD&content-id=amzn1.sym.37ad3f81-aeff-4fe7-accb-8665976bb5fc&pf_rd_p=37ad3f81-aeff-4fe7-accb-8665976bb5fc&pf_rd_r=01JHWN0VHXAMF9AZ9B8G&pd_rd_wg=4var0&pd_rd_r=8491a8b6-9919-4379-aab4-f6e6e9e16336&s=apparel&spLa=ZW5jcnlwdGVkUXVhbGlmaWVyPUEzMTRJNFpEQzJWOUpWJmVuY3J5cHRlZElkPUEwMzk5MTA0MVo5OFgwS1lLTk43VSZlbmNyeXB0ZWRBZElkPUEwNjk1NjM2MjlZSTg3TzFMREJSOCZ3aWRnZXROYW1lPXNwX2RldGFpbF90aGVtYXRpYyZhY3Rpb249Y2xpY2tSZWRpcmVjdCZkb05vdExvZ0NsaWNrPXRydWU=\",\"deviceName\":\"Windows\",\"osVersion\":\"10\",\"token\":\"41d88096-cb5f-4c6e-9c55-485557cea494_42364_ZGUxNWFhODItYjQxYi00NzgyLWI0NmYtZDBmNDM0MzFkMDBk\",\"questionId\":42364,\"questionType\":\"BEHAVIOUR_TRACKING\",\"other\":null,\"title\":\"Browser screen recording\",\"videoLink\":\"[\\\\\"https://test.o360.online/downloads/41d88096-cb5f-4c6e-9c55-485557cea494_42364_ZGUxNWFhODItYjQxYi00NzgyLWI0NmYtZDBmNDM0MzFkMDBk/videos/26-07-2022-11:15:19:875.mp4\\\\\"]\",\"audioLink\":\"\",\"cameraLink\":\"\",\"imageLink\":\"\",\"htmlLink\":\"https://test.o360.online/downloads/41d88096-cb5f-4c6e-9c55-485557cea494_42364_ZGUxNWFhODItYjQxYi00NzgyLWI0NmYtZDBmNDM0MzFkMDBk/26-07-2022-11:15:21:029.html\",\"respId\":\"e05978cb-d768-4bf2-a5d5-8431dae63298\",\"surveyId\":8888,\"responseTime\":\"2022-07-26T11:20:00.513136Z\"}',\n",
       " '{\"requestString\":\"\",\"searchInput\":\"\",\"host\":\"www.amazon.com\",\"searchUrl\":\"?ref_=nav_cs_primelink_nonmember\",\"href\":\"https://www.amazon.com/amazonprime?ref_=nav_cs_primelink_nonmember\",\"timeSpentOnPage\":\"5.224\",\"longitude\":null,\"latitude\":null,\"locale\":null,\"timeSpentOnTask\":null,\"timeUnit\":null,\"ipAddress\":null,\"operatingSystem\":\"Windows\",\"browserName\":\"Chrome\",\"city\":null,\"startDate\":\"2022-07-26\",\"startTime\":\"2022-07-26T11:14:37.749+0000\",\"clickedUrl\":\"https://www.amazon.com/prime?ref_=nav_cs_primelink_nonmember\",\"deviceName\":\"Windows\",\"osVersion\":\"10\",\"token\":\"41d88096-cb5f-4c6e-9c55-485557cea494_42364_ZGUxNWFhODItYjQxYi00NzgyLWI0NmYtZDBmNDM0MzFkMDBk\",\"questionId\":42364,\"questionType\":\"BEHAVIOUR_TRACKING\",\"other\":null,\"title\":\"Browser screen recording\",\"videoLink\":\"[\\\\\"https://test.o360.online/downloads/41d88096-cb5f-4c6e-9c55-485557cea494_42364_ZGUxNWFhODItYjQxYi00NzgyLWI0NmYtZDBmNDM0MzFkMDBk/videos/26-07-2022-11:15:19:875.mp4\\\\\"]\",\"audioLink\":\"\",\"cameraLink\":\"\",\"imageLink\":\"\",\"htmlLink\":\"https://test.o360.online/downloads/41d88096-cb5f-4c6e-9c55-485557cea494_42364_ZGUxNWFhODItYjQxYi00NzgyLWI0NmYtZDBmNDM0MzFkMDBk/26-07-2022-11:15:21:231.html\",\"respId\":\"e05978cb-d768-4bf2-a5d5-8431dae63298\",\"surveyId\":8888,\"responseTime\":\"2022-07-26T11:20:00.513686Z\"}',\n",
       " '{\"requestString\":\"iphonwe\",\"searchInput\":\"iphonwe\",\"host\":\"www.amazon.com\",\"searchUrl\":\"?ref_=nav_cs_primelink_nonmember\",\"href\":\"https://www.amazon.com/amazonprime?ref_=nav_cs_primelink_nonmember\",\"timeSpentOnPage\":\"0\",\"longitude\":null,\"latitude\":null,\"locale\":null,\"timeSpentOnTask\":null,\"timeUnit\":null,\"ipAddress\":null,\"operatingSystem\":\"Windows\",\"browserName\":\"Chrome\",\"city\":null,\"startDate\":\"2022-07-26\",\"startTime\":\"2022-07-26T11:14:42.147+0000\",\"clickedUrl\":null,\"deviceName\":\"Windows\",\"osVersion\":\"10\",\"token\":\"41d88096-cb5f-4c6e-9c55-485557cea494_42364_ZGUxNWFhODItYjQxYi00NzgyLWI0NmYtZDBmNDM0MzFkMDBk\",\"questionId\":42364,\"questionType\":\"BEHAVIOUR_TRACKING\",\"other\":null,\"title\":\"Browser screen recording\",\"videoLink\":\"[\\\\\"https://test.o360.online/downloads/41d88096-cb5f-4c6e-9c55-485557cea494_42364_ZGUxNWFhODItYjQxYi00NzgyLWI0NmYtZDBmNDM0MzFkMDBk/videos/26-07-2022-11:15:19:875.mp4\\\\\"]\",\"audioLink\":\"\",\"cameraLink\":\"\",\"imageLink\":\"\",\"htmlLink\":\"https://test.o360.online/downloads/41d88096-cb5f-4c6e-9c55-485557cea494_42364_ZGUxNWFhODItYjQxYi00NzgyLWI0NmYtZDBmNDM0MzFkMDBk/26-07-2022-11:15:21:318.html\",\"respId\":\"e05978cb-d768-4bf2-a5d5-8431dae63298\",\"surveyId\":8888,\"responseTime\":\"2022-07-26T11:20:00.514137Z\"}',\n",
       " '{\"requestString\":\"\",\"searchInput\":\"\",\"host\":\"www.amazon.com\",\"searchUrl\":\"?k=iphonwe&crid=38YOTVYCMHG6M&sprefix=iphonw%2Caps%2C295&ref=nb_sb_noss_2\",\"href\":\"https://www.amazon.com/s?k=iphonwe&crid=38YOTVYCMHG6M&sprefix=iphonw%2Caps%2C295&ref=nb_sb_noss_2\",\"timeSpentOnPage\":\"6.783\",\"longitude\":null,\"latitude\":null,\"locale\":null,\"timeSpentOnTask\":null,\"timeUnit\":null,\"ipAddress\":null,\"operatingSystem\":\"Windows\",\"browserName\":\"Chrome\",\"city\":null,\"startDate\":\"2022-07-26\",\"startTime\":\"2022-07-26T11:14:44.900+0000\",\"clickedUrl\":\"https://www.amazon.com/amazonprime?ref_=nav_cs_primelink_nonmember\",\"deviceName\":\"Windows\",\"osVersion\":\"10\",\"token\":\"41d88096-cb5f-4c6e-9c55-485557cea494_42364_ZGUxNWFhODItYjQxYi00NzgyLWI0NmYtZDBmNDM0MzFkMDBk\",\"questionId\":42364,\"questionType\":\"BEHAVIOUR_TRACKING\",\"other\":null,\"title\":\"Browser screen recording\",\"videoLink\":\"[\\\\\"https://test.o360.online/downloads/41d88096-cb5f-4c6e-9c55-485557cea494_42364_ZGUxNWFhODItYjQxYi00NzgyLWI0NmYtZDBmNDM0MzFkMDBk/videos/26-07-2022-11:15:19:875.mp4\\\\\"]\",\"audioLink\":\"\",\"cameraLink\":\"\",\"imageLink\":\"\",\"htmlLink\":\"https://test.o360.online/downloads/41d88096-cb5f-4c6e-9c55-485557cea494_42364_ZGUxNWFhODItYjQxYi00NzgyLWI0NmYtZDBmNDM0MzFkMDBk/26-07-2022-11:15:21:470.html\",\"respId\":\"e05978cb-d768-4bf2-a5d5-8431dae63298\",\"surveyId\":8888,\"responseTime\":\"2022-07-26T11:20:00.514587Z\"}',\n",
       " '{\"requestString\":\"\",\"searchInput\":\"\",\"host\":\"www.amazon.com\",\"searchUrl\":\"?content-id=amzn1.sym.0486292f-c362-45da-945b-808f25f4f0d3%3Aamzn1.sym.0486292f-c362-45da-945b-808f25f4f0d3&crid=38YOTVYCMHG6M&cv_ct_cx=iphone&keywords=iphone&pd_rd_i=B09V3HZ8B5&pd_rd_r=f68fcc33-1cfe-4c89-96fb-51642e6749cb&pd_rd_w=tYUW9&pd_rd_wg=icWVW&pf_rd_p=0486292f-c362-45da-945b-808f25f4f0d3&pf_rd_r=PF0XTD686222DCA05K91&qid=1658834082&sprefix=iphonw%2Caps%2C295&sr=1-1-fef2b2e4-69ac-4e67-aa79-518e6af1b7d1\",\"href\":\"https://www.amazon.com/Apple-iPhone-Alpine-Carrier-Subscription/dp/B09V3HZ8B5/ref=sxin_11_hcs-iphone-la-us-1?content-id=amzn1.sym.0486292f-c362-45da-945b-808f25f4f0d3%3Aamzn1.sym.0486292f-c362-45da-945b-808f25f4f0d3&crid=38YOTVYCMHG6M&cv_ct_cx=iphone&keywords=iphone&pd_rd_i=B09V3HZ8B5&pd_rd_r=f68fcc33-1cfe-4c89-96fb-51642e6749cb&pd_rd_w=tYUW9&pd_rd_wg=icWVW&pf_rd_p=0486292f-c362-45da-945b-808f25f4f0d3&pf_rd_r=PF0XTD686222DCA05K91&qid=1658834082&sprefix=iphonw%2Caps%2C295&sr=1-1-fef2b2e4-69ac-4e67-aa79-518e6af1b7d1\",\"timeSpentOnPage\":\"57\",\"longitude\":null,\"latitude\":null,\"locale\":null,\"timeSpentOnTask\":null,\"timeUnit\":null,\"ipAddress\":null,\"operatingSystem\":\"Windows\",\"browserName\":\"Chrome\",\"city\":null,\"startDate\":\"2022-07-26\",\"startTime\":\"2022-07-26T11:14:52.711+0000\",\"clickedUrl\":\"https://www.amazon.com/Apple-iPhone-Alpine-Carrier-Subscription/dp/B09V3HZ8B5/ref=sxin_11_hcs-iphone-la-us-1?content-id=amzn1.sym.0486292f-c362-45da-945b-808f25f4f0d3%3Aamzn1.sym.0486292f-c362-45da-945b-808f25f4f0d3&crid=38YOTVYCMHG6M&cv_ct_cx=iphone&keywords=iphone&pd_rd_i=B09V3HZ8B5&pd_rd_r=f68fcc33-1cfe-4c89-96fb-51642e6749cb&pd_rd_w=tYUW9&pd_rd_wg=icWVW&pf_rd_p=0486292f-c362-45da-945b-808f25f4f0d3&pf_rd_r=PF0XTD686222DCA05K91&qid=1658834082&sprefix=iphonw%2Caps%2C295&sr=1-1-fef2b2e4-69ac-4e67-aa79-518e6af1b7d1\",\"deviceName\":\"Windows\",\"osVersion\":\"10\",\"token\":\"41d88096-cb5f-4c6e-9c55-485557cea494_42364_ZGUxNWFhODItYjQxYi00NzgyLWI0NmYtZDBmNDM0MzFkMDBk\",\"questionId\":42364,\"questionType\":\"BEHAVIOUR_TRACKING\",\"other\":null,\"title\":\"Browser screen recording\",\"videoLink\":\"[\\\\\"https://test.o360.online/downloads/41d88096-cb5f-4c6e-9c55-485557cea494_42364_ZGUxNWFhODItYjQxYi00NzgyLWI0NmYtZDBmNDM0MzFkMDBk/videos/26-07-2022-11:15:19:875.mp4\\\\\"]\",\"audioLink\":\"\",\"cameraLink\":\"\",\"imageLink\":\"\",\"htmlLink\":\"https://test.o360.online/downloads/41d88096-cb5f-4c6e-9c55-485557cea494_42364_ZGUxNWFhODItYjQxYi00NzgyLWI0NmYtZDBmNDM0MzFkMDBk/26-07-2022-11:15:21:630.html\",\"respId\":\"e05978cb-d768-4bf2-a5d5-8431dae63298\",\"surveyId\":8888,\"responseTime\":\"2022-07-26T11:20:00.515045Z\"}']"
      ]
     },
     "execution_count": 5,
     "metadata": {},
     "output_type": "execute_result"
    }
   ],
   "source": [
    "messages"
   ]
  },
  {
   "cell_type": "code",
   "execution_count": 5,
   "metadata": {},
   "outputs": [],
   "source": [
    "file1 = open(r'D:\\OSG-AA-Products\\Analytics_POD_PDP\\test.txt','r',encoding='utf-8')\n",
    "lines = file1.readlines()\n",
    "file1.close()\n",
    "line_data = []\n",
    "for line in lines:\n",
    "    line_data.append(line.replace('\\n', ''))"
   ]
  },
  {
   "cell_type": "code",
   "execution_count": 9,
   "metadata": {},
   "outputs": [],
   "source": [
    "data = {\"requestString\":\"\",\"searchInput\":\"\",\"host\":\"www.google.com\",\"searchUrl\":\"\",\"href\":\"https://www.google.com/\",\"timeSpentOnPage\":\"2.229\",\"longitude\":\"77.7108574\",\"latitude\":\"12.9840764\",\"locale\":\"en-US\",\"timeSpentOnTask\":\"78\",\"timeUnit\":\"seconds\",\"ipAddress\":\"\",\"operatingSystem\":\"Windows\",\"browserName\":\"Chrome\",\"city\":\"\",\"startDate\":\"2022-07-26\",\"startTime\":\"2022-07-26T11:13:43.460+0000\",\"clickedUrl\":\"\",\"deviceName\":\"Windows\",\"osVersion\":\"10\",\"token\":\"41d88096-cb5f-4c6e-9c55-485557cea494_42364_ZGUxNWFhODItYjQxYi00NzgyLWI0NmYtZDBmNDM0MzFkMDBk\",\"questionId\":42364,\"questionType\":\"BEHAVIOUR_TRACKING\",\"other\":\"\",\"title\":\"Browser screen recording\",\"videoLink\":\"[https://test.o360.online/downloads/41d88096-cb5f-4c6e-9c55-485557cea494_42364_ZGUxNWFhODItYjQxYi00NzgyLWI0NmYtZDBmNDM0MzFkMDBk/videos/26-07-2022-11:15:19:875.mp4]\",\"audioLink\":\"\",\"cameraLink\":\"\",\"imageLink\":\"\",\"htmlLink\":\"https://test.o360.online/downloads/41d88096-cb5f-4c6e-9c55-485557cea494_42364_ZGUxNWFhODItYjQxYi00NzgyLWI0NmYtZDBmNDM0MzFkMDBk/26-07-2022-11:15:20:102.html\",\"respId\":\"e05978cb-d768-4bf2-a5d5-8431dae63298\",\"surveyId\":8888,\"responseTime\":\"2022-07-26T11:20:00.507168Z\"}"
   ]
  },
  {
   "cell_type": "code",
   "execution_count": 17,
   "metadata": {},
   "outputs": [],
   "source": [
    "col_names = list(data.keys())"
   ]
  },
  {
   "cell_type": "code",
   "execution_count": 19,
   "metadata": {},
   "outputs": [
    {
     "data": {
      "text/plain": [
       "{'requestString': '',\n",
       " 'searchInput': '',\n",
       " 'host': 'www.google.com',\n",
       " 'searchUrl': '',\n",
       " 'href': 'https://www.google.com/',\n",
       " 'timeSpentOnPage': '2.229',\n",
       " 'longitude': '77.7108574',\n",
       " 'latitude': '12.9840764',\n",
       " 'locale': 'en-US',\n",
       " 'timeSpentOnTask': '78',\n",
       " 'timeUnit': 'seconds',\n",
       " 'ipAddress': '',\n",
       " 'operatingSystem': 'Windows',\n",
       " 'browserName': 'Chrome',\n",
       " 'city': '',\n",
       " 'startDate': '2022-07-26',\n",
       " 'startTime': '2022-07-26T11:13:43.460+0000',\n",
       " 'clickedUrl': '',\n",
       " 'deviceName': 'Windows',\n",
       " 'osVersion': '10',\n",
       " 'token': '41d88096-cb5f-4c6e-9c55-485557cea494_42364_ZGUxNWFhODItYjQxYi00NzgyLWI0NmYtZDBmNDM0MzFkMDBk',\n",
       " 'questionId': 42364,\n",
       " 'questionType': 'BEHAVIOUR_TRACKING',\n",
       " 'other': '',\n",
       " 'title': 'Browser screen recording',\n",
       " 'videoLink': '[https://test.o360.online/downloads/41d88096-cb5f-4c6e-9c55-485557cea494_42364_ZGUxNWFhODItYjQxYi00NzgyLWI0NmYtZDBmNDM0MzFkMDBk/videos/26-07-2022-11:15:19:875.mp4]',\n",
       " 'audioLink': '',\n",
       " 'cameraLink': '',\n",
       " 'imageLink': '',\n",
       " 'htmlLink': 'https://test.o360.online/downloads/41d88096-cb5f-4c6e-9c55-485557cea494_42364_ZGUxNWFhODItYjQxYi00NzgyLWI0NmYtZDBmNDM0MzFkMDBk/26-07-2022-11:15:20:102.html',\n",
       " 'respId': 'e05978cb-d768-4bf2-a5d5-8431dae63298',\n",
       " 'surveyId': 8888,\n",
       " 'responseTime': '2022-07-26T11:20:00.507168Z'}"
      ]
     },
     "execution_count": 19,
     "metadata": {},
     "output_type": "execute_result"
    }
   ],
   "source": [
    "data"
   ]
  },
  {
   "cell_type": "code",
   "execution_count": null,
   "metadata": {},
   "outputs": [],
   "source": [
    "cursor = db.cursor()\n",
    "query = \"INSERT into Records(UUID,Resp_id,URL,Html_Link) values(%s,%s,%s,%s)\"\n",
    "record = [( msg_json['UUID'],msg_json['Resp Id'], msg_json['URL'], msg_json['htmlLink']),]\n",
    "cursor.executemany(query, record)\n",
    "db.commit()"
   ]
  },
  {
   "cell_type": "code",
   "execution_count": 10,
   "metadata": {},
   "outputs": [],
   "source": [
    "sample_dict = {\"requestString\":\"\",\"searchInput\":\"\",\"host\":\"www.google.com\",\"searchUrl\":\"\",\"href\":\"https://www.google.com/\",\"timeSpentOnPage\":\"0\",\"longitude\":\"77.6404992\",\"latitude\":\"13.0449408\",\"locale\":\"en-US\",\"timeSpentOnTask\":\"15\",\"timeUnit\":\"seconds\",\"ipAddress\":\"null\",\"operatingSystem\":\"Windows\",\"browserName\":\"Chrome\",\"city\":\"null\",\"startDate\":\"2022-07-15\",\"startTime\":\"2022-07-15T05:57:06.948+00:00\",\"clickedUrl\":\"\",\"deviceName\":\"Windows\",\"osVersion\":\"10\",\"videoLink\":\"https://test.o360.online/downloads/6383b732-aaf2-4c44-8541-6b5cb7a2ede1_42431_ZjdjMDdjMzktOGY1Ny00MmVlLTg4OTgtYzllYjdjNGMwNmQy\",\"token\":\"6383b732-aaf2-4c44-8541-6b5cb7a2ede1_42431_ZjdjMDdjMzktOGY1Ny00MmVlLTg4OTgtYzllYjdjNGMwNmQy\",\"Question-3.questionId\":42431,\"Question-3.questionType\":\"BEHAVIOUR_TRACKING\",\"Question-3.title\":\"Browser screen recording\",\"Question-3.other\":\"null\",\"respId\":\"7541ab4d-073f-4b3c-8c4e-b96f830aa305\",\"surveyId\":8914,\"responseTime\":1657864655.676128000}"
   ]
  },
  {
   "cell_type": "code",
   "execution_count": 14,
   "metadata": {},
   "outputs": [],
   "source": [
    "df = pd.DataFrame(sample_dict, index=[0])"
   ]
  },
  {
   "cell_type": "code",
   "execution_count": 15,
   "metadata": {},
   "outputs": [
    {
     "data": {
      "text/html": [
       "<div>\n",
       "<style scoped>\n",
       "    .dataframe tbody tr th:only-of-type {\n",
       "        vertical-align: middle;\n",
       "    }\n",
       "\n",
       "    .dataframe tbody tr th {\n",
       "        vertical-align: top;\n",
       "    }\n",
       "\n",
       "    .dataframe thead th {\n",
       "        text-align: right;\n",
       "    }\n",
       "</style>\n",
       "<table border=\"1\" class=\"dataframe\">\n",
       "  <thead>\n",
       "    <tr style=\"text-align: right;\">\n",
       "      <th></th>\n",
       "      <th>requestString</th>\n",
       "      <th>searchInput</th>\n",
       "      <th>host</th>\n",
       "      <th>searchUrl</th>\n",
       "      <th>href</th>\n",
       "      <th>timeSpentOnPage</th>\n",
       "      <th>longitude</th>\n",
       "      <th>latitude</th>\n",
       "      <th>locale</th>\n",
       "      <th>timeSpentOnTask</th>\n",
       "      <th>...</th>\n",
       "      <th>osVersion</th>\n",
       "      <th>videoLink</th>\n",
       "      <th>token</th>\n",
       "      <th>Question-3.questionId</th>\n",
       "      <th>Question-3.questionType</th>\n",
       "      <th>Question-3.title</th>\n",
       "      <th>Question-3.other</th>\n",
       "      <th>respId</th>\n",
       "      <th>surveyId</th>\n",
       "      <th>responseTime</th>\n",
       "    </tr>\n",
       "  </thead>\n",
       "  <tbody>\n",
       "    <tr>\n",
       "      <th>0</th>\n",
       "      <td></td>\n",
       "      <td></td>\n",
       "      <td>www.google.com</td>\n",
       "      <td></td>\n",
       "      <td>https://www.google.com/</td>\n",
       "      <td>0</td>\n",
       "      <td>77.6404992</td>\n",
       "      <td>13.0449408</td>\n",
       "      <td>en-US</td>\n",
       "      <td>15</td>\n",
       "      <td>...</td>\n",
       "      <td>10</td>\n",
       "      <td>https://test.o360.online/downloads/6383b732-aa...</td>\n",
       "      <td>6383b732-aaf2-4c44-8541-6b5cb7a2ede1_42431_Zjd...</td>\n",
       "      <td>42431</td>\n",
       "      <td>BEHAVIOUR_TRACKING</td>\n",
       "      <td>Browser screen recording</td>\n",
       "      <td>null</td>\n",
       "      <td>7541ab4d-073f-4b3c-8c4e-b96f830aa305</td>\n",
       "      <td>8914</td>\n",
       "      <td>1.657865e+09</td>\n",
       "    </tr>\n",
       "  </tbody>\n",
       "</table>\n",
       "<p>1 rows × 29 columns</p>\n",
       "</div>"
      ],
      "text/plain": [
       "  requestString searchInput            host searchUrl  \\\n",
       "0                            www.google.com             \n",
       "\n",
       "                      href timeSpentOnPage   longitude    latitude locale  \\\n",
       "0  https://www.google.com/               0  77.6404992  13.0449408  en-US   \n",
       "\n",
       "  timeSpentOnTask  ... osVersion  \\\n",
       "0              15  ...        10   \n",
       "\n",
       "                                           videoLink  \\\n",
       "0  https://test.o360.online/downloads/6383b732-aa...   \n",
       "\n",
       "                                               token Question-3.questionId  \\\n",
       "0  6383b732-aaf2-4c44-8541-6b5cb7a2ede1_42431_Zjd...                 42431   \n",
       "\n",
       "  Question-3.questionType          Question-3.title Question-3.other  \\\n",
       "0      BEHAVIOUR_TRACKING  Browser screen recording             null   \n",
       "\n",
       "                                 respId surveyId  responseTime  \n",
       "0  7541ab4d-073f-4b3c-8c4e-b96f830aa305     8914  1.657865e+09  \n",
       "\n",
       "[1 rows x 29 columns]"
      ]
     },
     "execution_count": 15,
     "metadata": {},
     "output_type": "execute_result"
    }
   ],
   "source": [
    "df"
   ]
  },
  {
   "cell_type": "code",
   "execution_count": 11,
   "metadata": {},
   "outputs": [],
   "source": [
    "bootstrap_servers = ['54.175.181.170:9092']\n",
    "consumer = KafkaConsumer(bootstrap_servers=bootstrap_servers)\n",
    "consumer.subscribe('btest-o360p2-O360-8914')"
   ]
  },
  {
   "cell_type": "code",
   "execution_count": 12,
   "metadata": {},
   "outputs": [
    {
     "name": "stdout",
     "output_type": "stream",
     "text": [
      "Topic Name=btest-o360p2-O360-8914,Message=b'{\"requestString\":\"\",\"searchInput\":\"\",\"host\":\"www.google.com\",\"searchUrl\":\"\",\"href\":\"https://www.google.com/\",\"timeSpentOnPage\":\"0\",\"longitude\":\"77.6404992\",\"latitude\":\"13.0449408\",\"locale\":\"en-US\",\"timeSpentOnTask\":\"15\",\"timeUnit\":\"seconds\",\"ipAddress\":null,\"operatingSystem\":\"Windows\",\"browserName\":\"Chrome\",\"city\":null,\"startDate\":\"2022-07-15\",\"startTime\":\"2022-07-15T05:57:06.948+00:00\",\"clickedUrl\":\"\",\"deviceName\":\"Windows\",\"osVersion\":\"10\",\"videoLink\":\"https://test.o360.online/downloads/6383b732-aaf2-4c44-8541-6b5cb7a2ede1_42431_ZjdjMDdjMzktOGY1Ny00MmVlLTg4OTgtYzllYjdjNGMwNmQy\",\"token\":\"6383b732-aaf2-4c44-8541-6b5cb7a2ede1_42431_ZjdjMDdjMzktOGY1Ny00MmVlLTg4OTgtYzllYjdjNGMwNmQy\",\"Question-3.questionId\":42431,\"Question-3.questionType\":\"BEHAVIOUR_TRACKING\",\"Question-3.title\":\"Browser screen recording\",\"Question-3.other\":null,\"respId\":\"7541ab4d-073f-4b3c-8c4e-b96f830aa305\",\"surveyId\":8914,\"responseTime\":1657864655.676128000}'\n",
      "Topic Name=btest-o360p2-O360-8914,Message=b'{\"requestString\":\"O\",\"searchInput\":\"O\",\"host\":\"www.amazon.in\",\"searchUrl\":\"\",\"href\":\"https://www.amazon.in/\",\"timeSpentOnPage\":\"2.758\",\"longitude\":null,\"latitude\":null,\"locale\":null,\"timeSpentOnTask\":null,\"timeUnit\":null,\"ipAddress\":null,\"operatingSystem\":\"Windows\",\"browserName\":\"Chrome\",\"city\":null,\"startDate\":\"2022-07-15\",\"startTime\":\"2022-07-15T05:57:11.725+00:00\",\"clickedUrl\":null,\"deviceName\":\"Windows\",\"osVersion\":\"10\",\"videoLink\":\"https://test.o360.online/downloads/6383b732-aaf2-4c44-8541-6b5cb7a2ede1_42431_ZjdjMDdjMzktOGY1Ny00MmVlLTg4OTgtYzllYjdjNGMwNmQy\",\"token\":\"6383b732-aaf2-4c44-8541-6b5cb7a2ede1_42431_ZjdjMDdjMzktOGY1Ny00MmVlLTg4OTgtYzllYjdjNGMwNmQy\",\"Question-3.questionId\":42431,\"Question-3.questionType\":\"BEHAVIOUR_TRACKING\",\"Question-3.title\":\"Browser screen recording\",\"Question-3.other\":null,\"respId\":\"7541ab4d-073f-4b3c-8c4e-b96f830aa305\",\"surveyId\":8914,\"responseTime\":1657864655.677780000}'\n",
      "Topic Name=btest-o360p2-O360-8914,Message=b'{\"requestString\":\"reo\",\"searchInput\":\"Oreo\",\"host\":\"www.amazon.in\",\"searchUrl\":\"\",\"href\":\"https://www.amazon.in/\",\"timeSpentOnPage\":\"0\",\"longitude\":null,\"latitude\":null,\"locale\":null,\"timeSpentOnTask\":null,\"timeUnit\":null,\"ipAddress\":null,\"operatingSystem\":\"Windows\",\"browserName\":\"Chrome\",\"city\":null,\"startDate\":\"2022-07-15\",\"startTime\":\"2022-07-15T05:57:13.124+00:00\",\"clickedUrl\":null,\"deviceName\":\"Windows\",\"osVersion\":\"10\",\"videoLink\":\"https://test.o360.online/downloads/6383b732-aaf2-4c44-8541-6b5cb7a2ede1_42431_ZjdjMDdjMzktOGY1Ny00MmVlLTg4OTgtYzllYjdjNGMwNmQy\",\"token\":\"6383b732-aaf2-4c44-8541-6b5cb7a2ede1_42431_ZjdjMDdjMzktOGY1Ny00MmVlLTg4OTgtYzllYjdjNGMwNmQy\",\"Question-3.questionId\":42431,\"Question-3.questionType\":\"BEHAVIOUR_TRACKING\",\"Question-3.title\":\"Browser screen recording\",\"Question-3.other\":null,\"respId\":\"7541ab4d-073f-4b3c-8c4e-b96f830aa305\",\"surveyId\":8914,\"responseTime\":1657864655.678344000}'\n",
      "Topic Name=btest-o360p2-O360-8914,Message=b'{\"requestString\":\"\",\"searchInput\":\"\",\"host\":\"www.amazon.in\",\"searchUrl\":\"?k=Oreo&crid=2FBIQ2NCQZ4L0&sprefix=oreo%2Caps%2C219&ref=nb_sb_noss_1\",\"href\":\"https://www.amazon.in/s?k=Oreo&crid=2FBIQ2NCQZ4L0&sprefix=oreo%2Caps%2C219&ref=nb_sb_noss_1\",\"timeSpentOnPage\":\"13\",\"longitude\":null,\"latitude\":null,\"locale\":null,\"timeSpentOnTask\":null,\"timeUnit\":null,\"ipAddress\":null,\"operatingSystem\":\"Windows\",\"browserName\":\"Chrome\",\"city\":null,\"startDate\":\"2022-07-15\",\"startTime\":\"2022-07-15T05:57:15.244+00:00\",\"clickedUrl\":\"https://www.amazon.in/\",\"deviceName\":\"Windows\",\"osVersion\":\"10\",\"videoLink\":\"https://test.o360.online/downloads/6383b732-aaf2-4c44-8541-6b5cb7a2ede1_42431_ZjdjMDdjMzktOGY1Ny00MmVlLTg4OTgtYzllYjdjNGMwNmQy\",\"token\":\"6383b732-aaf2-4c44-8541-6b5cb7a2ede1_42431_ZjdjMDdjMzktOGY1Ny00MmVlLTg4OTgtYzllYjdjNGMwNmQy\",\"Question-3.questionId\":42431,\"Question-3.questionType\":\"BEHAVIOUR_TRACKING\",\"Question-3.title\":\"Browser screen recording\",\"Question-3.other\":null,\"respId\":\"7541ab4d-073f-4b3c-8c4e-b96f830aa305\",\"surveyId\":8914,\"responseTime\":1657864655.678587000}'\n"
     ]
    }
   ],
   "source": [
    "for msg in consumer:\n",
    "    print(\"Topic Name=%s,Message=%s\"%(msg.topic,msg.value))"
   ]
  },
  {
   "cell_type": "code",
   "execution_count": 25,
   "metadata": {},
   "outputs": [],
   "source": [
    "# for message in consumer:\n",
    "#     # message value and key are raw bytes -- decode if necessary!\n",
    "#     # e.g., for unicode: `message.value.decode('utf-8')`\n",
    "#     print (\"%s:%d:%d: key=%s value=%s\" % (message.topic, message.partition,\n",
    "#                                           message.offset, message.key,\n",
    "#                                           message.value))"
   ]
  },
  {
   "cell_type": "code",
   "execution_count": 39,
   "metadata": {},
   "outputs": [],
   "source": [
    "bootstrap_servers = ['54.175.181.170:9092']\n",
    "consumer = KafkaConsumer(bootstrap_servers=bootstrap_servers)\n",
    "consumer.subscribe('btest-o360p2-O360-8637')"
   ]
  },
  {
   "cell_type": "code",
   "execution_count": 40,
   "metadata": {},
   "outputs": [
    {
     "ename": "KeyboardInterrupt",
     "evalue": "",
     "output_type": "error",
     "traceback": [
      "\u001b[1;31m---------------------------------------------------------------------------\u001b[0m",
      "\u001b[1;31mKeyboardInterrupt\u001b[0m                         Traceback (most recent call last)",
      "\u001b[1;32m~\\AppData\\Local\\Temp\\ipykernel_18796\\1286253449.py\u001b[0m in \u001b[0;36m<module>\u001b[1;34m\u001b[0m\n\u001b[1;32m----> 1\u001b[1;33m \u001b[1;32mfor\u001b[0m \u001b[0mmsg\u001b[0m \u001b[1;32min\u001b[0m \u001b[0mconsumer\u001b[0m\u001b[1;33m:\u001b[0m\u001b[1;33m\u001b[0m\u001b[1;33m\u001b[0m\u001b[0m\n\u001b[0m\u001b[0;32m      2\u001b[0m     \u001b[0mprint\u001b[0m\u001b[1;33m(\u001b[0m\u001b[1;34m\"Topic Name=%s,Message=%s\"\u001b[0m\u001b[1;33m%\u001b[0m\u001b[1;33m(\u001b[0m\u001b[0mmsg\u001b[0m\u001b[1;33m.\u001b[0m\u001b[0mtopic\u001b[0m\u001b[1;33m,\u001b[0m\u001b[0mmsg\u001b[0m\u001b[1;33m.\u001b[0m\u001b[0mvalue\u001b[0m\u001b[1;33m)\u001b[0m\u001b[1;33m)\u001b[0m\u001b[1;33m\u001b[0m\u001b[1;33m\u001b[0m\u001b[0m\n",
      "\u001b[1;32mc:\\VS_Code\\Kafka\\kafka\\lib\\site-packages\\kafka\\consumer\\group.py\u001b[0m in \u001b[0;36m__next__\u001b[1;34m(self)\u001b[0m\n\u001b[0;32m   1191\u001b[0m             \u001b[1;32mreturn\u001b[0m \u001b[0mself\u001b[0m\u001b[1;33m.\u001b[0m\u001b[0mnext_v1\u001b[0m\u001b[1;33m(\u001b[0m\u001b[1;33m)\u001b[0m\u001b[1;33m\u001b[0m\u001b[1;33m\u001b[0m\u001b[0m\n\u001b[0;32m   1192\u001b[0m         \u001b[1;32melse\u001b[0m\u001b[1;33m:\u001b[0m\u001b[1;33m\u001b[0m\u001b[1;33m\u001b[0m\u001b[0m\n\u001b[1;32m-> 1193\u001b[1;33m             \u001b[1;32mreturn\u001b[0m \u001b[0mself\u001b[0m\u001b[1;33m.\u001b[0m\u001b[0mnext_v2\u001b[0m\u001b[1;33m(\u001b[0m\u001b[1;33m)\u001b[0m\u001b[1;33m\u001b[0m\u001b[1;33m\u001b[0m\u001b[0m\n\u001b[0m\u001b[0;32m   1194\u001b[0m \u001b[1;33m\u001b[0m\u001b[0m\n\u001b[0;32m   1195\u001b[0m     \u001b[1;32mdef\u001b[0m \u001b[0mnext_v2\u001b[0m\u001b[1;33m(\u001b[0m\u001b[0mself\u001b[0m\u001b[1;33m)\u001b[0m\u001b[1;33m:\u001b[0m\u001b[1;33m\u001b[0m\u001b[1;33m\u001b[0m\u001b[0m\n",
      "\u001b[1;32mc:\\VS_Code\\Kafka\\kafka\\lib\\site-packages\\kafka\\consumer\\group.py\u001b[0m in \u001b[0;36mnext_v2\u001b[1;34m(self)\u001b[0m\n\u001b[0;32m   1199\u001b[0m                 \u001b[0mself\u001b[0m\u001b[1;33m.\u001b[0m\u001b[0m_iterator\u001b[0m \u001b[1;33m=\u001b[0m \u001b[0mself\u001b[0m\u001b[1;33m.\u001b[0m\u001b[0m_message_generator_v2\u001b[0m\u001b[1;33m(\u001b[0m\u001b[1;33m)\u001b[0m\u001b[1;33m\u001b[0m\u001b[1;33m\u001b[0m\u001b[0m\n\u001b[0;32m   1200\u001b[0m             \u001b[1;32mtry\u001b[0m\u001b[1;33m:\u001b[0m\u001b[1;33m\u001b[0m\u001b[1;33m\u001b[0m\u001b[0m\n\u001b[1;32m-> 1201\u001b[1;33m                 \u001b[1;32mreturn\u001b[0m \u001b[0mnext\u001b[0m\u001b[1;33m(\u001b[0m\u001b[0mself\u001b[0m\u001b[1;33m.\u001b[0m\u001b[0m_iterator\u001b[0m\u001b[1;33m)\u001b[0m\u001b[1;33m\u001b[0m\u001b[1;33m\u001b[0m\u001b[0m\n\u001b[0m\u001b[0;32m   1202\u001b[0m             \u001b[1;32mexcept\u001b[0m \u001b[0mStopIteration\u001b[0m\u001b[1;33m:\u001b[0m\u001b[1;33m\u001b[0m\u001b[1;33m\u001b[0m\u001b[0m\n\u001b[0;32m   1203\u001b[0m                 \u001b[0mself\u001b[0m\u001b[1;33m.\u001b[0m\u001b[0m_iterator\u001b[0m \u001b[1;33m=\u001b[0m \u001b[1;32mNone\u001b[0m\u001b[1;33m\u001b[0m\u001b[1;33m\u001b[0m\u001b[0m\n",
      "\u001b[1;32mc:\\VS_Code\\Kafka\\kafka\\lib\\site-packages\\kafka\\consumer\\group.py\u001b[0m in \u001b[0;36m_message_generator_v2\u001b[1;34m(self)\u001b[0m\n\u001b[0;32m   1114\u001b[0m     \u001b[1;32mdef\u001b[0m \u001b[0m_message_generator_v2\u001b[0m\u001b[1;33m(\u001b[0m\u001b[0mself\u001b[0m\u001b[1;33m)\u001b[0m\u001b[1;33m:\u001b[0m\u001b[1;33m\u001b[0m\u001b[1;33m\u001b[0m\u001b[0m\n\u001b[0;32m   1115\u001b[0m         \u001b[0mtimeout_ms\u001b[0m \u001b[1;33m=\u001b[0m \u001b[1;36m1000\u001b[0m \u001b[1;33m*\u001b[0m \u001b[1;33m(\u001b[0m\u001b[0mself\u001b[0m\u001b[1;33m.\u001b[0m\u001b[0m_consumer_timeout\u001b[0m \u001b[1;33m-\u001b[0m \u001b[0mtime\u001b[0m\u001b[1;33m.\u001b[0m\u001b[0mtime\u001b[0m\u001b[1;33m(\u001b[0m\u001b[1;33m)\u001b[0m\u001b[1;33m)\u001b[0m\u001b[1;33m\u001b[0m\u001b[1;33m\u001b[0m\u001b[0m\n\u001b[1;32m-> 1116\u001b[1;33m         \u001b[0mrecord_map\u001b[0m \u001b[1;33m=\u001b[0m \u001b[0mself\u001b[0m\u001b[1;33m.\u001b[0m\u001b[0mpoll\u001b[0m\u001b[1;33m(\u001b[0m\u001b[0mtimeout_ms\u001b[0m\u001b[1;33m=\u001b[0m\u001b[0mtimeout_ms\u001b[0m\u001b[1;33m,\u001b[0m \u001b[0mupdate_offsets\u001b[0m\u001b[1;33m=\u001b[0m\u001b[1;32mFalse\u001b[0m\u001b[1;33m)\u001b[0m\u001b[1;33m\u001b[0m\u001b[1;33m\u001b[0m\u001b[0m\n\u001b[0m\u001b[0;32m   1117\u001b[0m         \u001b[1;32mfor\u001b[0m \u001b[0mtp\u001b[0m\u001b[1;33m,\u001b[0m \u001b[0mrecords\u001b[0m \u001b[1;32min\u001b[0m \u001b[0msix\u001b[0m\u001b[1;33m.\u001b[0m\u001b[0miteritems\u001b[0m\u001b[1;33m(\u001b[0m\u001b[0mrecord_map\u001b[0m\u001b[1;33m)\u001b[0m\u001b[1;33m:\u001b[0m\u001b[1;33m\u001b[0m\u001b[1;33m\u001b[0m\u001b[0m\n\u001b[0;32m   1118\u001b[0m             \u001b[1;31m# Generators are stateful, and it is possible that the tp / records\u001b[0m\u001b[1;33m\u001b[0m\u001b[1;33m\u001b[0m\u001b[1;33m\u001b[0m\u001b[0m\n",
      "\u001b[1;32mc:\\VS_Code\\Kafka\\kafka\\lib\\site-packages\\kafka\\consumer\\group.py\u001b[0m in \u001b[0;36mpoll\u001b[1;34m(self, timeout_ms, max_records, update_offsets)\u001b[0m\n\u001b[0;32m    653\u001b[0m         \u001b[0mremaining\u001b[0m \u001b[1;33m=\u001b[0m \u001b[0mtimeout_ms\u001b[0m\u001b[1;33m\u001b[0m\u001b[1;33m\u001b[0m\u001b[0m\n\u001b[0;32m    654\u001b[0m         \u001b[1;32mwhile\u001b[0m \u001b[1;32mTrue\u001b[0m\u001b[1;33m:\u001b[0m\u001b[1;33m\u001b[0m\u001b[1;33m\u001b[0m\u001b[0m\n\u001b[1;32m--> 655\u001b[1;33m             \u001b[0mrecords\u001b[0m \u001b[1;33m=\u001b[0m \u001b[0mself\u001b[0m\u001b[1;33m.\u001b[0m\u001b[0m_poll_once\u001b[0m\u001b[1;33m(\u001b[0m\u001b[0mremaining\u001b[0m\u001b[1;33m,\u001b[0m \u001b[0mmax_records\u001b[0m\u001b[1;33m,\u001b[0m \u001b[0mupdate_offsets\u001b[0m\u001b[1;33m=\u001b[0m\u001b[0mupdate_offsets\u001b[0m\u001b[1;33m)\u001b[0m\u001b[1;33m\u001b[0m\u001b[1;33m\u001b[0m\u001b[0m\n\u001b[0m\u001b[0;32m    656\u001b[0m             \u001b[1;32mif\u001b[0m \u001b[0mrecords\u001b[0m\u001b[1;33m:\u001b[0m\u001b[1;33m\u001b[0m\u001b[1;33m\u001b[0m\u001b[0m\n\u001b[0;32m    657\u001b[0m                 \u001b[1;32mreturn\u001b[0m \u001b[0mrecords\u001b[0m\u001b[1;33m\u001b[0m\u001b[1;33m\u001b[0m\u001b[0m\n",
      "\u001b[1;32mc:\\VS_Code\\Kafka\\kafka\\lib\\site-packages\\kafka\\consumer\\group.py\u001b[0m in \u001b[0;36m_poll_once\u001b[1;34m(self, timeout_ms, max_records, update_offsets)\u001b[0m\n\u001b[0;32m    700\u001b[0m \u001b[1;33m\u001b[0m\u001b[0m\n\u001b[0;32m    701\u001b[0m         \u001b[0mtimeout_ms\u001b[0m \u001b[1;33m=\u001b[0m \u001b[0mmin\u001b[0m\u001b[1;33m(\u001b[0m\u001b[0mtimeout_ms\u001b[0m\u001b[1;33m,\u001b[0m \u001b[0mself\u001b[0m\u001b[1;33m.\u001b[0m\u001b[0m_coordinator\u001b[0m\u001b[1;33m.\u001b[0m\u001b[0mtime_to_next_poll\u001b[0m\u001b[1;33m(\u001b[0m\u001b[1;33m)\u001b[0m \u001b[1;33m*\u001b[0m \u001b[1;36m1000\u001b[0m\u001b[1;33m)\u001b[0m\u001b[1;33m\u001b[0m\u001b[1;33m\u001b[0m\u001b[0m\n\u001b[1;32m--> 702\u001b[1;33m         \u001b[0mself\u001b[0m\u001b[1;33m.\u001b[0m\u001b[0m_client\u001b[0m\u001b[1;33m.\u001b[0m\u001b[0mpoll\u001b[0m\u001b[1;33m(\u001b[0m\u001b[0mtimeout_ms\u001b[0m\u001b[1;33m=\u001b[0m\u001b[0mtimeout_ms\u001b[0m\u001b[1;33m)\u001b[0m\u001b[1;33m\u001b[0m\u001b[1;33m\u001b[0m\u001b[0m\n\u001b[0m\u001b[0;32m    703\u001b[0m         \u001b[1;31m# after the long poll, we should check whether the group needs to rebalance\u001b[0m\u001b[1;33m\u001b[0m\u001b[1;33m\u001b[0m\u001b[1;33m\u001b[0m\u001b[0m\n\u001b[0;32m    704\u001b[0m         \u001b[1;31m# prior to returning data so that the group can stabilize faster\u001b[0m\u001b[1;33m\u001b[0m\u001b[1;33m\u001b[0m\u001b[1;33m\u001b[0m\u001b[0m\n",
      "\u001b[1;32mc:\\VS_Code\\Kafka\\kafka\\lib\\site-packages\\kafka\\client_async.py\u001b[0m in \u001b[0;36mpoll\u001b[1;34m(self, timeout_ms, future)\u001b[0m\n\u001b[0;32m    600\u001b[0m                     \u001b[0mtimeout\u001b[0m \u001b[1;33m=\u001b[0m \u001b[0mmax\u001b[0m\u001b[1;33m(\u001b[0m\u001b[1;36m0\u001b[0m\u001b[1;33m,\u001b[0m \u001b[0mtimeout\u001b[0m\u001b[1;33m)\u001b[0m  \u001b[1;31m# avoid negative timeouts\u001b[0m\u001b[1;33m\u001b[0m\u001b[1;33m\u001b[0m\u001b[0m\n\u001b[0;32m    601\u001b[0m \u001b[1;33m\u001b[0m\u001b[0m\n\u001b[1;32m--> 602\u001b[1;33m                 \u001b[0mself\u001b[0m\u001b[1;33m.\u001b[0m\u001b[0m_poll\u001b[0m\u001b[1;33m(\u001b[0m\u001b[0mtimeout\u001b[0m \u001b[1;33m/\u001b[0m \u001b[1;36m1000\u001b[0m\u001b[1;33m)\u001b[0m\u001b[1;33m\u001b[0m\u001b[1;33m\u001b[0m\u001b[0m\n\u001b[0m\u001b[0;32m    603\u001b[0m \u001b[1;33m\u001b[0m\u001b[0m\n\u001b[0;32m    604\u001b[0m             \u001b[1;31m# called without the lock to avoid deadlock potential\u001b[0m\u001b[1;33m\u001b[0m\u001b[1;33m\u001b[0m\u001b[1;33m\u001b[0m\u001b[0m\n",
      "\u001b[1;32mc:\\VS_Code\\Kafka\\kafka\\lib\\site-packages\\kafka\\client_async.py\u001b[0m in \u001b[0;36m_poll\u001b[1;34m(self, timeout)\u001b[0m\n\u001b[0;32m    632\u001b[0m \u001b[1;33m\u001b[0m\u001b[0m\n\u001b[0;32m    633\u001b[0m         \u001b[0mstart_select\u001b[0m \u001b[1;33m=\u001b[0m \u001b[0mtime\u001b[0m\u001b[1;33m.\u001b[0m\u001b[0mtime\u001b[0m\u001b[1;33m(\u001b[0m\u001b[1;33m)\u001b[0m\u001b[1;33m\u001b[0m\u001b[1;33m\u001b[0m\u001b[0m\n\u001b[1;32m--> 634\u001b[1;33m         \u001b[0mready\u001b[0m \u001b[1;33m=\u001b[0m \u001b[0mself\u001b[0m\u001b[1;33m.\u001b[0m\u001b[0m_selector\u001b[0m\u001b[1;33m.\u001b[0m\u001b[0mselect\u001b[0m\u001b[1;33m(\u001b[0m\u001b[0mtimeout\u001b[0m\u001b[1;33m)\u001b[0m\u001b[1;33m\u001b[0m\u001b[1;33m\u001b[0m\u001b[0m\n\u001b[0m\u001b[0;32m    635\u001b[0m         \u001b[0mend_select\u001b[0m \u001b[1;33m=\u001b[0m \u001b[0mtime\u001b[0m\u001b[1;33m.\u001b[0m\u001b[0mtime\u001b[0m\u001b[1;33m(\u001b[0m\u001b[1;33m)\u001b[0m\u001b[1;33m\u001b[0m\u001b[1;33m\u001b[0m\u001b[0m\n\u001b[0;32m    636\u001b[0m         \u001b[1;32mif\u001b[0m \u001b[0mself\u001b[0m\u001b[1;33m.\u001b[0m\u001b[0m_sensors\u001b[0m\u001b[1;33m:\u001b[0m\u001b[1;33m\u001b[0m\u001b[1;33m\u001b[0m\u001b[0m\n",
      "\u001b[1;32m~\\AppData\\Local\\Programs\\Python\\Python37\\lib\\selectors.py\u001b[0m in \u001b[0;36mselect\u001b[1;34m(self, timeout)\u001b[0m\n\u001b[0;32m    321\u001b[0m         \u001b[0mready\u001b[0m \u001b[1;33m=\u001b[0m \u001b[1;33m[\u001b[0m\u001b[1;33m]\u001b[0m\u001b[1;33m\u001b[0m\u001b[1;33m\u001b[0m\u001b[0m\n\u001b[0;32m    322\u001b[0m         \u001b[1;32mtry\u001b[0m\u001b[1;33m:\u001b[0m\u001b[1;33m\u001b[0m\u001b[1;33m\u001b[0m\u001b[0m\n\u001b[1;32m--> 323\u001b[1;33m             \u001b[0mr\u001b[0m\u001b[1;33m,\u001b[0m \u001b[0mw\u001b[0m\u001b[1;33m,\u001b[0m \u001b[0m_\u001b[0m \u001b[1;33m=\u001b[0m \u001b[0mself\u001b[0m\u001b[1;33m.\u001b[0m\u001b[0m_select\u001b[0m\u001b[1;33m(\u001b[0m\u001b[0mself\u001b[0m\u001b[1;33m.\u001b[0m\u001b[0m_readers\u001b[0m\u001b[1;33m,\u001b[0m \u001b[0mself\u001b[0m\u001b[1;33m.\u001b[0m\u001b[0m_writers\u001b[0m\u001b[1;33m,\u001b[0m \u001b[1;33m[\u001b[0m\u001b[1;33m]\u001b[0m\u001b[1;33m,\u001b[0m \u001b[0mtimeout\u001b[0m\u001b[1;33m)\u001b[0m\u001b[1;33m\u001b[0m\u001b[1;33m\u001b[0m\u001b[0m\n\u001b[0m\u001b[0;32m    324\u001b[0m         \u001b[1;32mexcept\u001b[0m \u001b[0mInterruptedError\u001b[0m\u001b[1;33m:\u001b[0m\u001b[1;33m\u001b[0m\u001b[1;33m\u001b[0m\u001b[0m\n\u001b[0;32m    325\u001b[0m             \u001b[1;32mreturn\u001b[0m \u001b[0mready\u001b[0m\u001b[1;33m\u001b[0m\u001b[1;33m\u001b[0m\u001b[0m\n",
      "\u001b[1;32m~\\AppData\\Local\\Programs\\Python\\Python37\\lib\\selectors.py\u001b[0m in \u001b[0;36m_select\u001b[1;34m(self, r, w, _, timeout)\u001b[0m\n\u001b[0;32m    312\u001b[0m     \u001b[1;32mif\u001b[0m \u001b[0msys\u001b[0m\u001b[1;33m.\u001b[0m\u001b[0mplatform\u001b[0m \u001b[1;33m==\u001b[0m \u001b[1;34m'win32'\u001b[0m\u001b[1;33m:\u001b[0m\u001b[1;33m\u001b[0m\u001b[1;33m\u001b[0m\u001b[0m\n\u001b[0;32m    313\u001b[0m         \u001b[1;32mdef\u001b[0m \u001b[0m_select\u001b[0m\u001b[1;33m(\u001b[0m\u001b[0mself\u001b[0m\u001b[1;33m,\u001b[0m \u001b[0mr\u001b[0m\u001b[1;33m,\u001b[0m \u001b[0mw\u001b[0m\u001b[1;33m,\u001b[0m \u001b[0m_\u001b[0m\u001b[1;33m,\u001b[0m \u001b[0mtimeout\u001b[0m\u001b[1;33m=\u001b[0m\u001b[1;32mNone\u001b[0m\u001b[1;33m)\u001b[0m\u001b[1;33m:\u001b[0m\u001b[1;33m\u001b[0m\u001b[1;33m\u001b[0m\u001b[0m\n\u001b[1;32m--> 314\u001b[1;33m             \u001b[0mr\u001b[0m\u001b[1;33m,\u001b[0m \u001b[0mw\u001b[0m\u001b[1;33m,\u001b[0m \u001b[0mx\u001b[0m \u001b[1;33m=\u001b[0m \u001b[0mselect\u001b[0m\u001b[1;33m.\u001b[0m\u001b[0mselect\u001b[0m\u001b[1;33m(\u001b[0m\u001b[0mr\u001b[0m\u001b[1;33m,\u001b[0m \u001b[0mw\u001b[0m\u001b[1;33m,\u001b[0m \u001b[0mw\u001b[0m\u001b[1;33m,\u001b[0m \u001b[0mtimeout\u001b[0m\u001b[1;33m)\u001b[0m\u001b[1;33m\u001b[0m\u001b[1;33m\u001b[0m\u001b[0m\n\u001b[0m\u001b[0;32m    315\u001b[0m             \u001b[1;32mreturn\u001b[0m \u001b[0mr\u001b[0m\u001b[1;33m,\u001b[0m \u001b[0mw\u001b[0m \u001b[1;33m+\u001b[0m \u001b[0mx\u001b[0m\u001b[1;33m,\u001b[0m \u001b[1;33m[\u001b[0m\u001b[1;33m]\u001b[0m\u001b[1;33m\u001b[0m\u001b[1;33m\u001b[0m\u001b[0m\n\u001b[0;32m    316\u001b[0m     \u001b[1;32melse\u001b[0m\u001b[1;33m:\u001b[0m\u001b[1;33m\u001b[0m\u001b[1;33m\u001b[0m\u001b[0m\n",
      "\u001b[1;31mKeyboardInterrupt\u001b[0m: "
     ]
    }
   ],
   "source": [
    "for msg in consumer:\n",
    "    print(\"Topic Name=%s,Message=%s\"%(msg.topic,msg.value))"
   ]
  },
  {
   "cell_type": "code",
   "execution_count": 26,
   "metadata": {},
   "outputs": [],
   "source": [
    "topic_list = list(consumer.topics())"
   ]
  },
  {
   "cell_type": "code",
   "execution_count": 27,
   "metadata": {},
   "outputs": [],
   "source": [
    "btest_topics = []\n",
    "for topic in topic_list:\n",
    "    if topic.startswith('btest'):\n",
    "        btest_topics.append(topic)"
   ]
  },
  {
   "cell_type": "code",
   "execution_count": 28,
   "metadata": {},
   "outputs": [
    {
     "data": {
      "text/plain": [
       "['btest-o360p2-O360-7371',\n",
       " 'btest-o360p2-O360-7375',\n",
       " 'btest-o360p2-O360-7303',\n",
       " 'btest-dsv2-O360-7421',\n",
       " 'btest-o360p2-O360-6812',\n",
       " 'btest-ede-pd-6781',\n",
       " 'btest-testtesto360-O360-7100',\n",
       " 'btest-basavaraj-O360-7449',\n",
       " 'btest-o360p2-O360-7248',\n",
       " 'btest-o360testuser-O360-7818']"
      ]
     },
     "execution_count": 28,
     "metadata": {},
     "output_type": "execute_result"
    }
   ],
   "source": [
    "btest_topics"
   ]
  },
  {
   "cell_type": "code",
   "execution_count": 29,
   "metadata": {},
   "outputs": [],
   "source": [
    "consumer.subscribe('btest-o360testuser-O360-7818')"
   ]
  },
  {
   "cell_type": "code",
   "execution_count": 30,
   "metadata": {},
   "outputs": [
    {
     "ename": "KeyboardInterrupt",
     "evalue": "",
     "output_type": "error",
     "traceback": [
      "\u001b[1;31m---------------------------------------------------------------------------\u001b[0m",
      "\u001b[1;31mKeyboardInterrupt\u001b[0m                         Traceback (most recent call last)",
      "\u001b[1;32m~\\AppData\\Local\\Temp\\ipykernel_10272\\1286253449.py\u001b[0m in \u001b[0;36m<module>\u001b[1;34m\u001b[0m\n\u001b[1;32m----> 1\u001b[1;33m \u001b[1;32mfor\u001b[0m \u001b[0mmsg\u001b[0m \u001b[1;32min\u001b[0m \u001b[0mconsumer\u001b[0m\u001b[1;33m:\u001b[0m\u001b[1;33m\u001b[0m\u001b[1;33m\u001b[0m\u001b[0m\n\u001b[0m\u001b[0;32m      2\u001b[0m     \u001b[0mprint\u001b[0m\u001b[1;33m(\u001b[0m\u001b[1;34m\"Topic Name=%s,Message=%s\"\u001b[0m\u001b[1;33m%\u001b[0m\u001b[1;33m(\u001b[0m\u001b[0mmsg\u001b[0m\u001b[1;33m.\u001b[0m\u001b[0mtopic\u001b[0m\u001b[1;33m,\u001b[0m\u001b[0mmsg\u001b[0m\u001b[1;33m.\u001b[0m\u001b[0mvalue\u001b[0m\u001b[1;33m)\u001b[0m\u001b[1;33m)\u001b[0m\u001b[1;33m\u001b[0m\u001b[1;33m\u001b[0m\u001b[0m\n",
      "\u001b[1;32mc:\\VS_Code\\Kafka\\kafka\\lib\\site-packages\\kafka\\consumer\\group.py\u001b[0m in \u001b[0;36m__next__\u001b[1;34m(self)\u001b[0m\n\u001b[0;32m   1191\u001b[0m             \u001b[1;32mreturn\u001b[0m \u001b[0mself\u001b[0m\u001b[1;33m.\u001b[0m\u001b[0mnext_v1\u001b[0m\u001b[1;33m(\u001b[0m\u001b[1;33m)\u001b[0m\u001b[1;33m\u001b[0m\u001b[1;33m\u001b[0m\u001b[0m\n\u001b[0;32m   1192\u001b[0m         \u001b[1;32melse\u001b[0m\u001b[1;33m:\u001b[0m\u001b[1;33m\u001b[0m\u001b[1;33m\u001b[0m\u001b[0m\n\u001b[1;32m-> 1193\u001b[1;33m             \u001b[1;32mreturn\u001b[0m \u001b[0mself\u001b[0m\u001b[1;33m.\u001b[0m\u001b[0mnext_v2\u001b[0m\u001b[1;33m(\u001b[0m\u001b[1;33m)\u001b[0m\u001b[1;33m\u001b[0m\u001b[1;33m\u001b[0m\u001b[0m\n\u001b[0m\u001b[0;32m   1194\u001b[0m \u001b[1;33m\u001b[0m\u001b[0m\n\u001b[0;32m   1195\u001b[0m     \u001b[1;32mdef\u001b[0m \u001b[0mnext_v2\u001b[0m\u001b[1;33m(\u001b[0m\u001b[0mself\u001b[0m\u001b[1;33m)\u001b[0m\u001b[1;33m:\u001b[0m\u001b[1;33m\u001b[0m\u001b[1;33m\u001b[0m\u001b[0m\n",
      "\u001b[1;32mc:\\VS_Code\\Kafka\\kafka\\lib\\site-packages\\kafka\\consumer\\group.py\u001b[0m in \u001b[0;36mnext_v2\u001b[1;34m(self)\u001b[0m\n\u001b[0;32m   1199\u001b[0m                 \u001b[0mself\u001b[0m\u001b[1;33m.\u001b[0m\u001b[0m_iterator\u001b[0m \u001b[1;33m=\u001b[0m \u001b[0mself\u001b[0m\u001b[1;33m.\u001b[0m\u001b[0m_message_generator_v2\u001b[0m\u001b[1;33m(\u001b[0m\u001b[1;33m)\u001b[0m\u001b[1;33m\u001b[0m\u001b[1;33m\u001b[0m\u001b[0m\n\u001b[0;32m   1200\u001b[0m             \u001b[1;32mtry\u001b[0m\u001b[1;33m:\u001b[0m\u001b[1;33m\u001b[0m\u001b[1;33m\u001b[0m\u001b[0m\n\u001b[1;32m-> 1201\u001b[1;33m                 \u001b[1;32mreturn\u001b[0m \u001b[0mnext\u001b[0m\u001b[1;33m(\u001b[0m\u001b[0mself\u001b[0m\u001b[1;33m.\u001b[0m\u001b[0m_iterator\u001b[0m\u001b[1;33m)\u001b[0m\u001b[1;33m\u001b[0m\u001b[1;33m\u001b[0m\u001b[0m\n\u001b[0m\u001b[0;32m   1202\u001b[0m             \u001b[1;32mexcept\u001b[0m \u001b[0mStopIteration\u001b[0m\u001b[1;33m:\u001b[0m\u001b[1;33m\u001b[0m\u001b[1;33m\u001b[0m\u001b[0m\n\u001b[0;32m   1203\u001b[0m                 \u001b[0mself\u001b[0m\u001b[1;33m.\u001b[0m\u001b[0m_iterator\u001b[0m \u001b[1;33m=\u001b[0m \u001b[1;32mNone\u001b[0m\u001b[1;33m\u001b[0m\u001b[1;33m\u001b[0m\u001b[0m\n",
      "\u001b[1;32mc:\\VS_Code\\Kafka\\kafka\\lib\\site-packages\\kafka\\consumer\\group.py\u001b[0m in \u001b[0;36m_message_generator_v2\u001b[1;34m(self)\u001b[0m\n\u001b[0;32m   1114\u001b[0m     \u001b[1;32mdef\u001b[0m \u001b[0m_message_generator_v2\u001b[0m\u001b[1;33m(\u001b[0m\u001b[0mself\u001b[0m\u001b[1;33m)\u001b[0m\u001b[1;33m:\u001b[0m\u001b[1;33m\u001b[0m\u001b[1;33m\u001b[0m\u001b[0m\n\u001b[0;32m   1115\u001b[0m         \u001b[0mtimeout_ms\u001b[0m \u001b[1;33m=\u001b[0m \u001b[1;36m1000\u001b[0m \u001b[1;33m*\u001b[0m \u001b[1;33m(\u001b[0m\u001b[0mself\u001b[0m\u001b[1;33m.\u001b[0m\u001b[0m_consumer_timeout\u001b[0m \u001b[1;33m-\u001b[0m \u001b[0mtime\u001b[0m\u001b[1;33m.\u001b[0m\u001b[0mtime\u001b[0m\u001b[1;33m(\u001b[0m\u001b[1;33m)\u001b[0m\u001b[1;33m)\u001b[0m\u001b[1;33m\u001b[0m\u001b[1;33m\u001b[0m\u001b[0m\n\u001b[1;32m-> 1116\u001b[1;33m         \u001b[0mrecord_map\u001b[0m \u001b[1;33m=\u001b[0m \u001b[0mself\u001b[0m\u001b[1;33m.\u001b[0m\u001b[0mpoll\u001b[0m\u001b[1;33m(\u001b[0m\u001b[0mtimeout_ms\u001b[0m\u001b[1;33m=\u001b[0m\u001b[0mtimeout_ms\u001b[0m\u001b[1;33m,\u001b[0m \u001b[0mupdate_offsets\u001b[0m\u001b[1;33m=\u001b[0m\u001b[1;32mFalse\u001b[0m\u001b[1;33m)\u001b[0m\u001b[1;33m\u001b[0m\u001b[1;33m\u001b[0m\u001b[0m\n\u001b[0m\u001b[0;32m   1117\u001b[0m         \u001b[1;32mfor\u001b[0m \u001b[0mtp\u001b[0m\u001b[1;33m,\u001b[0m \u001b[0mrecords\u001b[0m \u001b[1;32min\u001b[0m \u001b[0msix\u001b[0m\u001b[1;33m.\u001b[0m\u001b[0miteritems\u001b[0m\u001b[1;33m(\u001b[0m\u001b[0mrecord_map\u001b[0m\u001b[1;33m)\u001b[0m\u001b[1;33m:\u001b[0m\u001b[1;33m\u001b[0m\u001b[1;33m\u001b[0m\u001b[0m\n\u001b[0;32m   1118\u001b[0m             \u001b[1;31m# Generators are stateful, and it is possible that the tp / records\u001b[0m\u001b[1;33m\u001b[0m\u001b[1;33m\u001b[0m\u001b[1;33m\u001b[0m\u001b[0m\n",
      "\u001b[1;32mc:\\VS_Code\\Kafka\\kafka\\lib\\site-packages\\kafka\\consumer\\group.py\u001b[0m in \u001b[0;36mpoll\u001b[1;34m(self, timeout_ms, max_records, update_offsets)\u001b[0m\n\u001b[0;32m    653\u001b[0m         \u001b[0mremaining\u001b[0m \u001b[1;33m=\u001b[0m \u001b[0mtimeout_ms\u001b[0m\u001b[1;33m\u001b[0m\u001b[1;33m\u001b[0m\u001b[0m\n\u001b[0;32m    654\u001b[0m         \u001b[1;32mwhile\u001b[0m \u001b[1;32mTrue\u001b[0m\u001b[1;33m:\u001b[0m\u001b[1;33m\u001b[0m\u001b[1;33m\u001b[0m\u001b[0m\n\u001b[1;32m--> 655\u001b[1;33m             \u001b[0mrecords\u001b[0m \u001b[1;33m=\u001b[0m \u001b[0mself\u001b[0m\u001b[1;33m.\u001b[0m\u001b[0m_poll_once\u001b[0m\u001b[1;33m(\u001b[0m\u001b[0mremaining\u001b[0m\u001b[1;33m,\u001b[0m \u001b[0mmax_records\u001b[0m\u001b[1;33m,\u001b[0m \u001b[0mupdate_offsets\u001b[0m\u001b[1;33m=\u001b[0m\u001b[0mupdate_offsets\u001b[0m\u001b[1;33m)\u001b[0m\u001b[1;33m\u001b[0m\u001b[1;33m\u001b[0m\u001b[0m\n\u001b[0m\u001b[0;32m    656\u001b[0m             \u001b[1;32mif\u001b[0m \u001b[0mrecords\u001b[0m\u001b[1;33m:\u001b[0m\u001b[1;33m\u001b[0m\u001b[1;33m\u001b[0m\u001b[0m\n\u001b[0;32m    657\u001b[0m                 \u001b[1;32mreturn\u001b[0m \u001b[0mrecords\u001b[0m\u001b[1;33m\u001b[0m\u001b[1;33m\u001b[0m\u001b[0m\n",
      "\u001b[1;32mc:\\VS_Code\\Kafka\\kafka\\lib\\site-packages\\kafka\\consumer\\group.py\u001b[0m in \u001b[0;36m_poll_once\u001b[1;34m(self, timeout_ms, max_records, update_offsets)\u001b[0m\n\u001b[0;32m    700\u001b[0m \u001b[1;33m\u001b[0m\u001b[0m\n\u001b[0;32m    701\u001b[0m         \u001b[0mtimeout_ms\u001b[0m \u001b[1;33m=\u001b[0m \u001b[0mmin\u001b[0m\u001b[1;33m(\u001b[0m\u001b[0mtimeout_ms\u001b[0m\u001b[1;33m,\u001b[0m \u001b[0mself\u001b[0m\u001b[1;33m.\u001b[0m\u001b[0m_coordinator\u001b[0m\u001b[1;33m.\u001b[0m\u001b[0mtime_to_next_poll\u001b[0m\u001b[1;33m(\u001b[0m\u001b[1;33m)\u001b[0m \u001b[1;33m*\u001b[0m \u001b[1;36m1000\u001b[0m\u001b[1;33m)\u001b[0m\u001b[1;33m\u001b[0m\u001b[1;33m\u001b[0m\u001b[0m\n\u001b[1;32m--> 702\u001b[1;33m         \u001b[0mself\u001b[0m\u001b[1;33m.\u001b[0m\u001b[0m_client\u001b[0m\u001b[1;33m.\u001b[0m\u001b[0mpoll\u001b[0m\u001b[1;33m(\u001b[0m\u001b[0mtimeout_ms\u001b[0m\u001b[1;33m=\u001b[0m\u001b[0mtimeout_ms\u001b[0m\u001b[1;33m)\u001b[0m\u001b[1;33m\u001b[0m\u001b[1;33m\u001b[0m\u001b[0m\n\u001b[0m\u001b[0;32m    703\u001b[0m         \u001b[1;31m# after the long poll, we should check whether the group needs to rebalance\u001b[0m\u001b[1;33m\u001b[0m\u001b[1;33m\u001b[0m\u001b[1;33m\u001b[0m\u001b[0m\n\u001b[0;32m    704\u001b[0m         \u001b[1;31m# prior to returning data so that the group can stabilize faster\u001b[0m\u001b[1;33m\u001b[0m\u001b[1;33m\u001b[0m\u001b[1;33m\u001b[0m\u001b[0m\n",
      "\u001b[1;32mc:\\VS_Code\\Kafka\\kafka\\lib\\site-packages\\kafka\\client_async.py\u001b[0m in \u001b[0;36mpoll\u001b[1;34m(self, timeout_ms, future)\u001b[0m\n\u001b[0;32m    600\u001b[0m                     \u001b[0mtimeout\u001b[0m \u001b[1;33m=\u001b[0m \u001b[0mmax\u001b[0m\u001b[1;33m(\u001b[0m\u001b[1;36m0\u001b[0m\u001b[1;33m,\u001b[0m \u001b[0mtimeout\u001b[0m\u001b[1;33m)\u001b[0m  \u001b[1;31m# avoid negative timeouts\u001b[0m\u001b[1;33m\u001b[0m\u001b[1;33m\u001b[0m\u001b[0m\n\u001b[0;32m    601\u001b[0m \u001b[1;33m\u001b[0m\u001b[0m\n\u001b[1;32m--> 602\u001b[1;33m                 \u001b[0mself\u001b[0m\u001b[1;33m.\u001b[0m\u001b[0m_poll\u001b[0m\u001b[1;33m(\u001b[0m\u001b[0mtimeout\u001b[0m \u001b[1;33m/\u001b[0m \u001b[1;36m1000\u001b[0m\u001b[1;33m)\u001b[0m\u001b[1;33m\u001b[0m\u001b[1;33m\u001b[0m\u001b[0m\n\u001b[0m\u001b[0;32m    603\u001b[0m \u001b[1;33m\u001b[0m\u001b[0m\n\u001b[0;32m    604\u001b[0m             \u001b[1;31m# called without the lock to avoid deadlock potential\u001b[0m\u001b[1;33m\u001b[0m\u001b[1;33m\u001b[0m\u001b[1;33m\u001b[0m\u001b[0m\n",
      "\u001b[1;32mc:\\VS_Code\\Kafka\\kafka\\lib\\site-packages\\kafka\\client_async.py\u001b[0m in \u001b[0;36m_poll\u001b[1;34m(self, timeout)\u001b[0m\n\u001b[0;32m    632\u001b[0m \u001b[1;33m\u001b[0m\u001b[0m\n\u001b[0;32m    633\u001b[0m         \u001b[0mstart_select\u001b[0m \u001b[1;33m=\u001b[0m \u001b[0mtime\u001b[0m\u001b[1;33m.\u001b[0m\u001b[0mtime\u001b[0m\u001b[1;33m(\u001b[0m\u001b[1;33m)\u001b[0m\u001b[1;33m\u001b[0m\u001b[1;33m\u001b[0m\u001b[0m\n\u001b[1;32m--> 634\u001b[1;33m         \u001b[0mready\u001b[0m \u001b[1;33m=\u001b[0m \u001b[0mself\u001b[0m\u001b[1;33m.\u001b[0m\u001b[0m_selector\u001b[0m\u001b[1;33m.\u001b[0m\u001b[0mselect\u001b[0m\u001b[1;33m(\u001b[0m\u001b[0mtimeout\u001b[0m\u001b[1;33m)\u001b[0m\u001b[1;33m\u001b[0m\u001b[1;33m\u001b[0m\u001b[0m\n\u001b[0m\u001b[0;32m    635\u001b[0m         \u001b[0mend_select\u001b[0m \u001b[1;33m=\u001b[0m \u001b[0mtime\u001b[0m\u001b[1;33m.\u001b[0m\u001b[0mtime\u001b[0m\u001b[1;33m(\u001b[0m\u001b[1;33m)\u001b[0m\u001b[1;33m\u001b[0m\u001b[1;33m\u001b[0m\u001b[0m\n\u001b[0;32m    636\u001b[0m         \u001b[1;32mif\u001b[0m \u001b[0mself\u001b[0m\u001b[1;33m.\u001b[0m\u001b[0m_sensors\u001b[0m\u001b[1;33m:\u001b[0m\u001b[1;33m\u001b[0m\u001b[1;33m\u001b[0m\u001b[0m\n",
      "\u001b[1;32m~\\AppData\\Local\\Programs\\Python\\Python37\\lib\\selectors.py\u001b[0m in \u001b[0;36mselect\u001b[1;34m(self, timeout)\u001b[0m\n\u001b[0;32m    321\u001b[0m         \u001b[0mready\u001b[0m \u001b[1;33m=\u001b[0m \u001b[1;33m[\u001b[0m\u001b[1;33m]\u001b[0m\u001b[1;33m\u001b[0m\u001b[1;33m\u001b[0m\u001b[0m\n\u001b[0;32m    322\u001b[0m         \u001b[1;32mtry\u001b[0m\u001b[1;33m:\u001b[0m\u001b[1;33m\u001b[0m\u001b[1;33m\u001b[0m\u001b[0m\n\u001b[1;32m--> 323\u001b[1;33m             \u001b[0mr\u001b[0m\u001b[1;33m,\u001b[0m \u001b[0mw\u001b[0m\u001b[1;33m,\u001b[0m \u001b[0m_\u001b[0m \u001b[1;33m=\u001b[0m \u001b[0mself\u001b[0m\u001b[1;33m.\u001b[0m\u001b[0m_select\u001b[0m\u001b[1;33m(\u001b[0m\u001b[0mself\u001b[0m\u001b[1;33m.\u001b[0m\u001b[0m_readers\u001b[0m\u001b[1;33m,\u001b[0m \u001b[0mself\u001b[0m\u001b[1;33m.\u001b[0m\u001b[0m_writers\u001b[0m\u001b[1;33m,\u001b[0m \u001b[1;33m[\u001b[0m\u001b[1;33m]\u001b[0m\u001b[1;33m,\u001b[0m \u001b[0mtimeout\u001b[0m\u001b[1;33m)\u001b[0m\u001b[1;33m\u001b[0m\u001b[1;33m\u001b[0m\u001b[0m\n\u001b[0m\u001b[0;32m    324\u001b[0m         \u001b[1;32mexcept\u001b[0m \u001b[0mInterruptedError\u001b[0m\u001b[1;33m:\u001b[0m\u001b[1;33m\u001b[0m\u001b[1;33m\u001b[0m\u001b[0m\n\u001b[0;32m    325\u001b[0m             \u001b[1;32mreturn\u001b[0m \u001b[0mready\u001b[0m\u001b[1;33m\u001b[0m\u001b[1;33m\u001b[0m\u001b[0m\n",
      "\u001b[1;32m~\\AppData\\Local\\Programs\\Python\\Python37\\lib\\selectors.py\u001b[0m in \u001b[0;36m_select\u001b[1;34m(self, r, w, _, timeout)\u001b[0m\n\u001b[0;32m    312\u001b[0m     \u001b[1;32mif\u001b[0m \u001b[0msys\u001b[0m\u001b[1;33m.\u001b[0m\u001b[0mplatform\u001b[0m \u001b[1;33m==\u001b[0m \u001b[1;34m'win32'\u001b[0m\u001b[1;33m:\u001b[0m\u001b[1;33m\u001b[0m\u001b[1;33m\u001b[0m\u001b[0m\n\u001b[0;32m    313\u001b[0m         \u001b[1;32mdef\u001b[0m \u001b[0m_select\u001b[0m\u001b[1;33m(\u001b[0m\u001b[0mself\u001b[0m\u001b[1;33m,\u001b[0m \u001b[0mr\u001b[0m\u001b[1;33m,\u001b[0m \u001b[0mw\u001b[0m\u001b[1;33m,\u001b[0m \u001b[0m_\u001b[0m\u001b[1;33m,\u001b[0m \u001b[0mtimeout\u001b[0m\u001b[1;33m=\u001b[0m\u001b[1;32mNone\u001b[0m\u001b[1;33m)\u001b[0m\u001b[1;33m:\u001b[0m\u001b[1;33m\u001b[0m\u001b[1;33m\u001b[0m\u001b[0m\n\u001b[1;32m--> 314\u001b[1;33m             \u001b[0mr\u001b[0m\u001b[1;33m,\u001b[0m \u001b[0mw\u001b[0m\u001b[1;33m,\u001b[0m \u001b[0mx\u001b[0m \u001b[1;33m=\u001b[0m \u001b[0mselect\u001b[0m\u001b[1;33m.\u001b[0m\u001b[0mselect\u001b[0m\u001b[1;33m(\u001b[0m\u001b[0mr\u001b[0m\u001b[1;33m,\u001b[0m \u001b[0mw\u001b[0m\u001b[1;33m,\u001b[0m \u001b[0mw\u001b[0m\u001b[1;33m,\u001b[0m \u001b[0mtimeout\u001b[0m\u001b[1;33m)\u001b[0m\u001b[1;33m\u001b[0m\u001b[1;33m\u001b[0m\u001b[0m\n\u001b[0m\u001b[0;32m    315\u001b[0m             \u001b[1;32mreturn\u001b[0m \u001b[0mr\u001b[0m\u001b[1;33m,\u001b[0m \u001b[0mw\u001b[0m \u001b[1;33m+\u001b[0m \u001b[0mx\u001b[0m\u001b[1;33m,\u001b[0m \u001b[1;33m[\u001b[0m\u001b[1;33m]\u001b[0m\u001b[1;33m\u001b[0m\u001b[1;33m\u001b[0m\u001b[0m\n\u001b[0;32m    316\u001b[0m     \u001b[1;32melse\u001b[0m\u001b[1;33m:\u001b[0m\u001b[1;33m\u001b[0m\u001b[1;33m\u001b[0m\u001b[0m\n",
      "\u001b[1;31mKeyboardInterrupt\u001b[0m: "
     ]
    }
   ],
   "source": [
    "for msg in consumer:\n",
    "    print(\"Topic Name=%s,Message=%s\"%(msg.topic,msg.value))"
   ]
  },
  {
   "cell_type": "code",
   "execution_count": null,
   "metadata": {},
   "outputs": [],
   "source": []
  }
 ],
 "metadata": {
  "kernelspec": {
   "display_name": "Python 3.7.9 ('pdp': venv)",
   "language": "python",
   "name": "python3"
  },
  "language_info": {
   "codemirror_mode": {
    "name": "ipython",
    "version": 3
   },
   "file_extension": ".py",
   "mimetype": "text/x-python",
   "name": "python",
   "nbconvert_exporter": "python",
   "pygments_lexer": "ipython3",
   "version": "3.7.9"
  },
  "orig_nbformat": 4,
  "vscode": {
   "interpreter": {
    "hash": "adf9b87b736fe7ead912b8de7b38c59a67aaf023bff2799aed2a1c565be227ac"
   }
  }
 },
 "nbformat": 4,
 "nbformat_minor": 2
}
