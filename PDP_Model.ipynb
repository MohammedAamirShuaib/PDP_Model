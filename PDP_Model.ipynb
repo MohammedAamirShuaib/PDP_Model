{
 "cells": [
  {
   "cell_type": "code",
   "execution_count": 1,
   "metadata": {},
   "outputs": [],
   "source": [
    "import pandas as pd\n",
    "import requests\n",
    "import numpy as np\n",
    "import requests\n",
    "from bs4 import BeautifulSoup\n",
    "import re\n",
    "headers = {'User-Agent': \"Mozilla/5.0 (Windows NT 10.0; Win64; x64) AppleWebKit/537.36 (KHTML, like Gecko) Chrome/42.0.2311.135 Safari/537.36 Edge/12.246\"}"
   ]
  },
  {
   "cell_type": "code",
   "execution_count": 101,
   "metadata": {},
   "outputs": [],
   "source": [
    "def get_pdp(URL):\n",
    "    try:\n",
    "        f = open(\"keys.txt\", \"r\")\n",
    "        r_keys = f.readlines()\n",
    "        keys =[]\n",
    "        for i in r_keys:\n",
    "            keys.append(i[:-1])\n",
    "        if URL.count(\"google\",0,35) or URL.count(\"yahoo\",0,35) or URL.count(\"bing\",0,35) or URL.count(\"youtube\",0,35) or URL.count(\"facebook\",0,35) or URL.count(\"wikipedia\",0,35)> 0:\n",
    "            class_pdp = \"search_page\"\n",
    "        elif len(URL) < 35:\n",
    "            class_pdp = \"skipped\"\n",
    "        elif all(x in URL for x in ['amazon','/gp/aw/d/']) or \\\n",
    "            all(x in URL for x in ['amazon','/dp/']) or \\\n",
    "            all(x in URL for x in ['target','/p/']) or \\\n",
    "            all(x in URL for x in ['walmart','/ip/']) or \\\n",
    "            all(x in URL for x in ['walmart','track']):\n",
    "            class_pdp = \"YES\"\n",
    "        elif all(x in URL for x in ['amazon','/stores/']) or \\\n",
    "            all(x in URL for x in ['target','/b/']) or \\\n",
    "            all(x in URL for x in ['target','/c/']) or \\\n",
    "            all(x in URL for x in ['walmart','browse']) or \\\n",
    "            all(x in URL for x in ['walmart','/cp']) or \\\n",
    "            all(x in URL for x in ['target','searchTerm']) or \\\n",
    "            all(x in URL for x in ['walmart','search']) or \\\n",
    "            all(x in URL for x in ['amazon','/goldbox']) or \\\n",
    "            all(x in URL for x in ['amazon','/offers']) or \\\n",
    "            all(x in URL for x in ['amazon','/angebot']) or \\\n",
    "            all(x in URL for x in ['target','/top-deals']) or \\\n",
    "            all(x in URL for x in ['target','/circle']) or \\\n",
    "            all(x in URL for x in ['walmart','/m']) or \\\n",
    "            all(x in URL for x in ['walmart','/deals']) or \\\n",
    "            all(x in URL for x in ['amazon','Best-Sellers']) or \\\n",
    "            all(x in URL for x in ['amazon','/ask','/questions']) or \\\n",
    "            all(x in URL for x in ['amazon','/product-reviews/']) or \\\n",
    "            all(x in URL for x in ['amazon','/c/ref=mw_dp_buy_crt']) or \\\n",
    "            all(x in URL for x in ['amazon','/cart/']) or \\\n",
    "            all(x in URL for x in ['amazon','/huc/view.html?']) or \\\n",
    "            all(x in URL for x in ['target','/co-cart']) or \\\n",
    "            all(x in URL for x in ['target','/cart']) or \\\n",
    "            all(x in URL for x in ['amazon','bestsellers','Best-Sellers']):\n",
    "            class_pdp = \"Other_pages\"\n",
    "        else:\n",
    "            HEADERS = ({'User-Agent':'Mozilla/5.0 (X11; Linux x86_64)AppleWebKit/537.36 (KHTML, like Gecko)Chrome/44.0.2403.157 Safari/537.36','Accept-Language': 'en-US, en;q=0.5'})\n",
    "            webpage = requests.get(URL, headers=HEADERS, timeout=25)\n",
    "            soup = BeautifulSoup(webpage.content, \"html5lib\")\n",
    "            text = soup.find_all(text=True)\n",
    "            if text == None:\n",
    "                class_pdp = \"No Data\"\n",
    "            else:\n",
    "                new = []\n",
    "                for i in text:\n",
    "                    new.append(i.lower())\n",
    "                    mystr =\" \".join(new)\n",
    "                pdp = [i for i in new if i in keys]\n",
    "                if len(pdp) > 0 and len(pdp)< 10:\n",
    "                    class_pdp = \"YES\"\n",
    "                else:\n",
    "                    class_pdp = \"NO\"\n",
    "    except Exception as e:\n",
    "        print(e)\n",
    "        class_pdp = \"error or timeout\"\n",
    "    return class_pdp"
   ]
  },
  {
   "cell_type": "code",
   "execution_count": 111,
   "metadata": {},
   "outputs": [],
   "source": [
    "df = pd.read_csv('data1859.csv')\n",
    "url_list = df['URL'].to_list()\n",
    "urls = url_list[:10871]"
   ]
  },
  {
   "cell_type": "code",
   "execution_count": null,
   "metadata": {},
   "outputs": [],
   "source": [
    "for URL in urls:\n",
    "    pdp_tag = get_pdp(URL)\n",
    "    f = open(\"pdp_tags_2.txt\", \"a+\")\n",
    "    f.write(pdp_tag + \"\\n\")\n",
    "    f.close()"
   ]
  },
  {
   "cell_type": "code",
   "execution_count": 112,
   "metadata": {},
   "outputs": [
    {
     "data": {
      "text/plain": [
       "4593"
      ]
     },
     "execution_count": 112,
     "metadata": {},
     "output_type": "execute_result"
    }
   ],
   "source": [
    "f = open(\"pdp_tags_2.txt\", \"r\")\n",
    "pdp_tag = f.readlines()\n",
    "\n",
    "pdp =[]\n",
    "for i in pdp_tag:\n",
    "    pdp.append(i[:-1])\n",
    "\n",
    "len(pdp)"
   ]
  },
  {
   "cell_type": "code",
   "execution_count": 113,
   "metadata": {},
   "outputs": [],
   "source": [
    "df['PDP_tag'] = pdp\n",
    "df.to_csv('data1859_ped.csv', index=False)"
   ]
  },
  {
   "cell_type": "code",
   "execution_count": 106,
   "metadata": {},
   "outputs": [
    {
     "data": {
      "text/html": [
       "<div>\n",
       "<style scoped>\n",
       "    .dataframe tbody tr th:only-of-type {\n",
       "        vertical-align: middle;\n",
       "    }\n",
       "\n",
       "    .dataframe tbody tr th {\n",
       "        vertical-align: top;\n",
       "    }\n",
       "\n",
       "    .dataframe thead th {\n",
       "        text-align: right;\n",
       "    }\n",
       "</style>\n",
       "<table border=\"1\" class=\"dataframe\">\n",
       "  <thead>\n",
       "    <tr style=\"text-align: right;\">\n",
       "      <th></th>\n",
       "      <th>Path Analysis</th>\n",
       "      <th>PDP Flag</th>\n",
       "      <th>PDP_tag</th>\n",
       "    </tr>\n",
       "  </thead>\n",
       "  <tbody>\n",
       "    <tr>\n",
       "      <th>0</th>\n",
       "      <td>https://www.target.com/</td>\n",
       "      <td>0.0</td>\n",
       "      <td>skipped</td>\n",
       "    </tr>\n",
       "    <tr>\n",
       "      <th>1</th>\n",
       "      <td>https://www.target.com/s?searchTerm=hair+removal</td>\n",
       "      <td>0.0</td>\n",
       "      <td>Other_pages</td>\n",
       "    </tr>\n",
       "    <tr>\n",
       "      <th>2</th>\n",
       "      <td>https://www.target.com/p/spa-sciences-sima-son...</td>\n",
       "      <td>1.0</td>\n",
       "      <td>YES</td>\n",
       "    </tr>\n",
       "    <tr>\n",
       "      <th>3</th>\n",
       "      <td>https://www.amazon.com/s?crid=1TL9445LWNRYU&amp;k=...</td>\n",
       "      <td>0.0</td>\n",
       "      <td>NO</td>\n",
       "    </tr>\n",
       "    <tr>\n",
       "      <th>4</th>\n",
       "      <td>https://www.amazon.com/Philips-Norelco-Shaver-...</td>\n",
       "      <td>1.0</td>\n",
       "      <td>YES</td>\n",
       "    </tr>\n",
       "    <tr>\n",
       "      <th>...</th>\n",
       "      <td>...</td>\n",
       "      <td>...</td>\n",
       "      <td>...</td>\n",
       "    </tr>\n",
       "    <tr>\n",
       "      <th>7030</th>\n",
       "      <td>https://www.amazon.com/ap/signin?openid.assoc_...</td>\n",
       "      <td>0.0</td>\n",
       "      <td>NO</td>\n",
       "    </tr>\n",
       "    <tr>\n",
       "      <th>7031</th>\n",
       "      <td>https://www.amazon.com/Finishing-Touch-Flawles...</td>\n",
       "      <td>1.0</td>\n",
       "      <td>YES</td>\n",
       "    </tr>\n",
       "    <tr>\n",
       "      <th>7032</th>\n",
       "      <td>https://www.amazon.com/Finishing-Touch-Flawles...</td>\n",
       "      <td>1.0</td>\n",
       "      <td>YES</td>\n",
       "    </tr>\n",
       "    <tr>\n",
       "      <th>7033</th>\n",
       "      <td>https://www.amazon.com/Finishing-Touch-Flawles...</td>\n",
       "      <td>1.0</td>\n",
       "      <td>YES</td>\n",
       "    </tr>\n",
       "    <tr>\n",
       "      <th>7034</th>\n",
       "      <td>https://amazon.com/</td>\n",
       "      <td>0.0</td>\n",
       "      <td>skipped</td>\n",
       "    </tr>\n",
       "  </tbody>\n",
       "</table>\n",
       "<p>7035 rows × 3 columns</p>\n",
       "</div>"
      ],
      "text/plain": [
       "                                          Path Analysis  PDP Flag      PDP_tag\n",
       "0                               https://www.target.com/       0.0      skipped\n",
       "1      https://www.target.com/s?searchTerm=hair+removal       0.0  Other_pages\n",
       "2     https://www.target.com/p/spa-sciences-sima-son...       1.0          YES\n",
       "3     https://www.amazon.com/s?crid=1TL9445LWNRYU&k=...       0.0           NO\n",
       "4     https://www.amazon.com/Philips-Norelco-Shaver-...       1.0          YES\n",
       "...                                                 ...       ...          ...\n",
       "7030  https://www.amazon.com/ap/signin?openid.assoc_...       0.0           NO\n",
       "7031  https://www.amazon.com/Finishing-Touch-Flawles...       1.0          YES\n",
       "7032  https://www.amazon.com/Finishing-Touch-Flawles...       1.0          YES\n",
       "7033  https://www.amazon.com/Finishing-Touch-Flawles...       1.0          YES\n",
       "7034                                https://amazon.com/       0.0      skipped\n",
       "\n",
       "[7035 rows x 3 columns]"
      ]
     },
     "execution_count": 106,
     "metadata": {},
     "output_type": "execute_result"
    }
   ],
   "source": [
    "new_df"
   ]
  }
 ],
 "metadata": {
  "interpreter": {
   "hash": "bd3da95de56a9bf7269d84820fbf89058431490d18ca19746e3af9993dc19c22"
  },
  "kernelspec": {
   "display_name": "Python 3.7.9 ('AP': venv)",
   "language": "python",
   "name": "python3"
  },
  "language_info": {
   "codemirror_mode": {
    "name": "ipython",
    "version": 3
   },
   "file_extension": ".py",
   "mimetype": "text/x-python",
   "name": "python",
   "nbconvert_exporter": "python",
   "pygments_lexer": "ipython3",
   "version": "3.7.9"
  },
  "orig_nbformat": 4
 },
 "nbformat": 4,
 "nbformat_minor": 2
}
