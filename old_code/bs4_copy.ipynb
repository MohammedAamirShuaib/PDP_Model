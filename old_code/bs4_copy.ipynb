{
 "cells": [
  {
   "cell_type": "code",
   "execution_count": 1,
   "metadata": {},
   "outputs": [],
   "source": [
    "import pandas as pd\n",
    "import requests\n",
    "import numpy as np\n",
    "import requests\n",
    "from bs4 import BeautifulSoup\n",
    "import re\n",
    "\n",
    "headers = {'User-Agent': \"Mozilla/5.0 (Windows NT 10.0; Win64; x64) AppleWebKit/537.36 (KHTML, like Gecko) Chrome/42.0.2311.135 Safari/537.36 Edge/12.246\"}"
   ]
  },
  {
   "cell_type": "code",
   "execution_count": null,
   "metadata": {},
   "outputs": [],
   "source": []
  },
  {
   "cell_type": "code",
   "execution_count": 23,
   "metadata": {},
   "outputs": [
    {
     "name": "stdout",
     "output_type": "stream",
     "text": [
      "YES\n"
     ]
    }
   ],
   "source": [
    "\n",
    "URL =\"https://www.flaconi.de/pflege/veet/haarentfernungs-creme/veet-haarentfernungs-creme-trockene-haut-enthaarungscreme.html?gclid=EAIaIQobChMI3_C1-LjJ8AIVRhV7Ch1dZQt5EAQYAiABEgL3lvD_BwE&pla=6379037351.11797293728.117119903160.pla-1061595063316.#sku=80058937-100\"\n",
    "\n",
    "\n",
    "try:\n",
    "        if URL.count(\"google\",0,35) or URL.count(\"yahoo\",0,35) or URL.count(\"bing\",0,35) or URL.count(\"youtube\",0,35) or URL.count(\"facebook\",0,35) or URL.count(\"wikipedia\",0,35)> 0:\n",
    "            class_pdp = \"search_page\"\n",
    "        elif len(URL) < 35:\n",
    "            class_pdp = \"skipped\"\n",
    "        elif all(x in URL for x in ['amazon','/gp/aw/d/']) or \\\n",
    "            all(x in URL for x in ['amazon','/dp/']) or \\\n",
    "            all(x in URL for x in ['target','/p/']) or \\\n",
    "            all(x in URL for x in ['walmart','/ip/']) or \\\n",
    "            all(x in URL for x in ['walmart','track']):\n",
    "            class_pdp = \"YES\"\n",
    "        elif all(x in URL for x in ['amazon','/stores/']) or \\\n",
    "            all(x in URL for x in ['target','/b/']) or \\\n",
    "            all(x in URL for x in ['amazon','i=']) or \\\n",
    "            all(x in URL for x in ['target','/c/']) or \\\n",
    "            all(x in URL for x in ['walmart','browse']) or \\\n",
    "            all(x in URL for x in ['walmart','/cp']) or \\\n",
    "            all(x in URL for x in ['target','searchTerm']) or \\\n",
    "            all(x in URL for x in ['walmart','search']) or \\\n",
    "            all(x in URL for x in ['amazon','/goldbox']) or \\\n",
    "            all(x in URL for x in ['amazon','/offers']) or \\\n",
    "            all(x in URL for x in ['amazon','/angebot']) or \\\n",
    "            all(x in URL for x in ['target','/top-deals']) or \\\n",
    "            all(x in URL for x in ['target','/circle']) or \\\n",
    "            all(x in URL for x in ['walmart','/m']) or \\\n",
    "            all(x in URL for x in ['walmart','/deals']) or \\\n",
    "            all(x in URL for x in ['amazon','Best-Sellers']) or \\\n",
    "            all(x in URL for x in ['amazon','/ask','/questions']) or \\\n",
    "            all(x in URL for x in ['amazon','/product-reviews/']) or \\\n",
    "            all(x in URL for x in ['amazon','/c/ref=mw_dp_buy_crt']) or \\\n",
    "            all(x in URL for x in ['amazon','/cart/']) or \\\n",
    "            all(x in URL for x in ['amazon','/huc/view.html?']) or \\\n",
    "            all(x in URL for x in ['target','/co-cart']) or \\\n",
    "            all(x in URL for x in ['target','/cart']) or \\\n",
    "            all(x in URL for x in ['amazon','bestsellers','Best-Sellers']):\n",
    "            class_pdp = \"Other_pages\"\n",
    "        else:\n",
    "            HEADERS = ({'User-Agent':'Mozilla/5.0 (X11; Linux x86_64)AppleWebKit/537.36 (KHTML, like Gecko)Chrome/44.0.2403.157 Safari/537.36','Accept-Language': 'en-US, en;q=0.5'})\n",
    "            webpage = requests.get(URL, headers=HEADERS, timeout=25)\n",
    "            soup = BeautifulSoup(webpage.content, \"html5lib\")\n",
    "            text = soup.find_all(text=True)\n",
    "            if text == None:\n",
    "                class_pdp = \"No Data\"\n",
    "            else:\n",
    "                new = []\n",
    "                for i in text:\n",
    "                    new.append(i.lower())\n",
    "                    mystr =\" \".join(new)\n",
    "                pdp = [i for i in new if i == \"add to cart\" or i == \" add to cart \" or i == \"add to shipping\" or \n",
    "                i == \" add to shipping \" or i == \"add to basket\" or i == \" add to basket \" or i == \"buy now\" or \n",
    "                i == \" buy now \" or i == \"add item\" or i == \" add item \" or i == \"in the cart\" or i == \" in the cart \" or \n",
    "                i == \"description\" or i == \"item description\" or i == \"product description\" or i == \"about this product\" or \n",
    "                i == \"about this item\" or i == \"overview\"  or i == \"over view\" or i == \" add for shipping \" or i == \"add for shipping\" or i == \"in den warenkorb\"]\n",
    "                if len(pdp) > 0 and len(pdp)< 10:\n",
    "                    class_pdp = \"YES\"\n",
    "                elif mystr.count(\"add to basket\" or \"add to shipping\" or \"add to cart\" or \"buy now\" or \"add item\" or \"in the cart\" or \" add to cart \" or \" add to shipping \" or \" add to basket \" or \" buy now \" or \" add item \" or \" in the cart \" or \"add for shipping\" or \" add for shipping \" or \"in den warenkorb\")> 0 \\\n",
    "                    & mystr.count(\"add to basket\" or \"add to shipping\" or \"add to cart\" or \"buy now\" or \"add item\" or \"in the cart\" or \" add to cart \" or \" add to shipping \" or \" add to basket \" or \" buy now \" or \" add item \" or \" in the cart \" or \"add for shipping\" or \" add for shipping \" or \"in den warenkorb\")< 15:\n",
    "                    class_pdp = \"YES\"\n",
    "                else:\n",
    "                    class_pdp = \"NO\"\n",
    "except Exception as e:\n",
    "        print(e)\n",
    "        class_pdp = \"error or timeout\"\n",
    "print(class_pdp)\n",
    "\n",
    "    # f = open('pdp_check.txt', 'a+')\n",
    "    # f.write(pdp_check+\"\\n\")\n",
    "    # f.close()\n"
   ]
  },
  {
   "cell_type": "code",
   "execution_count": 21,
   "metadata": {},
   "outputs": [
    {
     "data": {
      "text/plain": [
       "'auf lager'"
      ]
     },
     "execution_count": 21,
     "metadata": {},
     "output_type": "execute_result"
    }
   ],
   "source": [
    "# find \"in den warenkorb\"\n"
   ]
  },
  {
   "cell_type": "code",
   "execution_count": 85,
   "metadata": {},
   "outputs": [
    {
     "data": {
      "text/plain": [
       "False"
      ]
     },
     "execution_count": 85,
     "metadata": {},
     "output_type": "execute_result"
    }
   ],
   "source": [
    "mystr.count(\"add to basket\" or \"add to shipping\" or \"add to cart\" or \"buy now\" or \"add item\" or \"in the cart\" or \" add to cart \" or \" add to shipping \" or \" add to basket \" or \" buy now \" or \" add item \" or \" in the cart \")>0 \\\n",
    "    & mystr.count(\"add to basket\" or \"add to shipping\" or \"add to cart\" or \"buy now\" or \"add item\" or \"in the cart\" or \" add to cart \" or \" add to shipping \" or \" add to basket \" or \" buy now \" or \" add item \" or \" in the cart \")< 15\n"
   ]
  },
  {
   "cell_type": "code",
   "execution_count": 86,
   "metadata": {},
   "outputs": [
    {
     "data": {
      "text/plain": [
       "0"
      ]
     },
     "execution_count": 86,
     "metadata": {},
     "output_type": "execute_result"
    }
   ],
   "source": [
    "mystr.count(\"add to basket\" or \"add to shipping\" or \"add to cart\" or \"buy now\" or \"add item\" or \"in the cart\" or \" add to cart \" or \" add to shipping \" or \" add to basket \" or \" buy now \" or \" add item \" or \" in the cart \")"
   ]
  },
  {
   "cell_type": "code",
   "execution_count": 69,
   "metadata": {},
   "outputs": [
    {
     "data": {
      "text/plain": [
       "0"
      ]
     },
     "execution_count": 69,
     "metadata": {},
     "output_type": "execute_result"
    }
   ],
   "source": [
    "new.count(\"add to basket\")"
   ]
  },
  {
   "cell_type": "code",
   "execution_count": 58,
   "metadata": {},
   "outputs": [
    {
     "data": {
      "text/plain": [
       "215"
      ]
     },
     "execution_count": 58,
     "metadata": {},
     "output_type": "execute_result"
    }
   ],
   "source": [
    "len(new)"
   ]
  },
  {
   "cell_type": "code",
   "execution_count": 59,
   "metadata": {},
   "outputs": [],
   "source": [
    "mystr =\" \".join(new)"
   ]
  },
  {
   "cell_type": "code",
   "execution_count": 60,
   "metadata": {},
   "outputs": [
    {
     "data": {
      "text/plain": [
       "0"
      ]
     },
     "execution_count": 60,
     "metadata": {},
     "output_type": "execute_result"
    }
   ],
   "source": [
    "mystr.count(\"add to basket\" or \"add to shipping\" or \"add to cart\" or \"buy now\" or \"add item\" or \"in the cart\" or \" add to cart \" or \" add to shipping \" or \" add to basket \" or \" buy now \" or \" add item \" or \" n the cart \")"
   ]
  },
  {
   "cell_type": "code",
   "execution_count": 63,
   "metadata": {},
   "outputs": [
    {
     "name": "stdout",
     "output_type": "stream",
     "text": [
      "[]\n"
     ]
    }
   ],
   "source": [
    "import re\n",
    "pattern=re.compile(r'add to basket') \n",
    "str_match = [x for x in new if re.search(' in the cart ', x)]\n",
    "print(str_match)"
   ]
  },
  {
   "cell_type": "code",
   "execution_count": 38,
   "metadata": {},
   "outputs": [
    {
     "data": {
      "text/plain": [
       "5"
      ]
     },
     "execution_count": 38,
     "metadata": {},
     "output_type": "execute_result"
    }
   ],
   "source": [
    "#find \"add to basket\" in new\n",
    "mystr.count(\"add to basket\"[,\"a\"[,\"t\"]])"
   ]
  },
  {
   "cell_type": "code",
   "execution_count": 39,
   "metadata": {},
   "outputs": [
    {
     "data": {
      "text/plain": [
       "5"
      ]
     },
     "execution_count": 39,
     "metadata": {},
     "output_type": "execute_result"
    }
   ],
   "source": [
    "count = sum(1 for match in re.finditer(r\"\\badd to basket\\b\", mystr))\n",
    "count"
   ]
  },
  {
   "cell_type": "code",
   "execution_count": 46,
   "metadata": {},
   "outputs": [
    {
     "data": {
      "text/plain": [
       "[]"
      ]
     },
     "execution_count": 46,
     "metadata": {},
     "output_type": "execute_result"
    }
   ],
   "source": [
    "count =[x for x in mystr if re.search(r\"\\add to basket\\b\", x)]\n",
    "count"
   ]
  },
  {
   "cell_type": "code",
   "execution_count": null,
   "metadata": {},
   "outputs": [],
   "source": [
    "x for x in new if re.search('add to basket', x"
   ]
  },
  {
   "cell_type": "code",
   "execution_count": 35,
   "metadata": {},
   "outputs": [
    {
     "name": "stdout",
     "output_type": "stream",
     "text": [
      "apple 0\n"
     ]
    }
   ],
   "source": [
    "wordcount=0\n",
    "my_word=\"apple\"\n",
    "for line in mystr:\n",
    "    if my_word in line.split():\n",
    "        wordcount += 1\n",
    "\n",
    "print (my_word, wordcount)"
   ]
  },
  {
   "cell_type": "code",
   "execution_count": 34,
   "metadata": {},
   "outputs": [
    {
     "name": "stdout",
     "output_type": "stream",
     "text": [
      "[]\n"
     ]
    }
   ],
   "source": [
    "test = list(filter(lambda x: 'add to basket' in x, mystr))\n",
    "print(test)"
   ]
  },
  {
   "cell_type": "code",
   "execution_count": 25,
   "metadata": {},
   "outputs": [
    {
     "name": "stdout",
     "output_type": "stream",
     "text": [
      "YES\n"
     ]
    }
   ],
   "source": [
    "if \"add to basket\" in mystr:\n",
    "    print(\"YES\")"
   ]
  },
  {
   "cell_type": "code",
   "execution_count": null,
   "metadata": {},
   "outputs": [],
   "source": []
  },
  {
   "cell_type": "code",
   "execution_count": null,
   "metadata": {},
   "outputs": [],
   "source": []
  },
  {
   "cell_type": "code",
   "execution_count": null,
   "metadata": {},
   "outputs": [],
   "source": []
  },
  {
   "cell_type": "code",
   "execution_count": null,
   "metadata": {},
   "outputs": [],
   "source": []
  },
  {
   "cell_type": "code",
   "execution_count": null,
   "metadata": {},
   "outputs": [],
   "source": []
  },
  {
   "cell_type": "code",
   "execution_count": null,
   "metadata": {},
   "outputs": [],
   "source": []
  }
 ],
 "metadata": {
  "kernelspec": {
   "display_name": "Python 3.7.9 ('kafka': venv)",
   "language": "python",
   "name": "python3"
  },
  "language_info": {
   "codemirror_mode": {
    "name": "ipython",
    "version": 3
   },
   "file_extension": ".py",
   "mimetype": "text/x-python",
   "name": "python",
   "nbconvert_exporter": "python",
   "pygments_lexer": "ipython3",
   "version": "3.7.9"
  },
  "orig_nbformat": 4,
  "vscode": {
   "interpreter": {
    "hash": "69ecb9509d58f00115465ee73f91e6e110352cc81d3c7fa92ac752c0fee64528"
   }
  }
 },
 "nbformat": 4,
 "nbformat_minor": 2
}
